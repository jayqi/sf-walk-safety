{
 "cells": [
  {
   "cell_type": "code",
   "execution_count": 1,
   "metadata": {
    "collapsed": true
   },
   "outputs": [],
   "source": [
    "import pandas as pd\n",
    "import numpy as np"
   ]
  },
  {
   "cell_type": "code",
   "execution_count": 3,
   "metadata": {
    "collapsed": false,
    "scrolled": true
   },
   "outputs": [
    {
     "name": "stderr",
     "output_type": "stream",
     "text": [
      "/Users/Jay/miniconda3/envs/sf-walk-safety/lib/python2.7/site-packages/IPython/core/interactiveshell.py:2825: DtypeWarning: Columns (26,29,30,32,33,34) have mixed types. Specify dtype option on import or set low_memory=False.\n",
      "  if self.run_code(code, result):\n"
     ]
    },
    {
     "data": {
      "text/plain": [
       "(59368, 75)"
      ]
     },
     "execution_count": 3,
     "metadata": {},
     "output_type": "execute_result"
    }
   ],
   "source": [
    "data = pd.DataFrame.from_csv('../rawdata/traffic-CollisionRecords.csv')\n",
    "data.shape"
   ]
  },
  {
   "cell_type": "code",
   "execution_count": 4,
   "metadata": {
    "collapsed": false,
    "scrolled": false
   },
   "outputs": [
    {
     "data": {
      "text/plain": [
       "ACCIDENT_YEAR                int64\n",
       "PROC_DATE                    int64\n",
       "JURIS                        int64\n",
       "COLLISION_DATE               int64\n",
       "COLLISION_TIME               int64\n",
       "OFFICER_ID                  object\n",
       "REPORTING_DISTRICT          object\n",
       "DAY_OF_WEEK                  int64\n",
       "CHP_SHIFT                    int64\n",
       "POPULATION                   int64\n",
       "CNTY_CITY_LOC                int64\n",
       "SPECIAL_COND                 int64\n",
       "BEAT_TYPE                    int64\n",
       "CHP_BEAT_TYPE                int64\n",
       "CITY_DIVISION_LAPD         float64\n",
       "CHP_BEAT_CLASS               int64\n",
       "BEAT_NUMBER                 object\n",
       "PRIMARY_RD                  object\n",
       "SECONDARY_RD                object\n",
       "DISTANCE                   float64\n",
       "DIRECTION                   object\n",
       "INTERSECTION                object\n",
       "WEATHER_1                   object\n",
       "WEATHER_2                   object\n",
       "STATE_HWY_IND               object\n",
       "CALTRANS_COUNTY             object\n",
       "CALTRANS_DISTRICT          float64\n",
       "STATE_ROUTE                float64\n",
       "ROUTE_SUFFIX                object\n",
       "POSTMILE_PREFIX             object\n",
       "                            ...   \n",
       "TYPE_OF_COLLISION           object\n",
       "MVIW                        object\n",
       "PED_ACTION                  object\n",
       "ROAD_SURFACE                object\n",
       "ROAD_COND_1                 object\n",
       "ROAD_COND_2                 object\n",
       "LIGHTING                    object\n",
       "CONTROL_DEVICE              object\n",
       "CHP_ROAD_TYPE                int64\n",
       "PEDESTRIAN_ACCIDENT         object\n",
       "BICYCLE_ACCIDENT            object\n",
       "MOTORCYCLE_ACCIDENT         object\n",
       "TRUCK_ACCIDENT              object\n",
       "NOT_PRIVATE_PROPERTY        object\n",
       "ALCOHOL_INVOLVED            object\n",
       "STWD_VEHTYPE_AT_FAULT       object\n",
       "CHP_VEHTYPE_AT_FAULT        object\n",
       "COUNT_SEVERE_INJ             int64\n",
       "COUNT_VISIBLE_INJ            int64\n",
       "COUNT_COMPLAINT_PAIN         int64\n",
       "COUNT_PED_KILLED             int64\n",
       "COUNT_PED_INJURED            int64\n",
       "COUNT_BICYCLIST_KILLED       int64\n",
       "COUNT_BICYCLIST_INJURED      int64\n",
       "COUNT_MC_KILLED              int64\n",
       "COUNT_MC_INJURED             int64\n",
       "PRIMARY_RAMP                object\n",
       "SECONDARY_RAMP              object\n",
       "LATITUDE                   float64\n",
       "LONGITUDE                  float64\n",
       "dtype: object"
      ]
     },
     "execution_count": 4,
     "metadata": {},
     "output_type": "execute_result"
    }
   ],
   "source": [
    "data.dtypes"
   ]
  },
  {
   "cell_type": "code",
   "execution_count": 5,
   "metadata": {
    "collapsed": false,
    "scrolled": true
   },
   "outputs": [
    {
     "data": {
      "text/html": [
       "<div>\n",
       "<table border=\"1\" class=\"dataframe\">\n",
       "  <thead>\n",
       "    <tr style=\"text-align: right;\">\n",
       "      <th></th>\n",
       "      <th>ACCIDENT_YEAR</th>\n",
       "      <th>PROC_DATE</th>\n",
       "      <th>JURIS</th>\n",
       "      <th>COLLISION_DATE</th>\n",
       "      <th>COLLISION_TIME</th>\n",
       "      <th>OFFICER_ID</th>\n",
       "      <th>REPORTING_DISTRICT</th>\n",
       "      <th>DAY_OF_WEEK</th>\n",
       "      <th>CHP_SHIFT</th>\n",
       "      <th>POPULATION</th>\n",
       "      <th>...</th>\n",
       "      <th>COUNT_PED_KILLED</th>\n",
       "      <th>COUNT_PED_INJURED</th>\n",
       "      <th>COUNT_BICYCLIST_KILLED</th>\n",
       "      <th>COUNT_BICYCLIST_INJURED</th>\n",
       "      <th>COUNT_MC_KILLED</th>\n",
       "      <th>COUNT_MC_INJURED</th>\n",
       "      <th>PRIMARY_RAMP</th>\n",
       "      <th>SECONDARY_RAMP</th>\n",
       "      <th>LATITUDE</th>\n",
       "      <th>LONGITUDE</th>\n",
       "    </tr>\n",
       "    <tr>\n",
       "      <th>CASE_ID</th>\n",
       "      <th></th>\n",
       "      <th></th>\n",
       "      <th></th>\n",
       "      <th></th>\n",
       "      <th></th>\n",
       "      <th></th>\n",
       "      <th></th>\n",
       "      <th></th>\n",
       "      <th></th>\n",
       "      <th></th>\n",
       "      <th></th>\n",
       "      <th></th>\n",
       "      <th></th>\n",
       "      <th></th>\n",
       "      <th></th>\n",
       "      <th></th>\n",
       "      <th></th>\n",
       "      <th></th>\n",
       "      <th></th>\n",
       "      <th></th>\n",
       "      <th></th>\n",
       "    </tr>\n",
       "  </thead>\n",
       "  <tbody>\n",
       "    <tr>\n",
       "      <th>598382</th>\n",
       "      <td>2003</td>\n",
       "      <td>20030828</td>\n",
       "      <td>3801</td>\n",
       "      <td>20030104</td>\n",
       "      <td>1205</td>\n",
       "      <td>NaN</td>\n",
       "      <td>NaN</td>\n",
       "      <td>6</td>\n",
       "      <td>5</td>\n",
       "      <td>7</td>\n",
       "      <td>...</td>\n",
       "      <td>0</td>\n",
       "      <td>0</td>\n",
       "      <td>0</td>\n",
       "      <td>0</td>\n",
       "      <td>0</td>\n",
       "      <td>0</td>\n",
       "      <td>-</td>\n",
       "      <td>-</td>\n",
       "      <td>NaN</td>\n",
       "      <td>NaN</td>\n",
       "    </tr>\n",
       "    <tr>\n",
       "      <th>629959</th>\n",
       "      <td>2003</td>\n",
       "      <td>20030428</td>\n",
       "      <td>3801</td>\n",
       "      <td>20030101</td>\n",
       "      <td>2338</td>\n",
       "      <td>4193</td>\n",
       "      <td>NaN</td>\n",
       "      <td>3</td>\n",
       "      <td>5</td>\n",
       "      <td>7</td>\n",
       "      <td>...</td>\n",
       "      <td>0</td>\n",
       "      <td>0</td>\n",
       "      <td>0</td>\n",
       "      <td>0</td>\n",
       "      <td>0</td>\n",
       "      <td>0</td>\n",
       "      <td>-</td>\n",
       "      <td>-</td>\n",
       "      <td>NaN</td>\n",
       "      <td>NaN</td>\n",
       "    </tr>\n",
       "    <tr>\n",
       "      <th>652822</th>\n",
       "      <td>2003</td>\n",
       "      <td>20030606</td>\n",
       "      <td>3801</td>\n",
       "      <td>20030207</td>\n",
       "      <td>800</td>\n",
       "      <td>NaN</td>\n",
       "      <td>NaN</td>\n",
       "      <td>5</td>\n",
       "      <td>5</td>\n",
       "      <td>7</td>\n",
       "      <td>...</td>\n",
       "      <td>0</td>\n",
       "      <td>0</td>\n",
       "      <td>0</td>\n",
       "      <td>0</td>\n",
       "      <td>0</td>\n",
       "      <td>0</td>\n",
       "      <td>-</td>\n",
       "      <td>-</td>\n",
       "      <td>NaN</td>\n",
       "      <td>NaN</td>\n",
       "    </tr>\n",
       "    <tr>\n",
       "      <th>662574</th>\n",
       "      <td>2003</td>\n",
       "      <td>20030715</td>\n",
       "      <td>3801</td>\n",
       "      <td>20030113</td>\n",
       "      <td>1700</td>\n",
       "      <td>27</td>\n",
       "      <td>NaN</td>\n",
       "      <td>1</td>\n",
       "      <td>5</td>\n",
       "      <td>7</td>\n",
       "      <td>...</td>\n",
       "      <td>0</td>\n",
       "      <td>1</td>\n",
       "      <td>0</td>\n",
       "      <td>0</td>\n",
       "      <td>0</td>\n",
       "      <td>0</td>\n",
       "      <td>-</td>\n",
       "      <td>-</td>\n",
       "      <td>NaN</td>\n",
       "      <td>NaN</td>\n",
       "    </tr>\n",
       "    <tr>\n",
       "      <th>694728</th>\n",
       "      <td>2003</td>\n",
       "      <td>20030529</td>\n",
       "      <td>3801</td>\n",
       "      <td>20030228</td>\n",
       "      <td>1800</td>\n",
       "      <td>156</td>\n",
       "      <td>B</td>\n",
       "      <td>5</td>\n",
       "      <td>5</td>\n",
       "      <td>7</td>\n",
       "      <td>...</td>\n",
       "      <td>0</td>\n",
       "      <td>0</td>\n",
       "      <td>0</td>\n",
       "      <td>0</td>\n",
       "      <td>0</td>\n",
       "      <td>0</td>\n",
       "      <td>-</td>\n",
       "      <td>-</td>\n",
       "      <td>NaN</td>\n",
       "      <td>NaN</td>\n",
       "    </tr>\n",
       "  </tbody>\n",
       "</table>\n",
       "<p>5 rows × 75 columns</p>\n",
       "</div>"
      ],
      "text/plain": [
       "         ACCIDENT_YEAR  PROC_DATE  JURIS  COLLISION_DATE  COLLISION_TIME  \\\n",
       "CASE_ID                                                                    \n",
       "598382            2003   20030828   3801        20030104            1205   \n",
       "629959            2003   20030428   3801        20030101            2338   \n",
       "652822            2003   20030606   3801        20030207             800   \n",
       "662574            2003   20030715   3801        20030113            1700   \n",
       "694728            2003   20030529   3801        20030228            1800   \n",
       "\n",
       "        OFFICER_ID REPORTING_DISTRICT  DAY_OF_WEEK  CHP_SHIFT  POPULATION  \\\n",
       "CASE_ID                                                                     \n",
       "598382         NaN                NaN            6          5           7   \n",
       "629959        4193                NaN            3          5           7   \n",
       "652822         NaN                NaN            5          5           7   \n",
       "662574          27                NaN            1          5           7   \n",
       "694728         156                  B            5          5           7   \n",
       "\n",
       "           ...      COUNT_PED_KILLED  COUNT_PED_INJURED  \\\n",
       "CASE_ID    ...                                            \n",
       "598382     ...                     0                  0   \n",
       "629959     ...                     0                  0   \n",
       "652822     ...                     0                  0   \n",
       "662574     ...                     0                  1   \n",
       "694728     ...                     0                  0   \n",
       "\n",
       "         COUNT_BICYCLIST_KILLED  COUNT_BICYCLIST_INJURED  COUNT_MC_KILLED  \\\n",
       "CASE_ID                                                                     \n",
       "598382                        0                        0                0   \n",
       "629959                        0                        0                0   \n",
       "652822                        0                        0                0   \n",
       "662574                        0                        0                0   \n",
       "694728                        0                        0                0   \n",
       "\n",
       "         COUNT_MC_INJURED PRIMARY_RAMP SECONDARY_RAMP LATITUDE  LONGITUDE  \n",
       "CASE_ID                                                                    \n",
       "598382                  0            -              -      NaN        NaN  \n",
       "629959                  0            -              -      NaN        NaN  \n",
       "652822                  0            -              -      NaN        NaN  \n",
       "662574                  0            -              -      NaN        NaN  \n",
       "694728                  0            -              -      NaN        NaN  \n",
       "\n",
       "[5 rows x 75 columns]"
      ]
     },
     "execution_count": 5,
     "metadata": {},
     "output_type": "execute_result"
    }
   ],
   "source": [
    "data.head(5)"
   ]
  },
  {
   "cell_type": "code",
   "execution_count": 6,
   "metadata": {
    "collapsed": false
   },
   "outputs": [
    {
     "data": {
      "text/plain": [
       "COLLISION_DATE             int64\n",
       "COLLISION_TIME             int64\n",
       "DAY_OF_WEEK                int64\n",
       "BEAT_TYPE                  int64\n",
       "CHP_BEAT_TYPE              int64\n",
       "PRIMARY_RD                object\n",
       "SECONDARY_RD              object\n",
       "INTERSECTION              object\n",
       "WEATHER_1                 object\n",
       "WEATHER_2                 object\n",
       "LOCATION_TYPE             object\n",
       "PRIMARY_COLL_FACTOR       object\n",
       "PCF_VIOL_CATEGORY         object\n",
       "HIT_AND_RUN               object\n",
       "TYPE_OF_COLLISION         object\n",
       "PED_ACTION                object\n",
       "ROAD_SURFACE              object\n",
       "ROAD_COND_1               object\n",
       "ROAD_COND_2               object\n",
       "LIGHTING                  object\n",
       "PEDESTRIAN_ACCIDENT       object\n",
       "ALCOHOL_INVOLVED          object\n",
       "STWD_VEHTYPE_AT_FAULT     object\n",
       "CHP_VEHTYPE_AT_FAULT      object\n",
       "COUNT_PED_KILLED           int64\n",
       "COUNT_PED_INJURED          int64\n",
       "LATITUDE                 float64\n",
       "LONGITUDE                float64\n",
       "dtype: object"
      ]
     },
     "execution_count": 6,
     "metadata": {},
     "output_type": "execute_result"
    }
   ],
   "source": [
    "dropcols = [\n",
    "    'ACCIDENT_YEAR',\n",
    "    'PROC_DATE',\n",
    "    'JURIS',\n",
    "    'OFFICER_ID',\n",
    "    'REPORTING_DISTRICT',\n",
    "    'CHP_SHIFT',\n",
    "    'POPULATION',\n",
    "    'CNTY_CITY_LOC',\n",
    "    'SPECIAL_COND',\n",
    "    'CITY_DIVISION_LAPD',\n",
    "    'CHP_BEAT_CLASS',\n",
    "    'BEAT_NUMBER',\n",
    "    'DISTANCE',\n",
    "    'DIRECTION',\n",
    "    'STATE_HWY_IND',\n",
    "    'CALTRANS_COUNTY',\n",
    "    'CALTRANS_DISTRICT',\n",
    "    'STATE_ROUTE',\n",
    "    'ROUTE_SUFFIX',\n",
    "    'POSTMILE_PREFIX',\n",
    "    'POSTMILE',\n",
    "    'RAMP_INTERSECTION',\n",
    "    'SIDE_OF_HWY',\n",
    "    'TOW_AWAY',\n",
    "    'COLLISION_SEVERITY',\n",
    "    'NUMBER_KILLED',\n",
    "    'NUMBER_INJURED',\n",
    "    'PARTY_COUNT',\n",
    "    'PCF_CODE_OF_VIOL',\n",
    "    'PCF_VIOLATION',\n",
    "    'PCF_VIOL_SUBSECTION',\n",
    "    'MVIW',\n",
    "    'CONTROL_DEVICE',\n",
    "    'CHP_ROAD_TYPE',\n",
    "    'BICYCLE_ACCIDENT',\n",
    "    'MOTORCYCLE_ACCIDENT',\n",
    "    'TRUCK_ACCIDENT',\n",
    "    'NOT_PRIVATE_PROPERTY',\n",
    "    'COUNT_SEVERE_INJ',\n",
    "    'COUNT_VISIBLE_INJ',\n",
    "    'COUNT_COMPLAINT_PAIN',\n",
    "    'COUNT_BICYCLIST_KILLED',\n",
    "    'COUNT_BICYCLIST_INJURED',\n",
    "    'COUNT_MC_KILLED',\n",
    "    'COUNT_MC_INJURED',\n",
    "    'PRIMARY_RAMP',\n",
    "    'SECONDARY_RAMP'\n",
    "]\n",
    "\n",
    "data2 = data.drop(dropcols,axis=1)\n",
    "data2.dtypes"
   ]
  },
  {
   "cell_type": "code",
   "execution_count": 7,
   "metadata": {
    "collapsed": false,
    "scrolled": true
   },
   "outputs": [
    {
     "data": {
      "text/plain": [
       "CASE_ID\n",
       "598382    A\n",
       "629959    A\n",
       "652822    A\n",
       "662574    D\n",
       "694728    A\n",
       "Name: PED_ACTION, dtype: object"
      ]
     },
     "execution_count": 7,
     "metadata": {},
     "output_type": "execute_result"
    }
   ],
   "source": [
    "data2.head(5)['PED_ACTION']"
   ]
  },
  {
   "cell_type": "code",
   "execution_count": 9,
   "metadata": {
    "collapsed": false,
    "scrolled": true
   },
   "outputs": [
    {
     "data": {
      "text/plain": [
       "(10479, 28)"
      ]
     },
     "execution_count": 9,
     "metadata": {},
     "output_type": "execute_result"
    }
   ],
   "source": [
    "data3 = data2[(pd.notnull(data2['PEDESTRIAN_ACCIDENT']))]\n",
    "data3.shape"
   ]
  },
  {
   "cell_type": "code",
   "execution_count": 13,
   "metadata": {
    "collapsed": false
   },
   "outputs": [
    {
     "ename": "KeyError",
     "evalue": "'None of [[0]] are in the [index]'",
     "output_type": "error",
     "traceback": [
      "\u001b[0;31m---------------------------------------------------------------------------\u001b[0m",
      "\u001b[0;31mKeyError\u001b[0m                                  Traceback (most recent call last)",
      "\u001b[0;32m<ipython-input-13-337f405065ab>\u001b[0m in \u001b[0;36m<module>\u001b[0;34m()\u001b[0m\n\u001b[0;32m----> 1\u001b[0;31m \u001b[0mdata3\u001b[0m\u001b[0;34m.\u001b[0m\u001b[0mloc\u001b[0m\u001b[0;34m[\u001b[0m\u001b[0;34m[\u001b[0m\u001b[0;36m0\u001b[0m\u001b[0;34m]\u001b[0m\u001b[0;34m,\u001b[0m\u001b[0;34m[\u001b[0m\u001b[0;34m'PRIMARY_RD'\u001b[0m\u001b[0;34m]\u001b[0m\u001b[0;34m]\u001b[0m\u001b[0;34m\u001b[0m\u001b[0m\n\u001b[0m",
      "\u001b[0;32m/Users/Jay/miniconda3/envs/sf-walk-safety/lib/python2.7/site-packages/pandas/core/indexing.pyc\u001b[0m in \u001b[0;36m__getitem__\u001b[0;34m(self, key)\u001b[0m\n\u001b[1;32m   1282\u001b[0m     \u001b[0;32mdef\u001b[0m \u001b[0m__getitem__\u001b[0m\u001b[0;34m(\u001b[0m\u001b[0mself\u001b[0m\u001b[0;34m,\u001b[0m \u001b[0mkey\u001b[0m\u001b[0;34m)\u001b[0m\u001b[0;34m:\u001b[0m\u001b[0;34m\u001b[0m\u001b[0m\n\u001b[1;32m   1283\u001b[0m         \u001b[0;32mif\u001b[0m \u001b[0mtype\u001b[0m\u001b[0;34m(\u001b[0m\u001b[0mkey\u001b[0m\u001b[0;34m)\u001b[0m \u001b[0;32mis\u001b[0m \u001b[0mtuple\u001b[0m\u001b[0;34m:\u001b[0m\u001b[0;34m\u001b[0m\u001b[0m\n\u001b[0;32m-> 1284\u001b[0;31m             \u001b[0;32mreturn\u001b[0m \u001b[0mself\u001b[0m\u001b[0;34m.\u001b[0m\u001b[0m_getitem_tuple\u001b[0m\u001b[0;34m(\u001b[0m\u001b[0mkey\u001b[0m\u001b[0;34m)\u001b[0m\u001b[0;34m\u001b[0m\u001b[0m\n\u001b[0m\u001b[1;32m   1285\u001b[0m         \u001b[0;32melse\u001b[0m\u001b[0;34m:\u001b[0m\u001b[0;34m\u001b[0m\u001b[0m\n\u001b[1;32m   1286\u001b[0m             \u001b[0;32mreturn\u001b[0m \u001b[0mself\u001b[0m\u001b[0;34m.\u001b[0m\u001b[0m_getitem_axis\u001b[0m\u001b[0;34m(\u001b[0m\u001b[0mkey\u001b[0m\u001b[0;34m,\u001b[0m \u001b[0maxis\u001b[0m\u001b[0;34m=\u001b[0m\u001b[0;36m0\u001b[0m\u001b[0;34m)\u001b[0m\u001b[0;34m\u001b[0m\u001b[0m\n",
      "\u001b[0;32m/Users/Jay/miniconda3/envs/sf-walk-safety/lib/python2.7/site-packages/pandas/core/indexing.pyc\u001b[0m in \u001b[0;36m_getitem_tuple\u001b[0;34m(self, tup)\u001b[0m\n\u001b[1;32m    783\u001b[0m \u001b[0;34m\u001b[0m\u001b[0m\n\u001b[1;32m    784\u001b[0m         \u001b[0;31m# no multi-index, so validate all of the indexers\u001b[0m\u001b[0;34m\u001b[0m\u001b[0;34m\u001b[0m\u001b[0m\n\u001b[0;32m--> 785\u001b[0;31m         \u001b[0mself\u001b[0m\u001b[0;34m.\u001b[0m\u001b[0m_has_valid_tuple\u001b[0m\u001b[0;34m(\u001b[0m\u001b[0mtup\u001b[0m\u001b[0;34m)\u001b[0m\u001b[0;34m\u001b[0m\u001b[0m\n\u001b[0m\u001b[1;32m    786\u001b[0m \u001b[0;34m\u001b[0m\u001b[0m\n\u001b[1;32m    787\u001b[0m         \u001b[0;31m# ugly hack for GH #836\u001b[0m\u001b[0;34m\u001b[0m\u001b[0;34m\u001b[0m\u001b[0m\n",
      "\u001b[0;32m/Users/Jay/miniconda3/envs/sf-walk-safety/lib/python2.7/site-packages/pandas/core/indexing.pyc\u001b[0m in \u001b[0;36m_has_valid_tuple\u001b[0;34m(self, key)\u001b[0m\n\u001b[1;32m    136\u001b[0m             \u001b[0;32mif\u001b[0m \u001b[0mi\u001b[0m \u001b[0;34m>=\u001b[0m \u001b[0mself\u001b[0m\u001b[0;34m.\u001b[0m\u001b[0mobj\u001b[0m\u001b[0;34m.\u001b[0m\u001b[0mndim\u001b[0m\u001b[0;34m:\u001b[0m\u001b[0;34m\u001b[0m\u001b[0m\n\u001b[1;32m    137\u001b[0m                 \u001b[0;32mraise\u001b[0m \u001b[0mIndexingError\u001b[0m\u001b[0;34m(\u001b[0m\u001b[0;34m'Too many indexers'\u001b[0m\u001b[0;34m)\u001b[0m\u001b[0;34m\u001b[0m\u001b[0m\n\u001b[0;32m--> 138\u001b[0;31m             \u001b[0;32mif\u001b[0m \u001b[0;32mnot\u001b[0m \u001b[0mself\u001b[0m\u001b[0;34m.\u001b[0m\u001b[0m_has_valid_type\u001b[0m\u001b[0;34m(\u001b[0m\u001b[0mk\u001b[0m\u001b[0;34m,\u001b[0m \u001b[0mi\u001b[0m\u001b[0;34m)\u001b[0m\u001b[0;34m:\u001b[0m\u001b[0;34m\u001b[0m\u001b[0m\n\u001b[0m\u001b[1;32m    139\u001b[0m                 raise ValueError(\"Location based indexing can only have [%s] \"\n\u001b[1;32m    140\u001b[0m                                  \"types\" % self._valid_types)\n",
      "\u001b[0;32m/Users/Jay/miniconda3/envs/sf-walk-safety/lib/python2.7/site-packages/pandas/core/indexing.pyc\u001b[0m in \u001b[0;36m_has_valid_type\u001b[0;34m(self, key, axis)\u001b[0m\n\u001b[1;32m   1365\u001b[0m \u001b[0;34m\u001b[0m\u001b[0m\n\u001b[1;32m   1366\u001b[0m                 raise KeyError(\"None of [%s] are in the [%s]\" %\n\u001b[0;32m-> 1367\u001b[0;31m                                (key, self.obj._get_axis_name(axis)))\n\u001b[0m\u001b[1;32m   1368\u001b[0m \u001b[0;34m\u001b[0m\u001b[0m\n\u001b[1;32m   1369\u001b[0m             \u001b[0;32mreturn\u001b[0m \u001b[0mTrue\u001b[0m\u001b[0;34m\u001b[0m\u001b[0m\n",
      "\u001b[0;31mKeyError\u001b[0m: 'None of [[0]] are in the [index]'"
     ]
    }
   ],
   "source": [
    "data3.loc[[0],['PRIMARY_RD']]"
   ]
  },
  {
   "cell_type": "code",
   "execution_count": 18,
   "metadata": {
    "collapsed": false,
    "scrolled": true
   },
   "outputs": [
    {
     "name": "stdout",
     "output_type": "stream",
     "text": [
      "JUNIPERO SERRA BL at 19TH AV, San Francisco, CA\n",
      "(37.7171109, -122.4726413)\n"
     ]
    }
   ],
   "source": [
    "from geopy.geocoders import GoogleV3\n",
    "\n",
    "a = 'JUNIPERO SERRA BL'\n",
    "b = '19TH AV'\n",
    "foo = a+' at '+b+', San Francisco, CA'\n",
    "print foo\n",
    "g = GoogleV3()\n",
    "location = g.geocode(foo)\n",
    "print((location.latitude, location.longitude))"
   ]
  },
  {
   "cell_type": "code",
   "execution_count": 15,
   "metadata": {
    "collapsed": false
   },
   "outputs": [
    {
     "data": {
      "text/plain": [
       "NoneType"
      ]
     },
     "execution_count": 15,
     "metadata": {},
     "output_type": "execute_result"
    }
   ],
   "source": [
    "type(location)"
   ]
  },
  {
   "cell_type": "code",
   "execution_count": 36,
   "metadata": {
    "collapsed": false
   },
   "outputs": [],
   "source": [
    "data3 = data2[\n",
    "    (pd.notnull(data2['PEDESTRIAN_ACCIDENT']).as_matrix()\n",
    "    & pd.notnull(data2['LATITUDE']).as_matrix()\n",
    "    & pd.notnull(data2['LONGITUDE']).as_matrix())\n",
    "    ]"
   ]
  },
  {
   "cell_type": "code",
   "execution_count": 37,
   "metadata": {
    "collapsed": false
   },
   "outputs": [
    {
     "data": {
      "text/plain": [
       "(5, 28)"
      ]
     },
     "execution_count": 37,
     "metadata": {},
     "output_type": "execute_result"
    }
   ],
   "source": [
    "data3.shape"
   ]
  },
  {
   "cell_type": "code",
   "execution_count": 38,
   "metadata": {
    "collapsed": false,
    "scrolled": true
   },
   "outputs": [
    {
     "data": {
      "text/html": [
       "<div>\n",
       "<table border=\"1\" class=\"dataframe\">\n",
       "  <thead>\n",
       "    <tr style=\"text-align: right;\">\n",
       "      <th></th>\n",
       "      <th>COLLISION_DATE</th>\n",
       "      <th>COLLISION_TIME</th>\n",
       "      <th>DAY_OF_WEEK</th>\n",
       "      <th>BEAT_TYPE</th>\n",
       "      <th>CHP_BEAT_TYPE</th>\n",
       "      <th>PRIMARY_RD</th>\n",
       "      <th>SECONDARY_RD</th>\n",
       "      <th>INTERSECTION</th>\n",
       "      <th>WEATHER_1</th>\n",
       "      <th>WEATHER_2</th>\n",
       "      <th>...</th>\n",
       "      <th>ROAD_COND_2</th>\n",
       "      <th>LIGHTING</th>\n",
       "      <th>PEDESTRIAN_ACCIDENT</th>\n",
       "      <th>ALCOHOL_INVOLVED</th>\n",
       "      <th>STWD_VEHTYPE_AT_FAULT</th>\n",
       "      <th>CHP_VEHTYPE_AT_FAULT</th>\n",
       "      <th>COUNT_PED_KILLED</th>\n",
       "      <th>COUNT_PED_INJURED</th>\n",
       "      <th>LATITUDE</th>\n",
       "      <th>LONGITUDE</th>\n",
       "    </tr>\n",
       "    <tr>\n",
       "      <th>CASE_ID</th>\n",
       "      <th></th>\n",
       "      <th></th>\n",
       "      <th></th>\n",
       "      <th></th>\n",
       "      <th></th>\n",
       "      <th></th>\n",
       "      <th></th>\n",
       "      <th></th>\n",
       "      <th></th>\n",
       "      <th></th>\n",
       "      <th></th>\n",
       "      <th></th>\n",
       "      <th></th>\n",
       "      <th></th>\n",
       "      <th></th>\n",
       "      <th></th>\n",
       "      <th></th>\n",
       "      <th></th>\n",
       "      <th></th>\n",
       "      <th></th>\n",
       "      <th></th>\n",
       "    </tr>\n",
       "  </thead>\n",
       "  <tbody>\n",
       "    <tr>\n",
       "      <th>5564078</th>\n",
       "      <td>20120917</td>\n",
       "      <td>844</td>\n",
       "      <td>1</td>\n",
       "      <td>0</td>\n",
       "      <td>0</td>\n",
       "      <td>JUNIPERO SERRA BL</td>\n",
       "      <td>19TH AV</td>\n",
       "      <td>N</td>\n",
       "      <td>A</td>\n",
       "      <td>-</td>\n",
       "      <td>...</td>\n",
       "      <td>-</td>\n",
       "      <td>A</td>\n",
       "      <td>Y</td>\n",
       "      <td>NaN</td>\n",
       "      <td>A</td>\n",
       "      <td>01</td>\n",
       "      <td>0</td>\n",
       "      <td>1</td>\n",
       "      <td>37.71542</td>\n",
       "      <td>122.47193</td>\n",
       "    </tr>\n",
       "    <tr>\n",
       "      <th>5907237</th>\n",
       "      <td>20121115</td>\n",
       "      <td>200</td>\n",
       "      <td>4</td>\n",
       "      <td>0</td>\n",
       "      <td>0</td>\n",
       "      <td>15TH ST</td>\n",
       "      <td>MISSION ST</td>\n",
       "      <td>N</td>\n",
       "      <td>B</td>\n",
       "      <td>-</td>\n",
       "      <td>...</td>\n",
       "      <td>-</td>\n",
       "      <td>C</td>\n",
       "      <td>Y</td>\n",
       "      <td>Y</td>\n",
       "      <td>A</td>\n",
       "      <td>07</td>\n",
       "      <td>0</td>\n",
       "      <td>1</td>\n",
       "      <td>37.76662</td>\n",
       "      <td>122.41936</td>\n",
       "    </tr>\n",
       "    <tr>\n",
       "      <th>6365111</th>\n",
       "      <td>20140123</td>\n",
       "      <td>1928</td>\n",
       "      <td>4</td>\n",
       "      <td>0</td>\n",
       "      <td>0</td>\n",
       "      <td>MISSION ST</td>\n",
       "      <td>6TH ST</td>\n",
       "      <td>Y</td>\n",
       "      <td>A</td>\n",
       "      <td>-</td>\n",
       "      <td>...</td>\n",
       "      <td>-</td>\n",
       "      <td>C</td>\n",
       "      <td>Y</td>\n",
       "      <td>NaN</td>\n",
       "      <td>N</td>\n",
       "      <td>60</td>\n",
       "      <td>0</td>\n",
       "      <td>1</td>\n",
       "      <td>37.78091</td>\n",
       "      <td>122.40879</td>\n",
       "    </tr>\n",
       "    <tr>\n",
       "      <th>7190008</th>\n",
       "      <td>20160129</td>\n",
       "      <td>1834</td>\n",
       "      <td>5</td>\n",
       "      <td>0</td>\n",
       "      <td>0</td>\n",
       "      <td>30TH ST</td>\n",
       "      <td>DOLORES ST</td>\n",
       "      <td>N</td>\n",
       "      <td>C</td>\n",
       "      <td>-</td>\n",
       "      <td>...</td>\n",
       "      <td>-</td>\n",
       "      <td>C</td>\n",
       "      <td>Y</td>\n",
       "      <td>NaN</td>\n",
       "      <td>N</td>\n",
       "      <td>60</td>\n",
       "      <td>1</td>\n",
       "      <td>0</td>\n",
       "      <td>37.74237</td>\n",
       "      <td>122.42441</td>\n",
       "    </tr>\n",
       "    <tr>\n",
       "      <th>7203098</th>\n",
       "      <td>20160206</td>\n",
       "      <td>1357</td>\n",
       "      <td>6</td>\n",
       "      <td>0</td>\n",
       "      <td>0</td>\n",
       "      <td>3RD ST</td>\n",
       "      <td>HOWARD ST</td>\n",
       "      <td>N</td>\n",
       "      <td>A</td>\n",
       "      <td>-</td>\n",
       "      <td>...</td>\n",
       "      <td>-</td>\n",
       "      <td>A</td>\n",
       "      <td>Y</td>\n",
       "      <td>NaN</td>\n",
       "      <td>A</td>\n",
       "      <td>01</td>\n",
       "      <td>0</td>\n",
       "      <td>1</td>\n",
       "      <td>37.78519</td>\n",
       "      <td>122.40032</td>\n",
       "    </tr>\n",
       "  </tbody>\n",
       "</table>\n",
       "<p>5 rows × 28 columns</p>\n",
       "</div>"
      ],
      "text/plain": [
       "         COLLISION_DATE  COLLISION_TIME  DAY_OF_WEEK  BEAT_TYPE  \\\n",
       "CASE_ID                                                           \n",
       "5564078        20120917             844            1          0   \n",
       "5907237        20121115             200            4          0   \n",
       "6365111        20140123            1928            4          0   \n",
       "7190008        20160129            1834            5          0   \n",
       "7203098        20160206            1357            6          0   \n",
       "\n",
       "         CHP_BEAT_TYPE         PRIMARY_RD SECONDARY_RD INTERSECTION WEATHER_1  \\\n",
       "CASE_ID                                                                         \n",
       "5564078              0  JUNIPERO SERRA BL      19TH AV            N         A   \n",
       "5907237              0            15TH ST   MISSION ST            N         B   \n",
       "6365111              0         MISSION ST       6TH ST            Y         A   \n",
       "7190008              0            30TH ST   DOLORES ST            N         C   \n",
       "7203098              0             3RD ST    HOWARD ST            N         A   \n",
       "\n",
       "        WEATHER_2    ...     ROAD_COND_2 LIGHTING PEDESTRIAN_ACCIDENT  \\\n",
       "CASE_ID              ...                                                \n",
       "5564078         -    ...               -        A                   Y   \n",
       "5907237         -    ...               -        C                   Y   \n",
       "6365111         -    ...               -        C                   Y   \n",
       "7190008         -    ...               -        C                   Y   \n",
       "7203098         -    ...               -        A                   Y   \n",
       "\n",
       "        ALCOHOL_INVOLVED STWD_VEHTYPE_AT_FAULT CHP_VEHTYPE_AT_FAULT  \\\n",
       "CASE_ID                                                               \n",
       "5564078              NaN                     A                   01   \n",
       "5907237                Y                     A                   07   \n",
       "6365111              NaN                     N                   60   \n",
       "7190008              NaN                     N                   60   \n",
       "7203098              NaN                     A                   01   \n",
       "\n",
       "        COUNT_PED_KILLED COUNT_PED_INJURED  LATITUDE  LONGITUDE  \n",
       "CASE_ID                                                          \n",
       "5564078                0                 1  37.71542  122.47193  \n",
       "5907237                0                 1  37.76662  122.41936  \n",
       "6365111                0                 1  37.78091  122.40879  \n",
       "7190008                1                 0  37.74237  122.42441  \n",
       "7203098                0                 1  37.78519  122.40032  \n",
       "\n",
       "[5 rows x 28 columns]"
      ]
     },
     "execution_count": 38,
     "metadata": {},
     "output_type": "execute_result"
    }
   ],
   "source": [
    "data3.head(5)"
   ]
  },
  {
   "cell_type": "code",
   "execution_count": 39,
   "metadata": {
    "collapsed": false
   },
   "outputs": [
    {
     "data": {
      "text/plain": [
       "(100, 28)"
      ]
     },
     "execution_count": 39,
     "metadata": {},
     "output_type": "execute_result"
    }
   ],
   "source": [
    "data4 = data2[\n",
    "    (pd.notnull(data2['LATITUDE']).as_matrix()\n",
    "    & pd.notnull(data2['LONGITUDE']).as_matrix())\n",
    "    ]\n",
    "data4.shape"
   ]
  },
  {
   "cell_type": "code",
   "execution_count": 51,
   "metadata": {
    "collapsed": false,
    "scrolled": true
   },
   "outputs": [
    {
     "data": {
      "text/plain": [
       "count    100.000000\n",
       "mean     122.386857\n",
       "std        0.067916\n",
       "min      122.234620\n",
       "25%      122.389915\n",
       "50%      122.403445\n",
       "75%      122.419940\n",
       "max      122.504070\n",
       "Name: LONGITUDE, dtype: float64"
      ]
     },
     "execution_count": 51,
     "metadata": {},
     "output_type": "execute_result"
    }
   ],
   "source": [
    "data2['LONGITUDE'].describe()"
   ]
  },
  {
   "cell_type": "code",
   "execution_count": 48,
   "metadata": {
    "collapsed": false,
    "scrolled": true
   },
   "outputs": [
    {
     "data": {
      "text/plain": [
       "CASE_ID\n",
       "1994962   NaN\n",
       "1994963   NaN\n",
       "1994964   NaN\n",
       "1994965   NaN\n",
       "1994966   NaN\n",
       "1994967   NaN\n",
       "1994968   NaN\n",
       "1994969   NaN\n",
       "1994970   NaN\n",
       "1994971   NaN\n",
       "1994972   NaN\n",
       "1994973   NaN\n",
       "1994974   NaN\n",
       "1994975   NaN\n",
       "1994976   NaN\n",
       "1994977   NaN\n",
       "1994978   NaN\n",
       "1994979   NaN\n",
       "1994980   NaN\n",
       "1994981   NaN\n",
       "1994982   NaN\n",
       "1994983   NaN\n",
       "1994984   NaN\n",
       "1994985   NaN\n",
       "1994986   NaN\n",
       "1994987   NaN\n",
       "1994988   NaN\n",
       "1994989   NaN\n",
       "1994990   NaN\n",
       "1994991   NaN\n",
       "1994992   NaN\n",
       "1994993   NaN\n",
       "1994995   NaN\n",
       "1994996   NaN\n",
       "1994997   NaN\n",
       "1994998   NaN\n",
       "1994999   NaN\n",
       "1995000   NaN\n",
       "1995001   NaN\n",
       "1995002   NaN\n",
       "1995003   NaN\n",
       "1995004   NaN\n",
       "1995005   NaN\n",
       "1995006   NaN\n",
       "1995007   NaN\n",
       "1995008   NaN\n",
       "1995009   NaN\n",
       "1995010   NaN\n",
       "1995011   NaN\n",
       "1995012   NaN\n",
       "Name: LONGITUDE, dtype: float64"
      ]
     },
     "execution_count": 48,
     "metadata": {},
     "output_type": "execute_result"
    }
   ],
   "source": [
    "data.iloc[10000:10050,-1]"
   ]
  },
  {
   "cell_type": "code",
   "execution_count": 49,
   "metadata": {
    "collapsed": false,
    "scrolled": true
   },
   "outputs": [
    {
     "data": {
      "text/plain": [
       "count    59368.000000\n",
       "mean      2009.046608\n",
       "std          3.823149\n",
       "min       2003.000000\n",
       "25%       2006.000000\n",
       "50%       2009.000000\n",
       "75%       2012.000000\n",
       "max       2016.000000\n",
       "Name: ACCIDENT_YEAR, dtype: float64"
      ]
     },
     "execution_count": 49,
     "metadata": {},
     "output_type": "execute_result"
    }
   ],
   "source": [
    "data['ACCIDENT_YEAR'].describe()"
   ]
  },
  {
   "cell_type": "code",
   "execution_count": null,
   "metadata": {
    "collapsed": true
   },
   "outputs": [],
   "source": []
  }
 ],
 "metadata": {
  "kernelspec": {
   "display_name": "Python 2",
   "language": "python",
   "name": "python2"
  },
  "language_info": {
   "codemirror_mode": {
    "name": "ipython",
    "version": 2
   },
   "file_extension": ".py",
   "mimetype": "text/x-python",
   "name": "python",
   "nbconvert_exporter": "python",
   "pygments_lexer": "ipython2",
   "version": "2.7.11"
  }
 },
 "nbformat": 4,
 "nbformat_minor": 0
}
