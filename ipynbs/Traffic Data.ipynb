{
 "cells": [
  {
   "cell_type": "code",
   "execution_count": 31,
   "metadata": {
    "collapsed": true
   },
   "outputs": [],
   "source": [
    "%matplotlib inline\n",
    "import pandas as pd\n",
    "import numpy as np\n",
    "import matplotlib as mpl\n",
    "import matplotlib.pyplot as plt\n",
    "import seaborn as sns\n",
    "import datetime\n",
    "from datetime import datetime, date"
   ]
  },
  {
   "cell_type": "code",
   "execution_count": 33,
   "metadata": {
    "collapsed": false,
    "scrolled": true
   },
   "outputs": [
    {
     "name": "stdout",
     "output_type": "stream",
     "text": [
      "(59368, 76)\n",
      "(10479, 76)\n",
      "(10479, 5)\n",
      "(10479, 79)\n"
     ]
    }
   ],
   "source": [
    "# Read data\n",
    "df = pd.read_csv('../rawdata/traffic-CollisionRecords.csv')\n",
    "print df.shape\n",
    "\n",
    "# Drop non-pedestrian accidents\n",
    "df = df[pd.notnull(df['PEDESTRIAN_ACCIDENT'])].copy()\n",
    "\n",
    "print df.shape\n",
    "\n",
    "# Read geocode latlong\n",
    "geocode = pd.read_csv('../scripts/data_geocoded.txt',sep='|',header=None,names=['CASE_ID','PRIMARY_RD','SECONDARY_RD','y','x'])\n",
    "print geocode.shape\n",
    "\n",
    "# Join data\n",
    "df.reset_index(inplace=True)\n",
    "df = df.merge(geocode[['CASE_ID','x','y']],how=\"inner\",left_on=\"CASE_ID\",right_on=\"CASE_ID\")\n",
    "print df.shape\n"
   ]
  },
  {
   "cell_type": "code",
   "execution_count": 34,
   "metadata": {
    "collapsed": false,
    "scrolled": true
   },
   "outputs": [
    {
     "data": {
      "text/plain": [
       "index                        int64\n",
       "CASE_ID                      int64\n",
       "ACCIDENT_YEAR                int64\n",
       "PROC_DATE                    int64\n",
       "JURIS                        int64\n",
       "COLLISION_DATE               int64\n",
       "COLLISION_TIME               int64\n",
       "OFFICER_ID                  object\n",
       "REPORTING_DISTRICT          object\n",
       "DAY_OF_WEEK                  int64\n",
       "CHP_SHIFT                    int64\n",
       "POPULATION                   int64\n",
       "CNTY_CITY_LOC                int64\n",
       "SPECIAL_COND                 int64\n",
       "BEAT_TYPE                    int64\n",
       "CHP_BEAT_TYPE                int64\n",
       "CITY_DIVISION_LAPD         float64\n",
       "CHP_BEAT_CLASS               int64\n",
       "BEAT_NUMBER                 object\n",
       "PRIMARY_RD                  object\n",
       "SECONDARY_RD                object\n",
       "DISTANCE                   float64\n",
       "DIRECTION                   object\n",
       "INTERSECTION                object\n",
       "WEATHER_1                   object\n",
       "WEATHER_2                   object\n",
       "STATE_HWY_IND               object\n",
       "CALTRANS_COUNTY             object\n",
       "CALTRANS_DISTRICT          float64\n",
       "STATE_ROUTE                float64\n",
       "                            ...   \n",
       "PED_ACTION                  object\n",
       "ROAD_SURFACE                object\n",
       "ROAD_COND_1                 object\n",
       "ROAD_COND_2                 object\n",
       "LIGHTING                    object\n",
       "CONTROL_DEVICE              object\n",
       "CHP_ROAD_TYPE                int64\n",
       "PEDESTRIAN_ACCIDENT         object\n",
       "BICYCLE_ACCIDENT            object\n",
       "MOTORCYCLE_ACCIDENT         object\n",
       "TRUCK_ACCIDENT              object\n",
       "NOT_PRIVATE_PROPERTY        object\n",
       "ALCOHOL_INVOLVED            object\n",
       "STWD_VEHTYPE_AT_FAULT       object\n",
       "CHP_VEHTYPE_AT_FAULT        object\n",
       "COUNT_SEVERE_INJ             int64\n",
       "COUNT_VISIBLE_INJ            int64\n",
       "COUNT_COMPLAINT_PAIN         int64\n",
       "COUNT_PED_KILLED             int64\n",
       "COUNT_PED_INJURED            int64\n",
       "COUNT_BICYCLIST_KILLED       int64\n",
       "COUNT_BICYCLIST_INJURED      int64\n",
       "COUNT_MC_KILLED              int64\n",
       "COUNT_MC_INJURED             int64\n",
       "PRIMARY_RAMP                object\n",
       "SECONDARY_RAMP              object\n",
       "LATITUDE                   float64\n",
       "LONGITUDE                  float64\n",
       "x                          float64\n",
       "y                          float64\n",
       "dtype: object"
      ]
     },
     "execution_count": 34,
     "metadata": {},
     "output_type": "execute_result"
    }
   ],
   "source": [
    "df.dtypes"
   ]
  },
  {
   "cell_type": "code",
   "execution_count": 35,
   "metadata": {
    "collapsed": true
   },
   "outputs": [],
   "source": [
    "keepcols = [\n",
    "    'COLLISION_DATE',\n",
    "    'COLLISION_TIME',\n",
    "    'DAY_OF_WEEK',\n",
    "    'PRIMARY_RD',\n",
    "    'SECONDARY_RD',\n",
    "    'INTERSECTION',\n",
    "    'WEATHER_1',\n",
    "    'WEATHER_2',\n",
    "    'LOCATION_TYPE',\n",
    "    'PRIMARY_COLL_FACTOR',\n",
    "    'PCF_VIOL_CATEGORY',\n",
    "    'HIT_AND_RUN',\n",
    "    'TYPE_OF_COLLISION',\n",
    "    'PED_ACTION',\n",
    "    'ROAD_SURFACE',\n",
    "    'ROAD_COND_1',\n",
    "    'ROAD_COND_2',\n",
    "    'LIGHTING',\n",
    "    'PEDESTRIAN_ACCIDENT',\n",
    "    'ALCOHOL_INVOLVED',\n",
    "    'STWD_VEHTYPE_AT_FAULT',\n",
    "    'CHP_VEHTYPE_AT_FAULT',\n",
    "    'COUNT_PED_KILLED',\n",
    "    'COUNT_PED_INJURED',\n",
    "    'LATITUDE',\n",
    "    'LONGITUDE',\n",
    "    'y',\n",
    "    'x'\n",
    "    ]\n",
    "\n",
    "df = df[keepcols]"
   ]
  },
  {
   "cell_type": "code",
   "execution_count": 36,
   "metadata": {
    "collapsed": false,
    "scrolled": true
   },
   "outputs": [
    {
     "data": {
      "text/html": [
       "<div>\n",
       "<table border=\"1\" class=\"dataframe\">\n",
       "  <thead>\n",
       "    <tr style=\"text-align: right;\">\n",
       "      <th></th>\n",
       "      <th>COLLISION_DATE</th>\n",
       "      <th>COLLISION_TIME</th>\n",
       "      <th>DAY_OF_WEEK</th>\n",
       "      <th>COUNT_PED_KILLED</th>\n",
       "      <th>COUNT_PED_INJURED</th>\n",
       "      <th>LATITUDE</th>\n",
       "      <th>LONGITUDE</th>\n",
       "      <th>y</th>\n",
       "      <th>x</th>\n",
       "    </tr>\n",
       "  </thead>\n",
       "  <tbody>\n",
       "    <tr>\n",
       "      <th>count</th>\n",
       "      <td>1.047900e+04</td>\n",
       "      <td>10479.000000</td>\n",
       "      <td>10479.000000</td>\n",
       "      <td>10479.000000</td>\n",
       "      <td>10479.000000</td>\n",
       "      <td>5.000000</td>\n",
       "      <td>5.000000</td>\n",
       "      <td>10479.000000</td>\n",
       "      <td>10479.000000</td>\n",
       "    </tr>\n",
       "    <tr>\n",
       "      <th>mean</th>\n",
       "      <td>2.009211e+07</td>\n",
       "      <td>1399.036168</td>\n",
       "      <td>3.871266</td>\n",
       "      <td>0.022044</td>\n",
       "      <td>0.987403</td>\n",
       "      <td>37.758102</td>\n",
       "      <td>122.424962</td>\n",
       "      <td>37.758120</td>\n",
       "      <td>-122.409674</td>\n",
       "    </tr>\n",
       "    <tr>\n",
       "      <th>std</th>\n",
       "      <td>3.784255e+04</td>\n",
       "      <td>565.013679</td>\n",
       "      <td>1.897732</td>\n",
       "      <td>0.146834</td>\n",
       "      <td>0.334493</td>\n",
       "      <td>0.029137</td>\n",
       "      <td>0.027868</td>\n",
       "      <td>0.526888</td>\n",
       "      <td>0.886655</td>\n",
       "    </tr>\n",
       "    <tr>\n",
       "      <th>min</th>\n",
       "      <td>2.003010e+07</td>\n",
       "      <td>1.000000</td>\n",
       "      <td>1.000000</td>\n",
       "      <td>0.000000</td>\n",
       "      <td>0.000000</td>\n",
       "      <td>37.715420</td>\n",
       "      <td>122.400320</td>\n",
       "      <td>9.923038</td>\n",
       "      <td>-122.511211</td>\n",
       "    </tr>\n",
       "    <tr>\n",
       "      <th>25%</th>\n",
       "      <td>2.006050e+07</td>\n",
       "      <td>1000.000000</td>\n",
       "      <td>2.000000</td>\n",
       "      <td>0.000000</td>\n",
       "      <td>1.000000</td>\n",
       "      <td>37.742370</td>\n",
       "      <td>122.408790</td>\n",
       "      <td>37.754158</td>\n",
       "      <td>-122.439466</td>\n",
       "    </tr>\n",
       "    <tr>\n",
       "      <th>50%</th>\n",
       "      <td>2.009101e+07</td>\n",
       "      <td>1500.000000</td>\n",
       "      <td>4.000000</td>\n",
       "      <td>0.000000</td>\n",
       "      <td>1.000000</td>\n",
       "      <td>37.766620</td>\n",
       "      <td>122.419360</td>\n",
       "      <td>37.776721</td>\n",
       "      <td>-122.419562</td>\n",
       "    </tr>\n",
       "    <tr>\n",
       "      <th>75%</th>\n",
       "      <td>2.012101e+07</td>\n",
       "      <td>1827.000000</td>\n",
       "      <td>5.000000</td>\n",
       "      <td>0.000000</td>\n",
       "      <td>1.000000</td>\n",
       "      <td>37.780910</td>\n",
       "      <td>122.424410</td>\n",
       "      <td>37.786292</td>\n",
       "      <td>-122.408639</td>\n",
       "    </tr>\n",
       "    <tr>\n",
       "      <th>max</th>\n",
       "      <td>2.016030e+07</td>\n",
       "      <td>2500.000000</td>\n",
       "      <td>7.000000</td>\n",
       "      <td>1.000000</td>\n",
       "      <td>5.000000</td>\n",
       "      <td>37.785190</td>\n",
       "      <td>122.471930</td>\n",
       "      <td>37.933986</td>\n",
       "      <td>-69.383245</td>\n",
       "    </tr>\n",
       "  </tbody>\n",
       "</table>\n",
       "</div>"
      ],
      "text/plain": [
       "       COLLISION_DATE  COLLISION_TIME   DAY_OF_WEEK  COUNT_PED_KILLED  \\\n",
       "count    1.047900e+04    10479.000000  10479.000000      10479.000000   \n",
       "mean     2.009211e+07     1399.036168      3.871266          0.022044   \n",
       "std      3.784255e+04      565.013679      1.897732          0.146834   \n",
       "min      2.003010e+07        1.000000      1.000000          0.000000   \n",
       "25%      2.006050e+07     1000.000000      2.000000          0.000000   \n",
       "50%      2.009101e+07     1500.000000      4.000000          0.000000   \n",
       "75%      2.012101e+07     1827.000000      5.000000          0.000000   \n",
       "max      2.016030e+07     2500.000000      7.000000          1.000000   \n",
       "\n",
       "       COUNT_PED_INJURED   LATITUDE   LONGITUDE             y             x  \n",
       "count       10479.000000   5.000000    5.000000  10479.000000  10479.000000  \n",
       "mean            0.987403  37.758102  122.424962     37.758120   -122.409674  \n",
       "std             0.334493   0.029137    0.027868      0.526888      0.886655  \n",
       "min             0.000000  37.715420  122.400320      9.923038   -122.511211  \n",
       "25%             1.000000  37.742370  122.408790     37.754158   -122.439466  \n",
       "50%             1.000000  37.766620  122.419360     37.776721   -122.419562  \n",
       "75%             1.000000  37.780910  122.424410     37.786292   -122.408639  \n",
       "max             5.000000  37.785190  122.471930     37.933986    -69.383245  "
      ]
     },
     "execution_count": 36,
     "metadata": {},
     "output_type": "execute_result"
    }
   ],
   "source": [
    "df.describe()"
   ]
  },
  {
   "cell_type": "code",
   "execution_count": 45,
   "metadata": {
    "collapsed": false
   },
   "outputs": [
    {
     "data": {
      "text/plain": [
       "A    6474\n",
       "C    3444\n",
       "B     390\n",
       "-      79\n",
       "D      66\n",
       "E      26\n",
       "Name: LIGHTING, dtype: int64"
      ]
     },
     "execution_count": 45,
     "metadata": {},
     "output_type": "execute_result"
    }
   ],
   "source": [
    "df.LIGHTING.value_counts()"
   ]
  },
  {
   "cell_type": "code",
   "execution_count": 24,
   "metadata": {
    "collapsed": false
   },
   "outputs": [
    {
     "data": {
      "text/plain": [
       "<matplotlib.axes._subplots.AxesSubplot at 0x10ddb5c90>"
      ]
     },
     "execution_count": 24,
     "metadata": {},
     "output_type": "execute_result"
    },
    {
     "data": {
      "image/png": "[encoded data removed]",
      "text/plain": [
       "<matplotlib.figure.Figure at 0x10dd87f10>"
      ]
     },
     "metadata": {},
     "output_type": "display_data"
    }
   ],
   "source": [
    "df.COUNT_PED_INJURED.hist()"
   ]
  }
 ],
 "metadata": {
  "kernelspec": {
   "display_name": "Python 2",
   "language": "python",
   "name": "python2"
  },
  "language_info": {
   "codemirror_mode": {
    "name": "ipython",
    "version": 2
   },
   "file_extension": ".py",
   "mimetype": "text/x-python",
   "name": "python",
   "nbconvert_exporter": "python",
   "pygments_lexer": "ipython2",
   "version": "2.7.11"
  }
 },
 "nbformat": 4,
 "nbformat_minor": 0
}
