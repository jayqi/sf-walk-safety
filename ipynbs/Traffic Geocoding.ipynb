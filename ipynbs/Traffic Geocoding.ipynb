{
 "cells": [
  {
   "cell_type": "code",
   "execution_count": 23,
   "metadata": {
    "collapsed": true
   },
   "outputs": [],
   "source": [
    "import pandas as pd\n",
    "import numpy as np\n",
    "import time\n",
    "from geopy.geocoders import GoogleV3\n",
    "import pickle\n"
   ]
  },
  {
   "cell_type": "code",
   "execution_count": 3,
   "metadata": {
    "collapsed": false,
    "scrolled": true
   },
   "outputs": [
    {
     "name": "stdout",
     "output_type": "stream",
     "text": [
      "(59368, 75)\n",
      "(10479, 75)\n"
     ]
    }
   ],
   "source": [
    "data = pd.DataFrame.from_csv('../rawdata/traffic-CollisionRecords.csv')\n",
    "print data.shape\n",
    "data = data[pd.notnull(data['PEDESTRIAN_ACCIDENT'])]\n",
    "print data.shape"
   ]
  },
  {
   "cell_type": "code",
   "execution_count": 5,
   "metadata": {
    "collapsed": false
   },
   "outputs": [
    {
     "data": {
      "text/html": [
       "<div>\n",
       "<table border=\"1\" class=\"dataframe\">\n",
       "  <thead>\n",
       "    <tr style=\"text-align: right;\">\n",
       "      <th></th>\n",
       "      <th>PRIMARY_RD</th>\n",
       "      <th>SECONDARY_RD</th>\n",
       "    </tr>\n",
       "    <tr>\n",
       "      <th>CASE_ID</th>\n",
       "      <th></th>\n",
       "      <th></th>\n",
       "    </tr>\n",
       "  </thead>\n",
       "  <tbody>\n",
       "    <tr>\n",
       "      <th>662574</th>\n",
       "      <td>JACKSON ST</td>\n",
       "      <td>GRANT AV</td>\n",
       "    </tr>\n",
       "    <tr>\n",
       "      <th>743602</th>\n",
       "      <td>TARAVAL ST</td>\n",
       "      <td>19TH AV</td>\n",
       "    </tr>\n",
       "    <tr>\n",
       "      <th>743618</th>\n",
       "      <td>N 7TH ST</td>\n",
       "      <td>MARKET ST</td>\n",
       "    </tr>\n",
       "    <tr>\n",
       "      <th>743624</th>\n",
       "      <td>FRANKLIN ST</td>\n",
       "      <td>POST ST</td>\n",
       "    </tr>\n",
       "    <tr>\n",
       "      <th>743626</th>\n",
       "      <td>CLEMENTINA ST</td>\n",
       "      <td>4TH ST</td>\n",
       "    </tr>\n",
       "  </tbody>\n",
       "</table>\n",
       "</div>"
      ],
      "text/plain": [
       "            PRIMARY_RD SECONDARY_RD\n",
       "CASE_ID                            \n",
       "662574      JACKSON ST     GRANT AV\n",
       "743602      TARAVAL ST      19TH AV\n",
       "743618        N 7TH ST    MARKET ST\n",
       "743624     FRANKLIN ST      POST ST\n",
       "743626   CLEMENTINA ST       4TH ST"
      ]
     },
     "execution_count": 5,
     "metadata": {},
     "output_type": "execute_result"
    }
   ],
   "source": [
    "data[['PRIMARY_RD','SECONDARY_RD']].iloc[0:5]"
   ]
  },
  {
   "cell_type": "code",
   "execution_count": 29,
   "metadata": {
    "collapsed": true
   },
   "outputs": [],
   "source": [
    "data_roads = data[['PRIMARY_RD','SECONDARY_RD']].copy()"
   ]
  },
  {
   "cell_type": "markdown",
   "metadata": {},
   "source": [
    "## Prototype code"
   ]
  },
  {
   "cell_type": "code",
   "execution_count": null,
   "metadata": {
    "collapsed": true
   },
   "outputs": [],
   "source": [
    "s  = data_roads['PRIMARY_RD'].iloc[0] + ' at ' + data_roads['SECONDARY_RD'].iloc[0] + ', San Francisco, CA'\n",
    "s"
   ]
  },
  {
   "cell_type": "code",
   "execution_count": 43,
   "metadata": {
    "collapsed": false
   },
   "outputs": [
    {
     "data": {
      "text/plain": [
       "[37.7960355, -122.4066844]"
      ]
     },
     "execution_count": 43,
     "metadata": {},
     "output_type": "execute_result"
    }
   ],
   "source": [
    "import geocoder\n",
    "g = geocoder.google(s)\n",
    "a = g.latlng\n",
    "a"
   ]
  },
  {
   "cell_type": "code",
   "execution_count": 44,
   "metadata": {
    "collapsed": false
   },
   "outputs": [
    {
     "data": {
      "text/plain": [
       "'[37.7960355, -122.4066844]'"
      ]
     },
     "execution_count": 44,
     "metadata": {},
     "output_type": "execute_result"
    }
   ],
   "source": [
    "str(a)"
   ]
  },
  {
   "cell_type": "code",
   "execution_count": 45,
   "metadata": {
    "collapsed": false,
    "scrolled": true
   },
   "outputs": [
    {
     "data": {
      "text/plain": [
       "(10479, 2)"
      ]
     },
     "execution_count": 45,
     "metadata": {},
     "output_type": "execute_result"
    }
   ],
   "source": [
    "data_roads.shape"
   ]
  },
  {
   "cell_type": "code",
   "execution_count": 46,
   "metadata": {
    "collapsed": false
   },
   "outputs": [
    {
     "data": {
      "text/plain": [
       "10479"
      ]
     },
     "execution_count": 46,
     "metadata": {},
     "output_type": "execute_result"
    }
   ],
   "source": [
    "len(data_roads)"
   ]
  },
  {
   "cell_type": "code",
   "execution_count": null,
   "metadata": {
    "collapsed": true
   },
   "outputs": [],
   "source": [
    "import os.path\n",
    "\n",
    "filename = 'foo_test.txt'\n",
    "\n",
    "if os.path.isfile(filename) :\n",
    "    fr = open(filename,'r',0)\n",
    "    lines = fr.readlines()\n",
    "    fr.close()\n",
    "    current = int(lines[-1].split('|')[0])\n",
    "    current += 1\n",
    "else:\n",
    "    current = 0\n",
    "\n",
    "f = open(filename,'a',0)\n",
    "\n",
    "while current < 15:\n",
    "    caseid = data_roads.index[current]\n",
    "    rd1 = data_roads['PRIMARY_RD'].iloc[current]\n",
    "    rd2 = data_roads['SECONDARY_RD'].iloc[current]\n",
    "    \n",
    "    latlng = 'foo'\n",
    "    \n",
    "    newline = '|'.join([str(current),str(caseid),rd1,rd2,latlng])\n",
    "    print newline\n",
    "    f.write(\"%s\\n\" % str(newline))\n",
    "    time.sleep(4)\n",
    "    current += 1\n"
   ]
  },
  {
   "cell_type": "markdown",
   "metadata": {},
   "source": [
    "## Real script"
   ]
  },
  {
   "cell_type": "code",
   "execution_count": 47,
   "metadata": {
    "collapsed": true
   },
   "outputs": [],
   "source": [
    "# Save data_roads dataframe\n",
    "pickle.dump( data_roads, open( \"data_roads.p\", \"wb\" ) )"
   ]
  },
  {
   "cell_type": "code",
   "execution_count": 42,
   "metadata": {
    "collapsed": false
   },
   "outputs": [
    {
     "name": "stdout",
     "output_type": "stream",
     "text": [
      "3|743624|FRANKLIN ST|POST ST|foo\n",
      "4|743626|CLEMENTINA ST|4TH ST|foo\n",
      "5|743631|CYRIL MAGNIN ST|OFARRELL ST|foo\n",
      "6|743646|LAWTON ST|22ND AV|foo\n",
      "7|743654|20TH AV|LINCOLN WY|foo\n",
      "8|743662|MISSION ST|22ND ST|foo\n",
      "9|743666|GEARY BL|DIVISADERO ST|foo\n",
      "10|743674|UNION|STOCKTON|foo\n",
      "11|753606|FOLSOM ST|6TH ST|foo\n",
      "12|753607|FRANCISCO|POWELL ST|foo\n",
      "13|753610|TURK ST|TAYLOR ST|foo\n",
      "14|753612|16TH ST|CHURCH ST|foo\n"
     ]
    }
   ],
   "source": [
    "import os.path\n",
    "import pickle\n",
    "import geocoder\n",
    "import time\n",
    "\n",
    "data_roads = pickle.load( open( \"data_roads.p\", \"rb\" ) )\n",
    "\n",
    "filename = 'data_geocoded.txt'\n",
    "\n",
    "if os.path.isfile(filename) :\n",
    "    fr = open(filename,'r',0)\n",
    "    lines = fr.readlines()\n",
    "    fr.close()\n",
    "    current = int(lines[-1].split('|')[0])\n",
    "    current += 1\n",
    "else:\n",
    "    current = 0\n",
    "\n",
    "f = open(filename,'a',0)\n",
    "\n",
    "while current < len(data_roads):\n",
    "    caseid = data_roads.index[current]\n",
    "    rd1 = data_roads['PRIMARY_RD'].iloc[current]\n",
    "    rd2 = data_roads['SECONDARY_RD'].iloc[current]\n",
    "    \n",
    "    s  = rd1 + ' at ' + rd2 + ', San Francisco, CA'\n",
    "    \n",
    "    g = geocoder.google(s)\n",
    "    latlng = g.latlng\n",
    "    \n",
    "    newline = '|'.join([str(current),str(caseid),rd1,rd2,str(latlng[0]),str(latlng[1])])\n",
    "    print newline\n",
    "    f.write(\"%s\\n\" % str(newline))\n",
    "    time.sleep(4)\n",
    "    current += 1\n"
   ]
  }
 ],
 "metadata": {
  "kernelspec": {
   "display_name": "Python 2",
   "language": "python",
   "name": "python2"
  },
  "language_info": {
   "codemirror_mode": {
    "name": "ipython",
    "version": 2
   },
   "file_extension": ".py",
   "mimetype": "text/x-python",
   "name": "python",
   "nbconvert_exporter": "python",
   "pygments_lexer": "ipython2",
   "version": "2.7.11"
  }
 },
 "nbformat": 4,
 "nbformat_minor": 0
}
