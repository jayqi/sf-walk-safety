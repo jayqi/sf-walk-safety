{
 "cells": [
  {
   "cell_type": "code",
   "execution_count": 11,
   "metadata": {
    "collapsed": true
   },
   "outputs": [],
   "source": [
    "import pandas as pd\n",
    "import numpy as np\n",
    "import time\n",
    "from geopy.geocoders import GoogleV3\n",
    "import pickle"
   ]
  },
  {
   "cell_type": "code",
   "execution_count": 3,
   "metadata": {
    "collapsed": false,
    "scrolled": true
   },
   "outputs": [
    {
     "name": "stdout",
     "output_type": "stream",
     "text": [
      "(59368, 75)\n",
      "(10479, 75)\n"
     ]
    }
   ],
   "source": [
    "data = pd.DataFrame.from_csv('../rawdata/traffic-CollisionRecords.csv')\n",
    "print data.shape\n",
    "data = data[pd.notnull(data['PEDESTRIAN_ACCIDENT'])]\n",
    "print data.shape"
   ]
  },
  {
   "cell_type": "code",
   "execution_count": 5,
   "metadata": {
    "collapsed": false
   },
   "outputs": [
    {
     "data": {
      "text/html": [
       "<div>\n",
       "<table border=\"1\" class=\"dataframe\">\n",
       "  <thead>\n",
       "    <tr style=\"text-align: right;\">\n",
       "      <th></th>\n",
       "      <th>PRIMARY_RD</th>\n",
       "      <th>SECONDARY_RD</th>\n",
       "    </tr>\n",
       "    <tr>\n",
       "      <th>CASE_ID</th>\n",
       "      <th></th>\n",
       "      <th></th>\n",
       "    </tr>\n",
       "  </thead>\n",
       "  <tbody>\n",
       "    <tr>\n",
       "      <th>662574</th>\n",
       "      <td>JACKSON ST</td>\n",
       "      <td>GRANT AV</td>\n",
       "    </tr>\n",
       "    <tr>\n",
       "      <th>743602</th>\n",
       "      <td>TARAVAL ST</td>\n",
       "      <td>19TH AV</td>\n",
       "    </tr>\n",
       "    <tr>\n",
       "      <th>743618</th>\n",
       "      <td>N 7TH ST</td>\n",
       "      <td>MARKET ST</td>\n",
       "    </tr>\n",
       "    <tr>\n",
       "      <th>743624</th>\n",
       "      <td>FRANKLIN ST</td>\n",
       "      <td>POST ST</td>\n",
       "    </tr>\n",
       "    <tr>\n",
       "      <th>743626</th>\n",
       "      <td>CLEMENTINA ST</td>\n",
       "      <td>4TH ST</td>\n",
       "    </tr>\n",
       "  </tbody>\n",
       "</table>\n",
       "</div>"
      ],
      "text/plain": [
       "            PRIMARY_RD SECONDARY_RD\n",
       "CASE_ID                            \n",
       "662574      JACKSON ST     GRANT AV\n",
       "743602      TARAVAL ST      19TH AV\n",
       "743618        N 7TH ST    MARKET ST\n",
       "743624     FRANKLIN ST      POST ST\n",
       "743626   CLEMENTINA ST       4TH ST"
      ]
     },
     "execution_count": 5,
     "metadata": {},
     "output_type": "execute_result"
    }
   ],
   "source": [
    "data[['PRIMARY_RD','SECONDARY_RD']].iloc[0:5]"
   ]
  },
  {
   "cell_type": "code",
   "execution_count": 7,
   "metadata": {
    "collapsed": true
   },
   "outputs": [],
   "source": [
    "batch1 = data[['PRIMARY_RD','SECONDARY_RD']].iloc[0:2400].copy()\n",
    "batch2 = data[['PRIMARY_RD','SECONDARY_RD']].iloc[2401:4800].copy()\n",
    "batch3 = data[['PRIMARY_RD','SECONDARY_RD']].iloc[4801:7200].copy()\n",
    "batch4 = data[['PRIMARY_RD','SECONDARY_RD']].iloc[7201:9600].copy()\n",
    "batch5 = data[['PRIMARY_RD','SECONDARY_RD']].iloc[9600:10478].copy()"
   ]
  },
  {
   "cell_type": "code",
   "execution_count": 12,
   "metadata": {
    "collapsed": false
   },
   "outputs": [],
   "source": [
    "pickle.dump( batch1, open( \"batch1.p\", \"wb\" ) )\n",
    "pickle.dump( batch2, open( \"batch2.p\", \"wb\" ) )\n",
    "pickle.dump( batch3, open( \"batch3.p\", \"wb\" ) )\n",
    "pickle.dump( batch4, open( \"batch4.p\", \"wb\" ) )\n",
    "pickle.dump( batch5, open( \"batch5.p\", \"wb\" ) )"
   ]
  },
  {
   "cell_type": "code",
   "execution_count": null,
   "metadata": {
    "collapsed": false
   },
   "outputs": [],
   "source": [
    "g = GoogleV3()\n",
    "out = []\n",
    "for item in batch1.itertuples():\n",
    "    address = item[1]+' at '+item[2]+', San Francisco, CA'\n",
    "    location = g.geocode(address)\n",
    "    out.append((item[0],item[1],item[2],location.latitude, location.longitude))\n",
    "    time.sleep(1)\n",
    "    \n",
    "\n",
    "pickle.dump( batch1, open( \"batch1-out.p\", \"wb\" ) )"
   ]
  },
  {
   "cell_type": "code",
   "execution_count": null,
   "metadata": {
    "collapsed": true
   },
   "outputs": [],
   "source": [
    "from geopy.geocoders import GoogleV3\n",
    "\n",
    "a = 'JUNIPERO SERRA BL'\n",
    "b = '19TH AV'\n",
    "foo = a+' at '+b+', San Francisco, CA'\n",
    "print foo\n",
    "g = GoogleV3()\n",
    "location = g.geocode(foo)\n",
    "print((location.latitude, location.longitude))"
   ]
  },
  {
   "cell_type": "code",
   "execution_count": null,
   "metadata": {
    "collapsed": true
   },
   "outputs": [],
   "source": [
    "import pandas as pd\n",
    "import numpy as np\n",
    "import time\n",
    "from geopy.geocoders import GoogleV3\n",
    "import pickle\n",
    "\n",
    "def process_batch(filename):\n",
    "    batch = pickle.load( open( filename+\".p\", \"rb\" ) )\n",
    "    g = GoogleV3()\n",
    "    out = []\n",
    "    for item in batch.itertuples():\n",
    "        address = item[1]+' at '+item[2]+', San Francisco, CA'\n",
    "        location = g.geocode(address)\n",
    "        out.append((item[0],item[1],item[2],location.latitude, location.longitude))\n",
    "        time.sleep(1)\n",
    "    \n",
    "    pickle.dump( batch, open( filename+\"-out.p\", \"wb\" ) )"
   ]
  }
 ],
 "metadata": {
  "kernelspec": {
   "display_name": "Python 2",
   "language": "python",
   "name": "python2"
  },
  "language_info": {
   "codemirror_mode": {
    "name": "ipython",
    "version": 2
   },
   "file_extension": ".py",
   "mimetype": "text/x-python",
   "name": "python",
   "nbconvert_exporter": "python",
   "pygments_lexer": "ipython2",
   "version": "2.7.11"
  }
 },
 "nbformat": 4,
 "nbformat_minor": 0
}
