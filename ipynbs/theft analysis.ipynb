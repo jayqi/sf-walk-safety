{
 "cells": [
  {
   "cell_type": "code",
   "execution_count": 1,
   "metadata": {
    "collapsed": false
   },
   "outputs": [],
   "source": [
    "%matplotlib inline\n",
    "import pandas as pd\n",
    "import numpy as np\n",
    "import matplotlib.pyplot as plt\n",
    "import seaborn as sns\n",
    "import datetime\n",
    "from sklearn.neighbors import KernelDensity\n",
    "from sklearn.grid_search import GridSearchCV\n"
   ]
  },
  {
   "cell_type": "code",
   "execution_count": 2,
   "metadata": {
    "collapsed": false
   },
   "outputs": [],
   "source": [
    "df = pd.read_pickle('../data/theft-street.p')\n",
    "#df.head(3)"
   ]
  },
  {
   "cell_type": "code",
   "execution_count": 3,
   "metadata": {
    "collapsed": false
   },
   "outputs": [
    {
     "data": {
      "text/html": [
       "<div>\n",
       "<table border=\"1\" class=\"dataframe\">\n",
       "  <thead>\n",
       "    <tr style=\"text-align: right;\">\n",
       "      <th></th>\n",
       "      <th>address</th>\n",
       "      <th>date</th>\n",
       "      <th>dayofweek</th>\n",
       "      <th>descript</th>\n",
       "      <th>time</th>\n",
       "      <th>x</th>\n",
       "      <th>y</th>\n",
       "      <th>nhood</th>\n",
       "      <th>tractce10</th>\n",
       "      <th>police_district</th>\n",
       "      <th>hist_police_district</th>\n",
       "      <th>month</th>\n",
       "      <th>year</th>\n",
       "    </tr>\n",
       "  </thead>\n",
       "  <tbody>\n",
       "    <tr>\n",
       "      <th>0</th>\n",
       "      <td>700 Block of BROADWAY ST</td>\n",
       "      <td>2010-01-01</td>\n",
       "      <td>Friday</td>\n",
       "      <td>ATTEMPTED GRAND THEFT FROM PERSON</td>\n",
       "      <td>05:45:00</td>\n",
       "      <td>-122.409987</td>\n",
       "      <td>37.797511</td>\n",
       "      <td>Chinatown</td>\n",
       "      <td>010700</td>\n",
       "      <td>CENTRAL</td>\n",
       "      <td>CENTRAL</td>\n",
       "      <td>1</td>\n",
       "      <td>2010</td>\n",
       "    </tr>\n",
       "    <tr>\n",
       "      <th>1</th>\n",
       "      <td>THE EMBARCADEROSOUTH ST / TOWNSEND ST</td>\n",
       "      <td>2010-01-01</td>\n",
       "      <td>Friday</td>\n",
       "      <td>PETTY THEFT OF PROPERTY</td>\n",
       "      <td>01:00:00</td>\n",
       "      <td>-122.388306</td>\n",
       "      <td>37.781798</td>\n",
       "      <td>Financial District</td>\n",
       "      <td>061500</td>\n",
       "      <td>SOUTHERN</td>\n",
       "      <td>SOUTHERN</td>\n",
       "      <td>1</td>\n",
       "      <td>2010</td>\n",
       "    </tr>\n",
       "    <tr>\n",
       "      <th>2</th>\n",
       "      <td>1600 Block of THE EMBARCADERONORTH ST</td>\n",
       "      <td>2010-01-01</td>\n",
       "      <td>Friday</td>\n",
       "      <td>GRAND THEFT FROM PERSON</td>\n",
       "      <td>01:00:00</td>\n",
       "      <td>-122.410774</td>\n",
       "      <td>37.808435</td>\n",
       "      <td>North Beach</td>\n",
       "      <td>010100</td>\n",
       "      <td>CENTRAL</td>\n",
       "      <td>CENTRAL</td>\n",
       "      <td>1</td>\n",
       "      <td>2010</td>\n",
       "    </tr>\n",
       "  </tbody>\n",
       "</table>\n",
       "</div>"
      ],
      "text/plain": [
       "                                 address        date dayofweek  \\\n",
       "0               700 Block of BROADWAY ST  2010-01-01    Friday   \n",
       "1  THE EMBARCADEROSOUTH ST / TOWNSEND ST  2010-01-01    Friday   \n",
       "2  1600 Block of THE EMBARCADERONORTH ST  2010-01-01    Friday   \n",
       "\n",
       "                            descript      time           x          y  \\\n",
       "0  ATTEMPTED GRAND THEFT FROM PERSON  05:45:00 -122.409987  37.797511   \n",
       "1            PETTY THEFT OF PROPERTY  01:00:00 -122.388306  37.781798   \n",
       "2            GRAND THEFT FROM PERSON  01:00:00 -122.410774  37.808435   \n",
       "\n",
       "                nhood tractce10 police_district hist_police_district  month  \\\n",
       "0           Chinatown    010700         CENTRAL              CENTRAL      1   \n",
       "1  Financial District    061500        SOUTHERN             SOUTHERN      1   \n",
       "2         North Beach    010100         CENTRAL              CENTRAL      1   \n",
       "\n",
       "   year  \n",
       "0  2010  \n",
       "1  2010  \n",
       "2  2010  "
      ]
     },
     "execution_count": 3,
     "metadata": {},
     "output_type": "execute_result"
    }
   ],
   "source": [
    "df['month'] = df.date.apply(lambda x: x.month)\n",
    "df['year'] = df.date.apply(lambda x: x.year)\n",
    "df.head(3)"
   ]
  },
  {
   "cell_type": "markdown",
   "metadata": {},
   "source": [
    "## Join weather and robberies"
   ]
  },
  {
   "cell_type": "code",
   "execution_count": 4,
   "metadata": {
    "collapsed": false
   },
   "outputs": [
    {
     "data": {
      "text/html": [
       "<div>\n",
       "<table border=\"1\" class=\"dataframe\">\n",
       "  <thead>\n",
       "    <tr style=\"text-align: right;\">\n",
       "      <th></th>\n",
       "      <th>DATE</th>\n",
       "      <th>PRCP</th>\n",
       "      <th>TMAX</th>\n",
       "      <th>TMIN</th>\n",
       "    </tr>\n",
       "  </thead>\n",
       "  <tbody>\n",
       "    <tr>\n",
       "      <th>0</th>\n",
       "      <td>2003-01-01</td>\n",
       "      <td>0.0</td>\n",
       "      <td>15.0</td>\n",
       "      <td>7.8</td>\n",
       "    </tr>\n",
       "    <tr>\n",
       "      <th>1</th>\n",
       "      <td>2003-01-02</td>\n",
       "      <td>0.0</td>\n",
       "      <td>13.9</td>\n",
       "      <td>8.9</td>\n",
       "    </tr>\n",
       "    <tr>\n",
       "      <th>2</th>\n",
       "      <td>2003-01-03</td>\n",
       "      <td>0.0</td>\n",
       "      <td>17.2</td>\n",
       "      <td>8.3</td>\n",
       "    </tr>\n",
       "  </tbody>\n",
       "</table>\n",
       "</div>"
      ],
      "text/plain": [
       "         DATE  PRCP  TMAX  TMIN\n",
       "0  2003-01-01   0.0  15.0   7.8\n",
       "1  2003-01-02   0.0  13.9   8.9\n",
       "2  2003-01-03   0.0  17.2   8.3"
      ]
     },
     "execution_count": 4,
     "metadata": {},
     "output_type": "execute_result"
    }
   ],
   "source": [
    "weather = pd.read_pickle(r\"../data/noaa-weather-downtown-sf.p\")\n",
    "weather.head(3)"
   ]
  },
  {
   "cell_type": "code",
   "execution_count": 5,
   "metadata": {
    "collapsed": false
   },
   "outputs": [
    {
     "name": "stdout",
     "output_type": "stream",
     "text": [
      "(65003, 13)\n",
      "(65003, 17)\n"
     ]
    },
    {
     "data": {
      "text/html": [
       "<div>\n",
       "<table border=\"1\" class=\"dataframe\">\n",
       "  <thead>\n",
       "    <tr style=\"text-align: right;\">\n",
       "      <th></th>\n",
       "      <th>address</th>\n",
       "      <th>date</th>\n",
       "      <th>dayofweek</th>\n",
       "      <th>descript</th>\n",
       "      <th>time</th>\n",
       "      <th>x</th>\n",
       "      <th>y</th>\n",
       "      <th>nhood</th>\n",
       "      <th>tractce10</th>\n",
       "      <th>police_district</th>\n",
       "      <th>hist_police_district</th>\n",
       "      <th>month</th>\n",
       "      <th>year</th>\n",
       "      <th>DATE</th>\n",
       "      <th>PRCP</th>\n",
       "      <th>TMAX</th>\n",
       "      <th>TMIN</th>\n",
       "    </tr>\n",
       "  </thead>\n",
       "  <tbody>\n",
       "    <tr>\n",
       "      <th>0</th>\n",
       "      <td>700 Block of BROADWAY ST</td>\n",
       "      <td>2010-01-01</td>\n",
       "      <td>Friday</td>\n",
       "      <td>ATTEMPTED GRAND THEFT FROM PERSON</td>\n",
       "      <td>05:45:00</td>\n",
       "      <td>-122.409987</td>\n",
       "      <td>37.797511</td>\n",
       "      <td>Chinatown</td>\n",
       "      <td>010700</td>\n",
       "      <td>CENTRAL</td>\n",
       "      <td>CENTRAL</td>\n",
       "      <td>1</td>\n",
       "      <td>2010</td>\n",
       "      <td>2010-01-01</td>\n",
       "      <td>1.3</td>\n",
       "      <td>14.4</td>\n",
       "      <td>11.1</td>\n",
       "    </tr>\n",
       "    <tr>\n",
       "      <th>1</th>\n",
       "      <td>THE EMBARCADEROSOUTH ST / TOWNSEND ST</td>\n",
       "      <td>2010-01-01</td>\n",
       "      <td>Friday</td>\n",
       "      <td>PETTY THEFT OF PROPERTY</td>\n",
       "      <td>01:00:00</td>\n",
       "      <td>-122.388306</td>\n",
       "      <td>37.781798</td>\n",
       "      <td>Financial District</td>\n",
       "      <td>061500</td>\n",
       "      <td>SOUTHERN</td>\n",
       "      <td>SOUTHERN</td>\n",
       "      <td>1</td>\n",
       "      <td>2010</td>\n",
       "      <td>2010-01-01</td>\n",
       "      <td>1.3</td>\n",
       "      <td>14.4</td>\n",
       "      <td>11.1</td>\n",
       "    </tr>\n",
       "    <tr>\n",
       "      <th>2</th>\n",
       "      <td>1600 Block of THE EMBARCADERONORTH ST</td>\n",
       "      <td>2010-01-01</td>\n",
       "      <td>Friday</td>\n",
       "      <td>GRAND THEFT FROM PERSON</td>\n",
       "      <td>01:00:00</td>\n",
       "      <td>-122.410774</td>\n",
       "      <td>37.808435</td>\n",
       "      <td>North Beach</td>\n",
       "      <td>010100</td>\n",
       "      <td>CENTRAL</td>\n",
       "      <td>CENTRAL</td>\n",
       "      <td>1</td>\n",
       "      <td>2010</td>\n",
       "      <td>2010-01-01</td>\n",
       "      <td>1.3</td>\n",
       "      <td>14.4</td>\n",
       "      <td>11.1</td>\n",
       "    </tr>\n",
       "  </tbody>\n",
       "</table>\n",
       "</div>"
      ],
      "text/plain": [
       "                                 address        date dayofweek  \\\n",
       "0               700 Block of BROADWAY ST  2010-01-01    Friday   \n",
       "1  THE EMBARCADEROSOUTH ST / TOWNSEND ST  2010-01-01    Friday   \n",
       "2  1600 Block of THE EMBARCADERONORTH ST  2010-01-01    Friday   \n",
       "\n",
       "                            descript      time           x          y  \\\n",
       "0  ATTEMPTED GRAND THEFT FROM PERSON  05:45:00 -122.409987  37.797511   \n",
       "1            PETTY THEFT OF PROPERTY  01:00:00 -122.388306  37.781798   \n",
       "2            GRAND THEFT FROM PERSON  01:00:00 -122.410774  37.808435   \n",
       "\n",
       "                nhood tractce10 police_district hist_police_district  month  \\\n",
       "0           Chinatown    010700         CENTRAL              CENTRAL      1   \n",
       "1  Financial District    061500        SOUTHERN             SOUTHERN      1   \n",
       "2         North Beach    010100         CENTRAL              CENTRAL      1   \n",
       "\n",
       "   year        DATE  PRCP  TMAX  TMIN  \n",
       "0  2010  2010-01-01   1.3  14.4  11.1  \n",
       "1  2010  2010-01-01   1.3  14.4  11.1  \n",
       "2  2010  2010-01-01   1.3  14.4  11.1  "
      ]
     },
     "execution_count": 5,
     "metadata": {},
     "output_type": "execute_result"
    }
   ],
   "source": [
    "print df.shape\n",
    "df = df.merge(weather,how=\"inner\",left_on=\"date\",right_on=\"DATE\")\n",
    "print df.shape\n",
    "df.head(3)\n"
   ]
  },
  {
   "cell_type": "markdown",
   "metadata": {},
   "source": [
    "## Aggregate by year, ignoring 2016"
   ]
  },
  {
   "cell_type": "code",
   "execution_count": 6,
   "metadata": {
    "collapsed": false,
    "scrolled": true
   },
   "outputs": [
    {
     "data": {
      "text/plain": [
       "2013    7513\n",
       "2012    7049\n",
       "2014    6886\n",
       "2015    6641\n",
       "2011    5663\n",
       "2010    4263\n",
       "2009    4139\n",
       "2003    3921\n",
       "2008    3816\n",
       "2005    3612\n",
       "2007    3539\n",
       "2006    3441\n",
       "2004    3189\n",
       "2016    1331\n",
       "Name: year, dtype: int64"
      ]
     },
     "execution_count": 6,
     "metadata": {},
     "output_type": "execute_result"
    }
   ],
   "source": [
    "df.year.value_counts()"
   ]
  },
  {
   "cell_type": "code",
   "execution_count": 7,
   "metadata": {
    "collapsed": false,
    "scrolled": true
   },
   "outputs": [
    {
     "data": {
      "text/plain": [
       "<matplotlib.axes._subplots.AxesSubplot at 0x10f890410>"
      ]
     },
     "execution_count": 7,
     "metadata": {},
     "output_type": "execute_result"
    },
    {
     "data": {
      "image/png": "[encoded data removed]",
      "text/plain": [
       "<matplotlib.figure.Figure at 0x10f748e50>"
      ]
     },
     "metadata": {},
     "output_type": "display_data"
    }
   ],
   "source": [
    "temp = df[df.year < 2016].year.value_counts().to_frame(name=\"count\")\n",
    "temp['year'] = temp.index\n",
    "temp.plot(kind=\"scatter\",x=\"year\",y=\"count\")"
   ]
  },
  {
   "cell_type": "markdown",
   "metadata": {},
   "source": [
    "## Aggregate by month, ignoring 2016"
   ]
  },
  {
   "cell_type": "code",
   "execution_count": 8,
   "metadata": {
    "collapsed": false
   },
   "outputs": [
    {
     "data": {
      "text/plain": [
       "<matplotlib.axes._subplots.AxesSubplot at 0x11497b490>"
      ]
     },
     "execution_count": 8,
     "metadata": {},
     "output_type": "execute_result"
    },
    {
     "data": {
      "image/png": "[encoded data removed]",
      "text/plain": [
       "<matplotlib.figure.Figure at 0x1147e1c10>"
      ]
     },
     "metadata": {},
     "output_type": "display_data"
    }
   ],
   "source": [
    "temp = df[df.year < 2016].month.value_counts().to_frame(name=\"count\")\n",
    "temp['month'] = temp.index\n",
    "temp.plot(kind=\"scatter\",x=\"month\",y=\"count\")"
   ]
  },
  {
   "cell_type": "markdown",
   "metadata": {},
   "source": [
    "## Aggregate by time of date"
   ]
  },
  {
   "cell_type": "code",
   "execution_count": 9,
   "metadata": {
    "collapsed": true
   },
   "outputs": [],
   "source": [
    "def time2num(t):\n",
    "    ts = t.hour * 60 + t.minute\n",
    "    return ts\n",
    "\n",
    "def num2time(ts):\n",
    "    minute = ts % 60\n",
    "    hour = (ts - minute) / 60\n",
    "    return datetime.time(hour,minute)"
   ]
  },
  {
   "cell_type": "code",
   "execution_count": 10,
   "metadata": {
    "collapsed": false,
    "scrolled": true
   },
   "outputs": [
    {
     "data": {
      "image/png": "[encoded data removed]",
      "text/plain": [
       "<matplotlib.figure.Figure at 0x114c7d510>"
      ]
     },
     "metadata": {},
     "output_type": "display_data"
    }
   ],
   "source": [
    "p = df.time.apply(time2num).hist()"
   ]
  },
  {
   "cell_type": "code",
   "execution_count": 11,
   "metadata": {
    "collapsed": false,
    "scrolled": true
   },
   "outputs": [
    {
     "data": {
      "image/png": "[encoded data removed]",
      "text/plain": [
       "<matplotlib.figure.Figure at 0x1118e0d50>"
      ]
     },
     "metadata": {},
     "output_type": "display_data"
    }
   ],
   "source": [
    "p = df.time.apply(time2num).plot.kde()\n"
   ]
  },
  {
   "cell_type": "markdown",
   "metadata": {},
   "source": [
    "## Aggregate by day of week"
   ]
  },
  {
   "cell_type": "code",
   "execution_count": 12,
   "metadata": {
    "collapsed": false,
    "scrolled": false
   },
   "outputs": [
    {
     "name": "stdout",
     "output_type": "stream",
     "text": [
      "Saturday     11057\n",
      "Friday       10659\n",
      "Thursday      9089\n",
      "Sunday        8993\n",
      "Wednesday     8839\n",
      "Tuesday       8393\n",
      "Monday        7973\n",
      "Name: dayofweek, dtype: int64\n"
     ]
    },
    {
     "data": {
      "image/png": "[encoded data removed]",
      "text/plain": [
       "<matplotlib.figure.Figure at 0x11330c450>"
      ]
     },
     "metadata": {},
     "output_type": "display_data"
    }
   ],
   "source": [
    "print df.dayofweek.value_counts()\n",
    "p = df.dayofweek.value_counts().plot.bar()"
   ]
  },
  {
   "cell_type": "markdown",
   "metadata": {},
   "source": [
    "## by TMAX"
   ]
  },
  {
   "cell_type": "code",
   "execution_count": 14,
   "metadata": {
    "collapsed": false
   },
   "outputs": [
    {
     "data": {
      "text/plain": [
       "<matplotlib.axes._subplots.AxesSubplot at 0x113261450>"
      ]
     },
     "execution_count": 14,
     "metadata": {},
     "output_type": "execute_result"
    },
    {
     "data": {
      "image/png": "[encoded data removed]",
      "text/plain": [
       "<matplotlib.figure.Figure at 0x113193ed0>"
      ]
     },
     "metadata": {},
     "output_type": "display_data"
    }
   ],
   "source": [
    "weather.TMAX.hist()"
   ]
  },
  {
   "cell_type": "code",
   "execution_count": 13,
   "metadata": {
    "collapsed": false
   },
   "outputs": [
    {
     "data": {
      "image/png": "[encoded data removed]",
      "text/plain": [
       "<matplotlib.figure.Figure at 0x11328d050>"
      ]
     },
     "metadata": {},
     "output_type": "display_data"
    }
   ],
   "source": [
    "p = df.TMAX.hist()"
   ]
  },
  {
   "cell_type": "code",
   "execution_count": 104,
   "metadata": {
    "collapsed": false,
    "scrolled": true
   },
   "outputs": [
    {
     "data": {
      "image/png": "[encoded data removed]",
      "text/plain": [
       "<matplotlib.figure.Figure at 0x114868f50>"
      ]
     },
     "metadata": {},
     "output_type": "display_data"
    }
   ],
   "source": [
    "p = df.TMAX.plot.kde()"
   ]
  },
  {
   "cell_type": "markdown",
   "metadata": {},
   "source": [
    "## By location"
   ]
  },
  {
   "cell_type": "code",
   "execution_count": 50,
   "metadata": {
    "collapsed": false,
    "scrolled": false
   },
   "outputs": [
    {
     "data": {
      "text/plain": [
       "(array([[  2.50850000e+04,   0.00000000e+00,   0.00000000e+00,\n",
       "           0.00000000e+00,   0.00000000e+00,   0.00000000e+00,\n",
       "           0.00000000e+00,   0.00000000e+00,   0.00000000e+00,\n",
       "           0.00000000e+00],\n",
       "        [  0.00000000e+00,   0.00000000e+00,   0.00000000e+00,\n",
       "           0.00000000e+00,   0.00000000e+00,   0.00000000e+00,\n",
       "           0.00000000e+00,   0.00000000e+00,   0.00000000e+00,\n",
       "           0.00000000e+00],\n",
       "        [  0.00000000e+00,   0.00000000e+00,   0.00000000e+00,\n",
       "           0.00000000e+00,   0.00000000e+00,   0.00000000e+00,\n",
       "           0.00000000e+00,   0.00000000e+00,   0.00000000e+00,\n",
       "           0.00000000e+00],\n",
       "        [  0.00000000e+00,   0.00000000e+00,   0.00000000e+00,\n",
       "           0.00000000e+00,   0.00000000e+00,   0.00000000e+00,\n",
       "           0.00000000e+00,   0.00000000e+00,   0.00000000e+00,\n",
       "           0.00000000e+00],\n",
       "        [  0.00000000e+00,   0.00000000e+00,   0.00000000e+00,\n",
       "           0.00000000e+00,   0.00000000e+00,   0.00000000e+00,\n",
       "           0.00000000e+00,   0.00000000e+00,   0.00000000e+00,\n",
       "           0.00000000e+00],\n",
       "        [  0.00000000e+00,   0.00000000e+00,   0.00000000e+00,\n",
       "           0.00000000e+00,   0.00000000e+00,   0.00000000e+00,\n",
       "           0.00000000e+00,   0.00000000e+00,   0.00000000e+00,\n",
       "           0.00000000e+00],\n",
       "        [  0.00000000e+00,   0.00000000e+00,   0.00000000e+00,\n",
       "           0.00000000e+00,   0.00000000e+00,   0.00000000e+00,\n",
       "           0.00000000e+00,   0.00000000e+00,   0.00000000e+00,\n",
       "           0.00000000e+00],\n",
       "        [  0.00000000e+00,   0.00000000e+00,   0.00000000e+00,\n",
       "           0.00000000e+00,   0.00000000e+00,   0.00000000e+00,\n",
       "           0.00000000e+00,   0.00000000e+00,   0.00000000e+00,\n",
       "           0.00000000e+00],\n",
       "        [  0.00000000e+00,   0.00000000e+00,   0.00000000e+00,\n",
       "           0.00000000e+00,   0.00000000e+00,   0.00000000e+00,\n",
       "           0.00000000e+00,   0.00000000e+00,   0.00000000e+00,\n",
       "           0.00000000e+00],\n",
       "        [  0.00000000e+00,   0.00000000e+00,   0.00000000e+00,\n",
       "           0.00000000e+00,   0.00000000e+00,   0.00000000e+00,\n",
       "           0.00000000e+00,   0.00000000e+00,   0.00000000e+00,\n",
       "           2.00000000e+00]]),\n",
       " array([-122.51364206, -122.31227786, -122.11091365, -121.90954944,\n",
       "        -121.70818524, -121.50682103, -121.30545683, -121.10409262,\n",
       "        -120.90272841, -120.70136421, -120.5       ]),\n",
       " array([ 37.70800346,  42.93720311,  48.16640277,  53.39560242,\n",
       "         58.62480207,  63.85400173,  69.08320138,  74.31240104,\n",
       "         79.54160069,  84.77080035,  90.        ]))"
      ]
     },
     "execution_count": 50,
     "metadata": {},
     "output_type": "execute_result"
    }
   ],
   "source": [
    "np.histogram2d(df.x,df.y)"
   ]
  },
  {
   "cell_type": "code",
   "execution_count": 46,
   "metadata": {
    "collapsed": false
   },
   "outputs": [
    {
     "name": "stdout",
     "output_type": "stream",
     "text": [
      "{'bandwidth': 0.3172413793103448}\n"
     ]
    }
   ],
   "source": [
    "grid = GridSearchCV(KernelDensity(),\n",
    "                    {'bandwidth': np.linspace(0.1, 1.0, 30)},\n",
    "                    cv=5) # 20-fold cross-validation\n",
    "grid.fit(df[['x','y']])\n",
    "print grid.best_params_\n",
    "kde = grid.best_estimator_"
   ]
  },
  {
   "cell_type": "code",
   "execution_count": 48,
   "metadata": {
    "collapsed": false
   },
   "outputs": [
    {
     "data": {
      "text/plain": [
       "<matplotlib.contour.QuadContourSet at 0x114feae90>"
      ]
     },
     "execution_count": 48,
     "metadata": {},
     "output_type": "execute_result"
    },
    {
     "data": {
      "image/png": "[encoded data removed]",
      "text/plain": [
       "<matplotlib.figure.Figure at 0x113607590>"
      ]
     },
     "metadata": {},
     "output_type": "display_data"
    }
   ],
   "source": [
    "xmin = -122.5237517\n",
    "xmax = -122.3602017\n",
    "ymin = 37.7040012\n",
    "ymax = 37.8341382\n",
    "\n",
    "xv, yv = np.meshgrid(np.linspace(xmin,xmax,num=200),np.linspace(ymin,ymax,num=200))\n",
    "\n",
    "X_grid = np.vstack([xv.ravel(), yv.ravel()]).transpose()\n",
    "\n",
    "\n",
    "\n",
    "Z = kde.score_samples(X_grid)\n",
    "Z = Z.reshape(xv.shape)\n",
    "\n",
    "levels = np.linspace(Z.min(), Z.max(), 25)\n",
    "plt.contourf(xv, yv, Z, levels=levels, cmap=plt.cm.Reds)"
   ]
  }
 ],
 "metadata": {
  "kernelspec": {
   "display_name": "Python 2",
   "language": "python",
   "name": "python2"
  },
  "language_info": {
   "codemirror_mode": {
    "name": "ipython",
    "version": 2
   },
   "file_extension": ".py",
   "mimetype": "text/x-python",
   "name": "python",
   "nbconvert_exporter": "python",
   "pygments_lexer": "ipython2",
   "version": "2.7.11"
  }
 },
 "nbformat": 4,
 "nbformat_minor": 0
}
