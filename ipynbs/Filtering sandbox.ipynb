{
 "cells": [
  {
   "cell_type": "code",
   "execution_count": 15,
   "metadata": {
    "collapsed": true
   },
   "outputs": [],
   "source": [
    "import pandas as pd\n",
    "from datetime import date\n",
    "from datetime import time\n",
    "from datetime import datetime"
   ]
  },
  {
   "cell_type": "code",
   "execution_count": 40,
   "metadata": {
    "collapsed": false
   },
   "outputs": [],
   "source": [
    "# Read Robbery data, add month and year columns\n",
    "fulldf = pd.read_pickle('../data/robbery-street.p')\n",
    "fulldf['month'] = fulldf.date.apply(lambda x: x.month)\n",
    "fulldf['year'] = fulldf.date.apply(lambda x: x.year)\n",
    "\n",
    "def celsius2fahrenheit(T):\n",
    "    return T*1.8 + 32.\n",
    "\n",
    "# Join with weather\n",
    "weather = pd.read_pickle(r\"../data/noaa-weather-downtown-sf.p\")\n",
    "weather.TMAX = weather.TMAX.apply(celsius2fahrenheit)\n",
    "weather.TMIN = weather.TMIN.apply(celsius2fahrenheit)\n",
    "fulldf = fulldf.merge(weather,how=\"inner\",left_on=\"date\",right_on=\"DATE\")\n",
    "\n",
    "df = fulldf[fulldf.year < 2016]"
   ]
  },
  {
   "cell_type": "code",
   "execution_count": 81,
   "metadata": {
    "collapsed": true
   },
   "outputs": [],
   "source": [
    "defaultfilters = {\n",
    "    'startDate' : '01/01/2008',\n",
    "    'endDate' : '03/01/2012',\n",
    "    'startTime' : '05:00',\n",
    "    'endTime' : '24:00',\n",
    "    'weekdays': [u'Monday', u'Tuesday', u'Wednesday', u'Thursday', u'Friday', u'Saturday', u'Sunday'],\n",
    "    'minHiTemp' : '54',\n",
    "    'maxHiTemp' : '87',\n",
    "    'minLoTemp' : '35',\n",
    "    'maxLoTemp' : '70',\n",
    "    'norain' : True,\n",
    "    'rained' : False\n",
    "}"
   ]
  },
  {
   "cell_type": "code",
   "execution_count": 10,
   "metadata": {
    "collapsed": false
   },
   "outputs": [
    {
     "name": "stdout",
     "output_type": "stream",
     "text": [
      "address                  object\n",
      "date                     object\n",
      "dayofweek                object\n",
      "descript                 object\n",
      "time                     object\n",
      "x                       float64\n",
      "y                       float64\n",
      "nhood                    object\n",
      "tractce10                object\n",
      "police_district          object\n",
      "hist_police_district     object\n",
      "month                     int64\n",
      "year                      int64\n",
      "DATE                     object\n",
      "PRCP                    float64\n",
      "TMAX                    float64\n",
      "TMIN                    float64\n",
      "dtype: object\n"
     ]
    },
    {
     "data": {
      "text/html": [
       "<div>\n",
       "<table border=\"1\" class=\"dataframe\">\n",
       "  <thead>\n",
       "    <tr style=\"text-align: right;\">\n",
       "      <th></th>\n",
       "      <th>address</th>\n",
       "      <th>date</th>\n",
       "      <th>dayofweek</th>\n",
       "      <th>descript</th>\n",
       "      <th>time</th>\n",
       "      <th>x</th>\n",
       "      <th>y</th>\n",
       "      <th>nhood</th>\n",
       "      <th>tractce10</th>\n",
       "      <th>police_district</th>\n",
       "      <th>hist_police_district</th>\n",
       "      <th>month</th>\n",
       "      <th>year</th>\n",
       "      <th>DATE</th>\n",
       "      <th>PRCP</th>\n",
       "      <th>TMAX</th>\n",
       "      <th>TMIN</th>\n",
       "    </tr>\n",
       "  </thead>\n",
       "  <tbody>\n",
       "    <tr>\n",
       "      <th>0</th>\n",
       "      <td>400 Block of 6TH AV</td>\n",
       "      <td>2015-08-18</td>\n",
       "      <td>Tuesday</td>\n",
       "      <td>ROBBERY ON THE STREET, STRONGARM</td>\n",
       "      <td>08:55:00</td>\n",
       "      <td>-122.464280</td>\n",
       "      <td>37.780033</td>\n",
       "      <td>Inner Richmond</td>\n",
       "      <td>045200</td>\n",
       "      <td>RICHMOND</td>\n",
       "      <td>RICHMOND</td>\n",
       "      <td>8</td>\n",
       "      <td>2015</td>\n",
       "      <td>2015-08-18</td>\n",
       "      <td>0.0</td>\n",
       "      <td>21.1</td>\n",
       "      <td>15.0</td>\n",
       "    </tr>\n",
       "    <tr>\n",
       "      <th>1</th>\n",
       "      <td>800 Block of 26TH AV</td>\n",
       "      <td>2015-08-18</td>\n",
       "      <td>Tuesday</td>\n",
       "      <td>ROBBERY ON THE STREET WITH A GUN</td>\n",
       "      <td>23:35:00</td>\n",
       "      <td>-122.485397</td>\n",
       "      <td>37.773433</td>\n",
       "      <td>Outer Richmond</td>\n",
       "      <td>047702</td>\n",
       "      <td>RICHMOND</td>\n",
       "      <td>RICHMOND</td>\n",
       "      <td>8</td>\n",
       "      <td>2015</td>\n",
       "      <td>2015-08-18</td>\n",
       "      <td>0.0</td>\n",
       "      <td>21.1</td>\n",
       "      <td>15.0</td>\n",
       "    </tr>\n",
       "    <tr>\n",
       "      <th>2</th>\n",
       "      <td>700 Block of MOSCOW ST</td>\n",
       "      <td>2015-08-18</td>\n",
       "      <td>Tuesday</td>\n",
       "      <td>ATTEMPTED ROBBERY ON THE STREET W/DEADLY WEAPON</td>\n",
       "      <td>21:30:00</td>\n",
       "      <td>-122.431690</td>\n",
       "      <td>37.715773</td>\n",
       "      <td>Excelsior</td>\n",
       "      <td>026302</td>\n",
       "      <td>INGLESIDE</td>\n",
       "      <td>INGLESIDE</td>\n",
       "      <td>8</td>\n",
       "      <td>2015</td>\n",
       "      <td>2015-08-18</td>\n",
       "      <td>0.0</td>\n",
       "      <td>21.1</td>\n",
       "      <td>15.0</td>\n",
       "    </tr>\n",
       "  </tbody>\n",
       "</table>\n",
       "</div>"
      ],
      "text/plain": [
       "                  address        date dayofweek  \\\n",
       "0     400 Block of 6TH AV  2015-08-18   Tuesday   \n",
       "1    800 Block of 26TH AV  2015-08-18   Tuesday   \n",
       "2  700 Block of MOSCOW ST  2015-08-18   Tuesday   \n",
       "\n",
       "                                          descript      time           x  \\\n",
       "0                 ROBBERY ON THE STREET, STRONGARM  08:55:00 -122.464280   \n",
       "1                 ROBBERY ON THE STREET WITH A GUN  23:35:00 -122.485397   \n",
       "2  ATTEMPTED ROBBERY ON THE STREET W/DEADLY WEAPON  21:30:00 -122.431690   \n",
       "\n",
       "           y           nhood tractce10 police_district hist_police_district  \\\n",
       "0  37.780033  Inner Richmond    045200        RICHMOND             RICHMOND   \n",
       "1  37.773433  Outer Richmond    047702        RICHMOND             RICHMOND   \n",
       "2  37.715773       Excelsior    026302       INGLESIDE            INGLESIDE   \n",
       "\n",
       "   month  year        DATE  PRCP  TMAX  TMIN  \n",
       "0      8  2015  2015-08-18   0.0  21.1  15.0  \n",
       "1      8  2015  2015-08-18   0.0  21.1  15.0  \n",
       "2      8  2015  2015-08-18   0.0  21.1  15.0  "
      ]
     },
     "execution_count": 10,
     "metadata": {},
     "output_type": "execute_result"
    }
   ],
   "source": [
    "print df.dtypes\n",
    "df.head(3)"
   ]
  },
  {
   "cell_type": "code",
   "execution_count": 12,
   "metadata": {
    "collapsed": false
   },
   "outputs": [
    {
     "data": {
      "text/plain": [
       "datetime.date(2015, 8, 18)"
      ]
     },
     "execution_count": 12,
     "metadata": {},
     "output_type": "execute_result"
    }
   ],
   "source": [
    "df['date'][0]"
   ]
  },
  {
   "cell_type": "code",
   "execution_count": 20,
   "metadata": {
    "collapsed": false
   },
   "outputs": [
    {
     "data": {
      "text/plain": [
       "datetime.date(2008, 1, 1)"
      ]
     },
     "execution_count": 20,
     "metadata": {},
     "output_type": "execute_result"
    }
   ],
   "source": [
    "startDate = datetime.strptime(defaultfilters['startDate'],\"%m/%d/%Y\").date()\n",
    "startDate"
   ]
  },
  {
   "cell_type": "code",
   "execution_count": 21,
   "metadata": {
    "collapsed": false
   },
   "outputs": [
    {
     "data": {
      "text/plain": [
       "datetime.date(2012, 3, 1)"
      ]
     },
     "execution_count": 21,
     "metadata": {},
     "output_type": "execute_result"
    }
   ],
   "source": [
    "endDate = datetime.strptime(defaultfilters['endDate'],\"%m/%d/%Y\").date()\n",
    "endDate"
   ]
  },
  {
   "cell_type": "code",
   "execution_count": 31,
   "metadata": {
    "collapsed": false
   },
   "outputs": [
    {
     "name": "stdout",
     "output_type": "stream",
     "text": [
      "2012-03-01\n",
      "2008-01-01\n"
     ]
    }
   ],
   "source": [
    "df_filt = df[(df.date >= startDate) & (df.date <= endDate)]\n",
    "print df_filt['date'].max()\n",
    "print df_filt['date'].min()"
   ]
  },
  {
   "cell_type": "code",
   "execution_count": 84,
   "metadata": {
    "collapsed": false
   },
   "outputs": [
    {
     "data": {
      "text/plain": [
       "datetime.time(23, 59, 59, 999999)"
      ]
     },
     "execution_count": 84,
     "metadata": {},
     "output_type": "execute_result"
    }
   ],
   "source": [
    "time.max"
   ]
  },
  {
   "cell_type": "code",
   "execution_count": 85,
   "metadata": {
    "collapsed": false,
    "scrolled": true
   },
   "outputs": [
    {
     "data": {
      "text/plain": [
       "datetime.time(23, 59, 59, 999999)"
      ]
     },
     "execution_count": 85,
     "metadata": {},
     "output_type": "execute_result"
    }
   ],
   "source": [
    "startTime = datetime.strptime(defaultfilters['startTime'],\"%H:%M\").time()\n",
    "startTime\n",
    "if defaultfilters['endTime'] == '24:00':\n",
    "    endTime = time.max\n",
    "else:\n",
    "    endTime = datetime.strptime(defaultfilters['endTime'],\"%H:%M\").time()\n",
    "endTime"
   ]
  },
  {
   "cell_type": "code",
   "execution_count": 86,
   "metadata": {
    "collapsed": false
   },
   "outputs": [
    {
     "name": "stdout",
     "output_type": "stream",
     "text": [
      "23:59:00\n",
      "05:00:00\n"
     ]
    }
   ],
   "source": [
    "df_filt = df[(df.time >= startTime) & (df.time < endTime)]\n",
    "print df_filt['time'].max()\n",
    "print df_filt['time'].min()"
   ]
  },
  {
   "cell_type": "code",
   "execution_count": 41,
   "metadata": {
    "collapsed": false
   },
   "outputs": [
    {
     "name": "stdout",
     "output_type": "stream",
     "text": [
      "86.0\n",
      "55.04\n"
     ]
    }
   ],
   "source": [
    "df_filt = df[(df.TMAX >= float(defaultfilters['minHiTemp'])) & (df.TMAX < float(defaultfilters['maxHiTemp']))]\n",
    "print df_filt['TMAX'].max()\n",
    "print df_filt['TMAX'].min()"
   ]
  },
  {
   "cell_type": "code",
   "execution_count": 67,
   "metadata": {
    "collapsed": false
   },
   "outputs": [
    {
     "data": {
      "text/plain": [
       "0        False\n",
       "1        False\n",
       "2        False\n",
       "3        False\n",
       "4        False\n",
       "5        False\n",
       "6        False\n",
       "7        False\n",
       "8        False\n",
       "9        False\n",
       "10       False\n",
       "11       False\n",
       "12       False\n",
       "13       False\n",
       "14       False\n",
       "15       False\n",
       "16       False\n",
       "17       False\n",
       "20       False\n",
       "21       False\n",
       "22       False\n",
       "23       False\n",
       "24       False\n",
       "25       False\n",
       "26       False\n",
       "27       False\n",
       "28       False\n",
       "29       False\n",
       "30       False\n",
       "31       False\n",
       "         ...  \n",
       "25054    False\n",
       "25055    False\n",
       "25056    False\n",
       "25057    False\n",
       "25058    False\n",
       "25059    False\n",
       "25060    False\n",
       "25061    False\n",
       "25062    False\n",
       "25063    False\n",
       "25064    False\n",
       "25065    False\n",
       "25066    False\n",
       "25067    False\n",
       "25068    False\n",
       "25069    False\n",
       "25070    False\n",
       "25071    False\n",
       "25072    False\n",
       "25073    False\n",
       "25074    False\n",
       "25075    False\n",
       "25076    False\n",
       "25077    False\n",
       "25078    False\n",
       "25079    False\n",
       "25080    False\n",
       "25081    False\n",
       "25082    False\n",
       "25083    False\n",
       "Name: PRCP, dtype: bool"
      ]
     },
     "execution_count": 67,
     "metadata": {},
     "output_type": "execute_result"
    }
   ],
   "source": [
    "((df.PRCP == 0) & False)"
   ]
  },
  {
   "cell_type": "code",
   "execution_count": 66,
   "metadata": {
    "collapsed": false
   },
   "outputs": [
    {
     "data": {
      "text/plain": [
       "0        False\n",
       "1        False\n",
       "2        False\n",
       "3        False\n",
       "4        False\n",
       "5        False\n",
       "6        False\n",
       "7        False\n",
       "8        False\n",
       "9        False\n",
       "10       False\n",
       "11       False\n",
       "12       False\n",
       "13       False\n",
       "14       False\n",
       "15       False\n",
       "16       False\n",
       "17       False\n",
       "20       False\n",
       "21       False\n",
       "22       False\n",
       "23       False\n",
       "24       False\n",
       "25       False\n",
       "26       False\n",
       "27       False\n",
       "28       False\n",
       "29       False\n",
       "30       False\n",
       "31       False\n",
       "         ...  \n",
       "25054    False\n",
       "25055    False\n",
       "25056    False\n",
       "25057    False\n",
       "25058    False\n",
       "25059    False\n",
       "25060    False\n",
       "25061    False\n",
       "25062    False\n",
       "25063    False\n",
       "25064    False\n",
       "25065    False\n",
       "25066    False\n",
       "25067    False\n",
       "25068    False\n",
       "25069    False\n",
       "25070    False\n",
       "25071    False\n",
       "25072    False\n",
       "25073    False\n",
       "25074    False\n",
       "25075    False\n",
       "25076    False\n",
       "25077    False\n",
       "25078    False\n",
       "25079    False\n",
       "25080    False\n",
       "25081    False\n",
       "25082    False\n",
       "25083    False\n",
       "dtype: bool"
      ]
     },
     "execution_count": 66,
     "metadata": {},
     "output_type": "execute_result"
    }
   ],
   "source": [
    "((df.PRCP == 0) & pd.Series(False, index=xrange(len(df.PRCP))))"
   ]
  },
  {
   "cell_type": "code",
   "execution_count": 70,
   "metadata": {
    "collapsed": false,
    "scrolled": true
   },
   "outputs": [
    {
     "name": "stdout",
     "output_type": "stream",
     "text": [
      "86.4\n",
      "0.3\n"
     ]
    }
   ],
   "source": [
    "df_filt = df[((df.PRCP == 0) & False) | ((df.PRCP > 0) & True)]\n",
    "print df_filt['PRCP'].max()\n",
    "print df_filt['PRCP'].min()"
   ]
  },
  {
   "cell_type": "code",
   "execution_count": 80,
   "metadata": {
    "collapsed": false
   },
   "outputs": [
    {
     "data": {
      "text/plain": [
       "Saturday    3757\n",
       "Sunday      3718\n",
       "Monday      3556\n",
       "Friday      3489\n",
       "Name: dayofweek, dtype: int64"
      ]
     },
     "execution_count": 80,
     "metadata": {},
     "output_type": "execute_result"
    }
   ],
   "source": [
    "foo = [u'Monday', u'Friday', u'Saturday', u'Sunday']\n",
    "df_filt = df[df['dayofweek'].apply(lambda x: x in foo)]\n",
    "df_filt.dayofweek.value_counts()"
   ]
  }
 ],
 "metadata": {
  "kernelspec": {
   "display_name": "Python 2",
   "language": "python",
   "name": "python2"
  },
  "language_info": {
   "codemirror_mode": {
    "name": "ipython",
    "version": 2
   },
   "file_extension": ".py",
   "mimetype": "text/x-python",
   "name": "python",
   "nbconvert_exporter": "python",
   "pygments_lexer": "ipython2",
   "version": "2.7.11"
  }
 },
 "nbformat": 4,
 "nbformat_minor": 0
}
