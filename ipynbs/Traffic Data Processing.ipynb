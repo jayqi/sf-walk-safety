{
 "cells": [
  {
   "cell_type": "code",
   "execution_count": 1,
   "metadata": {
    "collapsed": false,
    "scrolled": true
   },
   "outputs": [],
   "source": [
    "%matplotlib inline\n",
    "import pandas as pd\n",
    "import numpy as np\n",
    "\n",
    "import datetime as dt\n",
    "\n",
    "import csv\n",
    "\n"
   ]
  },
  {
   "cell_type": "markdown",
   "metadata": {},
   "source": [
    "# Read data"
   ]
  },
  {
   "cell_type": "code",
   "execution_count": 2,
   "metadata": {
    "collapsed": false,
    "scrolled": false
   },
   "outputs": [
    {
     "name": "stdout",
     "output_type": "stream",
     "text": [
      "(59368, 76)\n"
     ]
    },
    {
     "name": "stderr",
     "output_type": "stream",
     "text": [
      "/Users/Jay/miniconda3/envs/sf-walk-safety/lib/python2.7/site-packages/IPython/core/interactiveshell.py:2723: DtypeWarning: Columns (26,29,30,32,33,34) have mixed types. Specify dtype option on import or set low_memory=False.\n",
      "  interactivity=interactivity, compiler=compiler, result=result)\n"
     ]
    }
   ],
   "source": [
    "# Read data\n",
    "df = pd.read_csv('../rawdata/traffic-CollisionRecords.csv')\n",
    "print df.shape"
   ]
  },
  {
   "cell_type": "markdown",
   "metadata": {},
   "source": [
    "## Convert date and time to datetime objects"
   ]
  },
  {
   "cell_type": "code",
   "execution_count": 3,
   "metadata": {
    "collapsed": false
   },
   "outputs": [
    {
     "data": {
      "text/plain": [
       "0    2003-01-04\n",
       "1    2003-01-01\n",
       "2    2003-02-07\n",
       "Name: COLLISION_DATE, dtype: object"
      ]
     },
     "execution_count": 3,
     "metadata": {},
     "output_type": "execute_result"
    }
   ],
   "source": [
    "df['COLLISION_DATE'] = df['COLLISION_DATE'].apply(lambda x: dt.datetime.strptime(str(x).zfill(8),\"%Y%m%d\").date())\n",
    "\n",
    "df['COLLISION_DATE'].head(3)"
   ]
  },
  {
   "cell_type": "code",
   "execution_count": 4,
   "metadata": {
    "collapsed": false
   },
   "outputs": [
    {
     "data": {
      "text/plain": [
       "0    12:05:00\n",
       "1    23:38:00\n",
       "2    08:00:00\n",
       "Name: COLLISION_TIME, dtype: object"
      ]
     },
     "execution_count": 4,
     "metadata": {},
     "output_type": "execute_result"
    }
   ],
   "source": [
    "df['COLLISION_TIME'] = df['COLLISION_TIME'].apply(lambda x: dt.datetime.strptime(str(x % 2400).zfill(4),\"%H%M\").time())\n",
    "\n",
    "df['COLLISION_TIME'].head(3)"
   ]
  },
  {
   "cell_type": "markdown",
   "metadata": {},
   "source": [
    "## Drop non-pedestrian accidents"
   ]
  },
  {
   "cell_type": "code",
   "execution_count": 5,
   "metadata": {
    "collapsed": false
   },
   "outputs": [
    {
     "name": "stdout",
     "output_type": "stream",
     "text": [
      "(10459, 76)\n"
     ]
    }
   ],
   "source": [
    "# Drop non-pedestrian accidents\n",
    "df = df[pd.notnull(df['PEDESTRIAN_ACCIDENT'])].copy()\n",
    "df = df[df['PED_ACTION'] != 'A'].copy()\n",
    "\n",
    "print df.shape\n"
   ]
  },
  {
   "cell_type": "markdown",
   "metadata": {},
   "source": [
    "## Join data with geocoded lat/long"
   ]
  },
  {
   "cell_type": "code",
   "execution_count": 6,
   "metadata": {
    "collapsed": false
   },
   "outputs": [
    {
     "name": "stdout",
     "output_type": "stream",
     "text": [
      "(10479, 5)\n",
      "(10459, 79)\n"
     ]
    }
   ],
   "source": [
    "# Read geocode latlong\n",
    "geocode = pd.read_csv('../scripts/data_geocoded.txt',sep='|',header=None,names=['CASE_ID','PRIMARY_RD','SECONDARY_RD','y','x'])\n",
    "print geocode.shape\n",
    "\n",
    "# Join data\n",
    "df.reset_index(inplace=True)\n",
    "df = df.merge(geocode[['CASE_ID','x','y']],how=\"inner\",left_on=\"CASE_ID\",right_on=\"CASE_ID\")\n",
    "print df.shape"
   ]
  },
  {
   "cell_type": "markdown",
   "metadata": {},
   "source": [
    "# Merge weather"
   ]
  },
  {
   "cell_type": "code",
   "execution_count": 7,
   "metadata": {
    "collapsed": true
   },
   "outputs": [],
   "source": [
    "def merge_weather(w1,w2):\n",
    "    \n",
    "    Weather_Decode = {\n",
    "        'A' : 'Clear',\n",
    "        'B' : 'Cloudy',\n",
    "        'C' : 'Raining',\n",
    "        'D' : 'Snowing',\n",
    "        'E' : 'Fog',\n",
    "        'F' : 'Other',\n",
    "        'G' : 'Wind',\n",
    "        '-' : None\n",
    "    }\n",
    "    \n",
    "    out = ''\n",
    "    \n",
    "    if Weather_Decode[w1]:\n",
    "    \n",
    "        out = Weather_Decode[w1]\n",
    "        \n",
    "        if Weather_Decode[w2]:\n",
    "            out = ', '.join([out, Weather_Decode[w2]])\n",
    "    \n",
    "    elif Weather_Decode[w2]:\n",
    "        out = Weather_Decode[w2]\n",
    "    \n",
    "    return out"
   ]
  },
  {
   "cell_type": "code",
   "execution_count": 8,
   "metadata": {
    "collapsed": false,
    "scrolled": true
   },
   "outputs": [
    {
     "data": {
      "text/plain": [
       "0      Clear\n",
       "1    Raining\n",
       "2     Cloudy\n",
       "Name: WEATHER, dtype: object"
      ]
     },
     "execution_count": 8,
     "metadata": {},
     "output_type": "execute_result"
    }
   ],
   "source": [
    "df['WEATHER'] = df[['WEATHER_1','WEATHER_2']].apply(lambda row : merge_weather(row[0],row[1]), axis=1)\n",
    "df['WEATHER'].head(3)"
   ]
  },
  {
   "cell_type": "markdown",
   "metadata": {},
   "source": [
    "## Decode day of week"
   ]
  },
  {
   "cell_type": "code",
   "execution_count": 9,
   "metadata": {
    "collapsed": false,
    "scrolled": true
   },
   "outputs": [
    {
     "data": {
      "text/plain": [
       "0      Monday\n",
       "1    Thursday\n",
       "2      Friday\n",
       "Name: DAY_OF_WEEK, dtype: object"
      ]
     },
     "execution_count": 9,
     "metadata": {},
     "output_type": "execute_result"
    }
   ],
   "source": [
    "Day_of_Week_Decode = {\n",
    "    1 : 'Monday',\n",
    "    2 : 'Tuesday',\n",
    "    3 : 'Wednesday',\n",
    "    4 : 'Thursday',\n",
    "    5 : 'Friday',\n",
    "    6 : 'Saturday',\n",
    "    7 : 'Sunday'\n",
    "}\n",
    "\n",
    "df['DAY_OF_WEEK'] = df['DAY_OF_WEEK'].apply(lambda x : Day_of_Week_Decode[x])\n",
    "\n",
    "df['DAY_OF_WEEK'].head(3)"
   ]
  },
  {
   "cell_type": "markdown",
   "metadata": {},
   "source": [
    "## Merge location"
   ]
  },
  {
   "cell_type": "code",
   "execution_count": 10,
   "metadata": {
    "collapsed": true
   },
   "outputs": [],
   "source": [
    "def merge_location(S):\n",
    "    \n",
    "    Direction_Decode = {\n",
    "        'N' : 'north',\n",
    "        'W' : 'west',\n",
    "        'E' : 'east',\n",
    "        'S' : 'south'\n",
    "    }\n",
    "    \n",
    "    loc = ' and '.join([S['PRIMARY_RD'].strip(), S['SECONDARY_RD'].strip()])\n",
    "    \n",
    "    if S['INTERSECTION'] == 'Y':\n",
    "        loc = ', '.join([loc, 'at intersection'])\n",
    "    elif not pd.isnull(S['DISTANCE']) and not pd.isnull(S['DIRECTION']): \n",
    "        direction = ' ft '.join([str(S['DISTANCE']), Direction_Decode[S['DIRECTION']] ])\n",
    "        loc = ', '.join([loc, direction])\n",
    "    \n",
    "    return loc"
   ]
  },
  {
   "cell_type": "code",
   "execution_count": 11,
   "metadata": {
    "collapsed": false
   },
   "outputs": [
    {
     "data": {
      "text/plain": [
       "0       JACKSON ST and GRANT AV, 77.0 ft east\n",
       "1        TARAVAL ST and 19TH AV, 64.0 ft west\n",
       "2       N 7TH ST and MARKET ST, 20.0 ft north\n",
       "3    FRANKLIN ST and POST ST, at intersection\n",
       "4      CLEMENTINA ST and 4TH ST, 90.0 ft west\n",
       "Name: location, dtype: object"
      ]
     },
     "execution_count": 11,
     "metadata": {},
     "output_type": "execute_result"
    }
   ],
   "source": [
    "df['location'] = df[['PRIMARY_RD','SECONDARY_RD','INTERSECTION','DISTANCE','DIRECTION']].apply(merge_location,axis=1)\n",
    "df['location'].head()"
   ]
  },
  {
   "cell_type": "markdown",
   "metadata": {},
   "source": [
    "## Primary Collision Factor"
   ]
  },
  {
   "cell_type": "code",
   "execution_count": 12,
   "metadata": {
    "collapsed": false
   },
   "outputs": [
    {
     "data": {
      "text/plain": [
       "0          Pedestrian violation\n",
       "1          Pedestrian violation\n",
       "2       Pedestrian right of way\n",
       "3       Pedestrian right of way\n",
       "4    Unsafe starting or backing\n",
       "Name: PRIMARY_COLLISION_FACTOR, dtype: object"
      ]
     },
     "execution_count": 12,
     "metadata": {},
     "output_type": "execute_result"
    }
   ],
   "source": [
    "PCF_Decode = {\n",
    "    '01' : \"Driving or bicycling under the influence of alcohol or drug\",\n",
    "    '02' : \"Impeding traffic\",\n",
    "    '03' : \"Unsafe speed\",\n",
    "    '04' : \"Following too closely\",\n",
    "    '05' : \"Wrong side of road\",\n",
    "    '06' : \"Improper passing\",\n",
    "    '07' : \"Unsafe lane change\",\n",
    "    '08' : \"Improper turning\",\n",
    "    '09' : \"Automobile right of way\",\n",
    "    '10': \"Pedestrian right of way\",\n",
    "    '11': \"Pedestrian violation\",\n",
    "    '12': \"Traffic signals and signs\",\n",
    "    '13': \"Hazardous parking\",\n",
    "    '14': \"Lights\",\n",
    "    '15': \"Brakes\",\n",
    "    '16': \"Other equipment\",\n",
    "    '17': \"Other hazardous violation\",\n",
    "    '18': \"Other than driver (or pedestrian)\",\n",
    "    '19': \"Unknown\",\n",
    "    '20': \"Unknown\",\n",
    "    '21': \"Unsafe starting or backing\",\n",
    "    '22': \"Other improper driving\",\n",
    "    '23': 'Pedestrian or \"other\" under the influence of alcohol or drug',\n",
    "    '24': \"Fell asleep\",\n",
    "    '00': \"Unknown\",\n",
    "    '- ' : \"Unknown\"\n",
    "}\n",
    "\n",
    "df['PRIMARY_COLLISION_FACTOR'] = df['PCF_VIOL_CATEGORY'].apply(lambda x: PCF_Decode[x])\n",
    "df['PRIMARY_COLLISION_FACTOR'].head()"
   ]
  },
  {
   "cell_type": "markdown",
   "metadata": {},
   "source": [
    "## Hit and Run"
   ]
  },
  {
   "cell_type": "code",
   "execution_count": 13,
   "metadata": {
    "collapsed": false
   },
   "outputs": [
    {
     "data": {
      "text/plain": [
       "0                      No\n",
       "1                      No\n",
       "2                      No\n",
       "3    Hit and run (felony)\n",
       "4                      No\n",
       "Name: HIT_AND_RUN, dtype: object"
      ]
     },
     "execution_count": 13,
     "metadata": {},
     "output_type": "execute_result"
    }
   ],
   "source": [
    "Hit_and_Run_Decode = {\n",
    "    'N' : \"No\",\n",
    "    'F' : 'Hit and run (felony)',\n",
    "    'M' : 'Hit and run (misdemeanor)'\n",
    "}\n",
    "\n",
    "df['HIT_AND_RUN'] = df['HIT_AND_RUN'].apply(lambda x: Hit_and_Run_Decode[x])\n",
    "df['HIT_AND_RUN'].head()"
   ]
  },
  {
   "cell_type": "markdown",
   "metadata": {},
   "source": [
    "## Pedestrian Action"
   ]
  },
  {
   "cell_type": "code",
   "execution_count": 14,
   "metadata": {
    "collapsed": false
   },
   "outputs": [
    {
     "data": {
      "text/plain": [
       "0                Crossing, not in crosswalk\n",
       "1                Crossing, not in crosswalk\n",
       "2    Crossing, in crosswalk at intersection\n",
       "3    Crossing, in crosswalk at intersection\n",
       "4                Crossing, not in crosswalk\n",
       "Name: PED_ACTION, dtype: object"
      ]
     },
     "execution_count": 14,
     "metadata": {},
     "output_type": "execute_result"
    }
   ],
   "source": [
    "Ped_Action_Decode = {\n",
    "    'B' : 'Crossing, in crosswalk at intersection',\n",
    "    'C' : 'Crossing, in crosswalk not at intersection',\n",
    "    'D' : 'Crossing, not in crosswalk',\n",
    "    'E' : 'In road, including shoulder',\n",
    "    'F' : 'Not in road',\n",
    "    'G' : 'Approaching or leaving school bus',\n",
    "    '-' : 'Unknown'\n",
    "}\n",
    "\n",
    "df['PED_ACTION'] = df['PED_ACTION'].apply(lambda x: Ped_Action_Decode[x])\n",
    "df['PED_ACTION'].head()"
   ]
  },
  {
   "cell_type": "markdown",
   "metadata": {},
   "source": [
    "## Road surface"
   ]
  },
  {
   "cell_type": "code",
   "execution_count": 15,
   "metadata": {
    "collapsed": false
   },
   "outputs": [
    {
     "data": {
      "text/plain": [
       "0    Dry\n",
       "1    Wet\n",
       "2    Wet\n",
       "3    Dry\n",
       "4    Dry\n",
       "Name: ROAD_SURFACE, dtype: object"
      ]
     },
     "execution_count": 15,
     "metadata": {},
     "output_type": "execute_result"
    }
   ],
   "source": [
    "Road_Surface_Decode = {\n",
    "    'A' : 'Dry',\n",
    "    'B' : 'Wet',\n",
    "    'C' : 'Snowy or Icy',\n",
    "    'D' : 'Slippery (Muddy, Oily, etc.)',\n",
    "    '-' : 'Unknown'\n",
    "}\n",
    "\n",
    "df['ROAD_SURFACE'] = df['ROAD_SURFACE'].apply(lambda x: Road_Surface_Decode[x])\n",
    "df['ROAD_SURFACE'].head()"
   ]
  },
  {
   "cell_type": "markdown",
   "metadata": {},
   "source": [
    "## Merge road condition"
   ]
  },
  {
   "cell_type": "code",
   "execution_count": 16,
   "metadata": {
    "collapsed": true
   },
   "outputs": [],
   "source": [
    "def merge_road_conditions(S):\n",
    "    \n",
    "    Road_Cond_Decode = {\n",
    "        'A' : 'Holes or deep ruts',\n",
    "        'B' : 'Loose material on roadway',\n",
    "        'C' : 'Obstruction on roadway',\n",
    "        'D' : 'Construction or repair zone',\n",
    "        'E' : 'Reduced roadway width',\n",
    "        'F' : 'Flooded',\n",
    "        'G' : 'Other',\n",
    "        'H' : 'No unusual condition',\n",
    "        '-' : 'Unknown'\n",
    "    }\n",
    "    \n",
    "    out = Road_Cond_Decode[S['ROAD_COND_1']]\n",
    "    \n",
    "    if S['ROAD_COND_2'] != '-':\n",
    "        out = ', '.join([out, Road_Cond_Decode[S['ROAD_COND_2']]])\n",
    "    \n",
    "    return out"
   ]
  },
  {
   "cell_type": "code",
   "execution_count": 17,
   "metadata": {
    "collapsed": false
   },
   "outputs": [
    {
     "data": {
      "text/plain": [
       "0    No unusual condition\n",
       "1    No unusual condition\n",
       "2    No unusual condition\n",
       "3    No unusual condition\n",
       "4    No unusual condition\n",
       "Name: ROAD_COND, dtype: object"
      ]
     },
     "execution_count": 17,
     "metadata": {},
     "output_type": "execute_result"
    }
   ],
   "source": [
    "df['ROAD_COND'] = df[['ROAD_COND_1','ROAD_COND_2']].apply(merge_road_conditions,axis=1)\n",
    "df['ROAD_COND'].head()"
   ]
  },
  {
   "cell_type": "markdown",
   "metadata": {},
   "source": [
    "## Lighting"
   ]
  },
  {
   "cell_type": "code",
   "execution_count": 18,
   "metadata": {
    "collapsed": false
   },
   "outputs": [
    {
     "data": {
      "text/plain": [
       "0                   Daylight\n",
       "1       Dark - Street lights\n",
       "2       Dark - Street lights\n",
       "3    Dark - No street lights\n",
       "4                   Daylight\n",
       "Name: LIGHTING, dtype: object"
      ]
     },
     "execution_count": 18,
     "metadata": {},
     "output_type": "execute_result"
    }
   ],
   "source": [
    "Lighting_Decode = {\n",
    "    'A' : 'Daylight',\n",
    "    'B' : 'Dusk or Dawn',\n",
    "    'C' : 'Dark - Street lights',\n",
    "    'D' : 'Dark - No street lights',\n",
    "    'E' : 'Dark - Street lights not functioning',\n",
    "    '-' : 'Unknown'\n",
    "}\n",
    "\n",
    "df['LIGHTING'] = df['LIGHTING'].apply(lambda x: Lighting_Decode[x])\n",
    "df['LIGHTING'].head()"
   ]
  },
  {
   "cell_type": "markdown",
   "metadata": {},
   "source": [
    "## Alcohol Involved"
   ]
  },
  {
   "cell_type": "code",
   "execution_count": 28,
   "metadata": {
    "collapsed": false
   },
   "outputs": [
    {
     "name": "stdout",
     "output_type": "stream",
     "text": [
      "False    9340\n",
      "True     1119\n",
      "Name: ALCOHOL_INVOLVED, dtype: int64\n"
     ]
    },
    {
     "data": {
      "text/plain": [
       "0     False\n",
       "1     False\n",
       "2     False\n",
       "3     False\n",
       "4     False\n",
       "5     False\n",
       "6     False\n",
       "7     False\n",
       "8     False\n",
       "9     False\n",
       "10    False\n",
       "11    False\n",
       "12     True\n",
       "13    False\n",
       "14    False\n",
       "Name: ALCOHOL_INVOLVED, dtype: bool"
      ]
     },
     "execution_count": 28,
     "metadata": {},
     "output_type": "execute_result"
    }
   ],
   "source": [
    "df.replace(to_replace='Y',value=True,inplace=True)\n",
    "df['ALCOHOL_INVOLVED'].fillna(value=False,inplace=True)\n",
    "print df['ALCOHOL_INVOLVED'].value_counts()\n",
    "df['ALCOHOL_INVOLVED'].i"
   ]
  },
  {
   "cell_type": "markdown",
   "metadata": {},
   "source": [
    "## Pedestrians Killed"
   ]
  },
  {
   "cell_type": "code",
   "execution_count": 20,
   "metadata": {
    "collapsed": false
   },
   "outputs": [
    {
     "data": {
      "text/plain": [
       "0    10228\n",
       "1      231\n",
       "Name: COUNT_PED_KILLED, dtype: int64"
      ]
     },
     "execution_count": 20,
     "metadata": {},
     "output_type": "execute_result"
    }
   ],
   "source": [
    "df['COUNT_PED_KILLED'] = df['COUNT_PED_KILLED'].apply(int)\n",
    "df['COUNT_PED_KILLED'].value_counts()"
   ]
  },
  {
   "cell_type": "markdown",
   "metadata": {},
   "source": [
    "## Keep columns"
   ]
  },
  {
   "cell_type": "code",
   "execution_count": 21,
   "metadata": {
    "collapsed": false
   },
   "outputs": [],
   "source": [
    "keepcols = [\n",
    "    'ACCIDENT_YEAR',\n",
    "    'COLLISION_DATE',\n",
    "    'COLLISION_TIME',\n",
    "    'DAY_OF_WEEK',\n",
    "    'location',\n",
    "    'WEATHER',\n",
    "    'PRIMARY_COLLISION_FACTOR',\n",
    "    'HIT_AND_RUN',\n",
    "    'PED_ACTION',\n",
    "    'ROAD_SURFACE',\n",
    "    'ROAD_COND',\n",
    "    'LIGHTING',\n",
    "    'ALCOHOL_INVOLVED',\n",
    "    'COUNT_PED_KILLED',\n",
    "    'COUNT_PED_INJURED',\n",
    "    'y',\n",
    "    'x'\n",
    "    ]\n",
    "\n",
    "df = df[keepcols]"
   ]
  },
  {
   "cell_type": "code",
   "execution_count": 22,
   "metadata": {
    "collapsed": false
   },
   "outputs": [],
   "source": [
    "# Rename columns\n",
    "df.rename(columns={\n",
    "        'ACCIDENT_YEAR': 'year', \n",
    "        'COLLISION_DATE': 'date',\n",
    "        'COLLISION_TIME' : 'time',\n",
    "        'DAY_OF_WEEK' : 'dayofweek'\n",
    "    },inplace=True)\n",
    "pass"
   ]
  },
  {
   "cell_type": "markdown",
   "metadata": {},
   "source": [
    "## Check output"
   ]
  },
  {
   "cell_type": "code",
   "execution_count": 23,
   "metadata": {
    "collapsed": false,
    "scrolled": true
   },
   "outputs": [
    {
     "data": {
      "text/html": [
       "<div>\n",
       "<table border=\"1\" class=\"dataframe\">\n",
       "  <thead>\n",
       "    <tr style=\"text-align: right;\">\n",
       "      <th></th>\n",
       "      <th>year</th>\n",
       "      <th>date</th>\n",
       "      <th>time</th>\n",
       "      <th>dayofweek</th>\n",
       "      <th>location</th>\n",
       "      <th>WEATHER</th>\n",
       "      <th>PRIMARY_COLLISION_FACTOR</th>\n",
       "      <th>HIT_AND_RUN</th>\n",
       "      <th>PED_ACTION</th>\n",
       "      <th>ROAD_SURFACE</th>\n",
       "      <th>ROAD_COND</th>\n",
       "      <th>LIGHTING</th>\n",
       "      <th>ALCOHOL_INVOLVED</th>\n",
       "      <th>COUNT_PED_KILLED</th>\n",
       "      <th>COUNT_PED_INJURED</th>\n",
       "      <th>y</th>\n",
       "      <th>x</th>\n",
       "    </tr>\n",
       "  </thead>\n",
       "  <tbody>\n",
       "    <tr>\n",
       "      <th>0</th>\n",
       "      <td>2003</td>\n",
       "      <td>2003-01-13</td>\n",
       "      <td>17:00:00</td>\n",
       "      <td>Monday</td>\n",
       "      <td>JACKSON ST and GRANT AV, 77.0 ft east</td>\n",
       "      <td>Clear</td>\n",
       "      <td>Pedestrian violation</td>\n",
       "      <td>No</td>\n",
       "      <td>Crossing, not in crosswalk</td>\n",
       "      <td>Dry</td>\n",
       "      <td>No unusual condition</td>\n",
       "      <td>Daylight</td>\n",
       "      <td>False</td>\n",
       "      <td>0</td>\n",
       "      <td>1</td>\n",
       "      <td>37.796035</td>\n",
       "      <td>-122.406684</td>\n",
       "    </tr>\n",
       "    <tr>\n",
       "      <th>1</th>\n",
       "      <td>2003</td>\n",
       "      <td>2003-01-09</td>\n",
       "      <td>20:30:00</td>\n",
       "      <td>Thursday</td>\n",
       "      <td>TARAVAL ST and 19TH AV, 64.0 ft west</td>\n",
       "      <td>Raining</td>\n",
       "      <td>Pedestrian violation</td>\n",
       "      <td>No</td>\n",
       "      <td>Crossing, not in crosswalk</td>\n",
       "      <td>Wet</td>\n",
       "      <td>No unusual condition</td>\n",
       "      <td>Dark - Street lights</td>\n",
       "      <td>False</td>\n",
       "      <td>0</td>\n",
       "      <td>1</td>\n",
       "      <td>37.743050</td>\n",
       "      <td>-122.475712</td>\n",
       "    </tr>\n",
       "    <tr>\n",
       "      <th>2</th>\n",
       "      <td>2003</td>\n",
       "      <td>2003-01-10</td>\n",
       "      <td>06:40:00</td>\n",
       "      <td>Friday</td>\n",
       "      <td>N 7TH ST and MARKET ST, 20.0 ft north</td>\n",
       "      <td>Cloudy</td>\n",
       "      <td>Pedestrian right of way</td>\n",
       "      <td>No</td>\n",
       "      <td>Crossing, in crosswalk at intersection</td>\n",
       "      <td>Wet</td>\n",
       "      <td>No unusual condition</td>\n",
       "      <td>Dark - Street lights</td>\n",
       "      <td>False</td>\n",
       "      <td>0</td>\n",
       "      <td>1</td>\n",
       "      <td>37.780466</td>\n",
       "      <td>-122.412557</td>\n",
       "    </tr>\n",
       "    <tr>\n",
       "      <th>3</th>\n",
       "      <td>2003</td>\n",
       "      <td>2003-01-01</td>\n",
       "      <td>18:30:00</td>\n",
       "      <td>Wednesday</td>\n",
       "      <td>FRANKLIN ST and POST ST, at intersection</td>\n",
       "      <td>Clear</td>\n",
       "      <td>Pedestrian right of way</td>\n",
       "      <td>Hit and run (felony)</td>\n",
       "      <td>Crossing, in crosswalk at intersection</td>\n",
       "      <td>Dry</td>\n",
       "      <td>No unusual condition</td>\n",
       "      <td>Dark - No street lights</td>\n",
       "      <td>False</td>\n",
       "      <td>0</td>\n",
       "      <td>1</td>\n",
       "      <td>37.786432</td>\n",
       "      <td>-122.423233</td>\n",
       "    </tr>\n",
       "    <tr>\n",
       "      <th>4</th>\n",
       "      <td>2003</td>\n",
       "      <td>2003-01-10</td>\n",
       "      <td>10:05:00</td>\n",
       "      <td>Friday</td>\n",
       "      <td>CLEMENTINA ST and 4TH ST, 90.0 ft west</td>\n",
       "      <td>Cloudy</td>\n",
       "      <td>Unsafe starting or backing</td>\n",
       "      <td>No</td>\n",
       "      <td>Crossing, not in crosswalk</td>\n",
       "      <td>Dry</td>\n",
       "      <td>No unusual condition</td>\n",
       "      <td>Daylight</td>\n",
       "      <td>False</td>\n",
       "      <td>0</td>\n",
       "      <td>1</td>\n",
       "      <td>37.782482</td>\n",
       "      <td>-122.401713</td>\n",
       "    </tr>\n",
       "  </tbody>\n",
       "</table>\n",
       "</div>"
      ],
      "text/plain": [
       "   year        date      time  dayofweek  \\\n",
       "0  2003  2003-01-13  17:00:00     Monday   \n",
       "1  2003  2003-01-09  20:30:00   Thursday   \n",
       "2  2003  2003-01-10  06:40:00     Friday   \n",
       "3  2003  2003-01-01  18:30:00  Wednesday   \n",
       "4  2003  2003-01-10  10:05:00     Friday   \n",
       "\n",
       "                                   location  WEATHER  \\\n",
       "0     JACKSON ST and GRANT AV, 77.0 ft east    Clear   \n",
       "1      TARAVAL ST and 19TH AV, 64.0 ft west  Raining   \n",
       "2     N 7TH ST and MARKET ST, 20.0 ft north   Cloudy   \n",
       "3  FRANKLIN ST and POST ST, at intersection    Clear   \n",
       "4    CLEMENTINA ST and 4TH ST, 90.0 ft west   Cloudy   \n",
       "\n",
       "     PRIMARY_COLLISION_FACTOR           HIT_AND_RUN  \\\n",
       "0        Pedestrian violation                    No   \n",
       "1        Pedestrian violation                    No   \n",
       "2     Pedestrian right of way                    No   \n",
       "3     Pedestrian right of way  Hit and run (felony)   \n",
       "4  Unsafe starting or backing                    No   \n",
       "\n",
       "                               PED_ACTION ROAD_SURFACE             ROAD_COND  \\\n",
       "0              Crossing, not in crosswalk          Dry  No unusual condition   \n",
       "1              Crossing, not in crosswalk          Wet  No unusual condition   \n",
       "2  Crossing, in crosswalk at intersection          Wet  No unusual condition   \n",
       "3  Crossing, in crosswalk at intersection          Dry  No unusual condition   \n",
       "4              Crossing, not in crosswalk          Dry  No unusual condition   \n",
       "\n",
       "                  LIGHTING ALCOHOL_INVOLVED  COUNT_PED_KILLED  \\\n",
       "0                 Daylight            False                 0   \n",
       "1     Dark - Street lights            False                 0   \n",
       "2     Dark - Street lights            False                 0   \n",
       "3  Dark - No street lights            False                 0   \n",
       "4                 Daylight            False                 0   \n",
       "\n",
       "   COUNT_PED_INJURED          y           x  \n",
       "0                  1  37.796035 -122.406684  \n",
       "1                  1  37.743050 -122.475712  \n",
       "2                  1  37.780466 -122.412557  \n",
       "3                  1  37.786432 -122.423233  \n",
       "4                  1  37.782482 -122.401713  "
      ]
     },
     "execution_count": 23,
     "metadata": {},
     "output_type": "execute_result"
    }
   ],
   "source": [
    "df.head()"
   ]
  },
  {
   "cell_type": "code",
   "execution_count": null,
   "metadata": {
    "collapsed": true
   },
   "outputs": [],
   "source": []
  }
 ],
 "metadata": {
  "kernelspec": {
   "display_name": "Python 2",
   "language": "python",
   "name": "python2"
  },
  "language_info": {
   "codemirror_mode": {
    "name": "ipython",
    "version": 2
   },
   "file_extension": ".py",
   "mimetype": "text/x-python",
   "name": "python",
   "nbconvert_exporter": "python",
   "pygments_lexer": "ipython2",
   "version": "2.7.11"
  }
 },
 "nbformat": 4,
 "nbformat_minor": 0
}
