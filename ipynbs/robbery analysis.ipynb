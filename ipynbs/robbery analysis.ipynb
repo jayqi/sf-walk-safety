{
 "cells": [
  {
   "cell_type": "code",
   "execution_count": 45,
   "metadata": {
    "collapsed": false
   },
   "outputs": [],
   "source": [
    "%matplotlib inline\n",
    "import pandas as pd\n",
    "import numpy as np\n",
    "import matplotlib.pyplot as plt\n",
    "import seaborn as sns\n",
    "import datetime\n",
    "from sklearn.neighbors import KernelDensity\n",
    "from sklearn.grid_search import GridSearchCV\n"
   ]
  },
  {
   "cell_type": "code",
   "execution_count": 51,
   "metadata": {
    "collapsed": false
   },
   "outputs": [],
   "source": [
    "df = pd.read_pickle('../data/robbery-street.p')\n",
    "#df.head(3)"
   ]
  },
  {
   "cell_type": "code",
   "execution_count": 59,
   "metadata": {
    "collapsed": false
   },
   "outputs": [
    {
     "data": {
      "text/html": [
       "<div>\n",
       "<table border=\"1\" class=\"dataframe\">\n",
       "  <thead>\n",
       "    <tr style=\"text-align: right;\">\n",
       "      <th></th>\n",
       "      <th>address</th>\n",
       "      <th>date</th>\n",
       "      <th>dayofweek</th>\n",
       "      <th>descript</th>\n",
       "      <th>time</th>\n",
       "      <th>x</th>\n",
       "      <th>y</th>\n",
       "      <th>nhood</th>\n",
       "      <th>tractce10</th>\n",
       "      <th>police_district</th>\n",
       "      <th>hist_police_district</th>\n",
       "      <th>month</th>\n",
       "      <th>year</th>\n",
       "    </tr>\n",
       "  </thead>\n",
       "  <tbody>\n",
       "    <tr>\n",
       "      <th>0</th>\n",
       "      <td>400 Block of 6TH AV</td>\n",
       "      <td>2015-08-18</td>\n",
       "      <td>Tuesday</td>\n",
       "      <td>ROBBERY ON THE STREET, STRONGARM</td>\n",
       "      <td>08:55:00</td>\n",
       "      <td>-122.464280</td>\n",
       "      <td>37.780033</td>\n",
       "      <td>Inner Richmond</td>\n",
       "      <td>045200</td>\n",
       "      <td>RICHMOND</td>\n",
       "      <td>RICHMOND</td>\n",
       "      <td>8</td>\n",
       "      <td>2015</td>\n",
       "    </tr>\n",
       "    <tr>\n",
       "      <th>1</th>\n",
       "      <td>19TH ST / CAPP ST</td>\n",
       "      <td>2015-08-20</td>\n",
       "      <td>Thursday</td>\n",
       "      <td>ROBBERY ON THE STREET WITH A DANGEROUS WEAPON</td>\n",
       "      <td>03:50:00</td>\n",
       "      <td>-122.418120</td>\n",
       "      <td>37.760301</td>\n",
       "      <td>Mission</td>\n",
       "      <td>020800</td>\n",
       "      <td>MISSION</td>\n",
       "      <td>MISSION</td>\n",
       "      <td>8</td>\n",
       "      <td>2015</td>\n",
       "    </tr>\n",
       "    <tr>\n",
       "      <th>2</th>\n",
       "      <td>COLUMBUS AV / NORTHPOINT ST</td>\n",
       "      <td>2015-11-05</td>\n",
       "      <td>Thursday</td>\n",
       "      <td>ROBBERY ON THE STREET, STRONGARM</td>\n",
       "      <td>20:47:00</td>\n",
       "      <td>-122.418383</td>\n",
       "      <td>37.805978</td>\n",
       "      <td>North Beach</td>\n",
       "      <td>010100</td>\n",
       "      <td>CENTRAL</td>\n",
       "      <td>CENTRAL</td>\n",
       "      <td>11</td>\n",
       "      <td>2015</td>\n",
       "    </tr>\n",
       "  </tbody>\n",
       "</table>\n",
       "</div>"
      ],
      "text/plain": [
       "                       address        date dayofweek  \\\n",
       "0          400 Block of 6TH AV  2015-08-18   Tuesday   \n",
       "1            19TH ST / CAPP ST  2015-08-20  Thursday   \n",
       "2  COLUMBUS AV / NORTHPOINT ST  2015-11-05  Thursday   \n",
       "\n",
       "                                        descript      time           x  \\\n",
       "0               ROBBERY ON THE STREET, STRONGARM  08:55:00 -122.464280   \n",
       "1  ROBBERY ON THE STREET WITH A DANGEROUS WEAPON  03:50:00 -122.418120   \n",
       "2               ROBBERY ON THE STREET, STRONGARM  20:47:00 -122.418383   \n",
       "\n",
       "           y           nhood tractce10 police_district hist_police_district  \\\n",
       "0  37.780033  Inner Richmond    045200        RICHMOND             RICHMOND   \n",
       "1  37.760301         Mission    020800         MISSION              MISSION   \n",
       "2  37.805978     North Beach    010100         CENTRAL              CENTRAL   \n",
       "\n",
       "   month  year  \n",
       "0      8  2015  \n",
       "1      8  2015  \n",
       "2     11  2015  "
      ]
     },
     "execution_count": 59,
     "metadata": {},
     "output_type": "execute_result"
    }
   ],
   "source": [
    "df['month'] = df.date.apply(lambda x: x.month)\n",
    "df['year'] = df.date.apply(lambda x: x.year)\n",
    "df.head(3)"
   ]
  },
  {
   "cell_type": "markdown",
   "metadata": {},
   "source": [
    "## Join weather and robberies"
   ]
  },
  {
   "cell_type": "code",
   "execution_count": 97,
   "metadata": {
    "collapsed": false
   },
   "outputs": [
    {
     "data": {
      "text/html": [
       "<div>\n",
       "<table border=\"1\" class=\"dataframe\">\n",
       "  <thead>\n",
       "    <tr style=\"text-align: right;\">\n",
       "      <th></th>\n",
       "      <th>DATE</th>\n",
       "      <th>PRCP</th>\n",
       "      <th>TMAX</th>\n",
       "      <th>TMIN</th>\n",
       "    </tr>\n",
       "  </thead>\n",
       "  <tbody>\n",
       "    <tr>\n",
       "      <th>0</th>\n",
       "      <td>2003-01-01</td>\n",
       "      <td>0.0</td>\n",
       "      <td>15.0</td>\n",
       "      <td>7.8</td>\n",
       "    </tr>\n",
       "    <tr>\n",
       "      <th>1</th>\n",
       "      <td>2003-01-02</td>\n",
       "      <td>0.0</td>\n",
       "      <td>13.9</td>\n",
       "      <td>8.9</td>\n",
       "    </tr>\n",
       "    <tr>\n",
       "      <th>2</th>\n",
       "      <td>2003-01-03</td>\n",
       "      <td>0.0</td>\n",
       "      <td>17.2</td>\n",
       "      <td>8.3</td>\n",
       "    </tr>\n",
       "  </tbody>\n",
       "</table>\n",
       "</div>"
      ],
      "text/plain": [
       "         DATE  PRCP  TMAX  TMIN\n",
       "0  2003-01-01   0.0  15.0   7.8\n",
       "1  2003-01-02   0.0  13.9   8.9\n",
       "2  2003-01-03   0.0  17.2   8.3"
      ]
     },
     "execution_count": 97,
     "metadata": {},
     "output_type": "execute_result"
    }
   ],
   "source": [
    "weather = pd.read_pickle(r\"../data/noaa-weather-downtown-sf.p\")\n",
    "weather.head(3)"
   ]
  },
  {
   "cell_type": "code",
   "execution_count": 102,
   "metadata": {
    "collapsed": false
   },
   "outputs": [
    {
     "name": "stdout",
     "output_type": "stream",
     "text": [
      "(25087, 13)\n",
      "(25087, 17)\n"
     ]
    },
    {
     "data": {
      "text/html": [
       "<div>\n",
       "<table border=\"1\" class=\"dataframe\">\n",
       "  <thead>\n",
       "    <tr style=\"text-align: right;\">\n",
       "      <th></th>\n",
       "      <th>address</th>\n",
       "      <th>date</th>\n",
       "      <th>dayofweek</th>\n",
       "      <th>descript</th>\n",
       "      <th>time</th>\n",
       "      <th>x</th>\n",
       "      <th>y</th>\n",
       "      <th>nhood</th>\n",
       "      <th>tractce10</th>\n",
       "      <th>police_district</th>\n",
       "      <th>hist_police_district</th>\n",
       "      <th>month</th>\n",
       "      <th>year</th>\n",
       "      <th>DATE</th>\n",
       "      <th>PRCP</th>\n",
       "      <th>TMAX</th>\n",
       "      <th>TMIN</th>\n",
       "    </tr>\n",
       "  </thead>\n",
       "  <tbody>\n",
       "    <tr>\n",
       "      <th>0</th>\n",
       "      <td>400 Block of 6TH AV</td>\n",
       "      <td>2015-08-18</td>\n",
       "      <td>Tuesday</td>\n",
       "      <td>ROBBERY ON THE STREET, STRONGARM</td>\n",
       "      <td>08:55:00</td>\n",
       "      <td>-122.464280</td>\n",
       "      <td>37.780033</td>\n",
       "      <td>Inner Richmond</td>\n",
       "      <td>045200</td>\n",
       "      <td>RICHMOND</td>\n",
       "      <td>RICHMOND</td>\n",
       "      <td>8</td>\n",
       "      <td>2015</td>\n",
       "      <td>2015-08-18</td>\n",
       "      <td>0.0</td>\n",
       "      <td>21.1</td>\n",
       "      <td>15.0</td>\n",
       "    </tr>\n",
       "    <tr>\n",
       "      <th>1</th>\n",
       "      <td>800 Block of 26TH AV</td>\n",
       "      <td>2015-08-18</td>\n",
       "      <td>Tuesday</td>\n",
       "      <td>ROBBERY ON THE STREET WITH A GUN</td>\n",
       "      <td>23:35:00</td>\n",
       "      <td>-122.485397</td>\n",
       "      <td>37.773433</td>\n",
       "      <td>Outer Richmond</td>\n",
       "      <td>047702</td>\n",
       "      <td>RICHMOND</td>\n",
       "      <td>RICHMOND</td>\n",
       "      <td>8</td>\n",
       "      <td>2015</td>\n",
       "      <td>2015-08-18</td>\n",
       "      <td>0.0</td>\n",
       "      <td>21.1</td>\n",
       "      <td>15.0</td>\n",
       "    </tr>\n",
       "    <tr>\n",
       "      <th>2</th>\n",
       "      <td>700 Block of MOSCOW ST</td>\n",
       "      <td>2015-08-18</td>\n",
       "      <td>Tuesday</td>\n",
       "      <td>ATTEMPTED ROBBERY ON THE STREET W/DEADLY WEAPON</td>\n",
       "      <td>21:30:00</td>\n",
       "      <td>-122.431690</td>\n",
       "      <td>37.715773</td>\n",
       "      <td>Excelsior</td>\n",
       "      <td>026302</td>\n",
       "      <td>INGLESIDE</td>\n",
       "      <td>INGLESIDE</td>\n",
       "      <td>8</td>\n",
       "      <td>2015</td>\n",
       "      <td>2015-08-18</td>\n",
       "      <td>0.0</td>\n",
       "      <td>21.1</td>\n",
       "      <td>15.0</td>\n",
       "    </tr>\n",
       "  </tbody>\n",
       "</table>\n",
       "</div>"
      ],
      "text/plain": [
       "                  address        date dayofweek  \\\n",
       "0     400 Block of 6TH AV  2015-08-18   Tuesday   \n",
       "1    800 Block of 26TH AV  2015-08-18   Tuesday   \n",
       "2  700 Block of MOSCOW ST  2015-08-18   Tuesday   \n",
       "\n",
       "                                          descript      time           x  \\\n",
       "0                 ROBBERY ON THE STREET, STRONGARM  08:55:00 -122.464280   \n",
       "1                 ROBBERY ON THE STREET WITH A GUN  23:35:00 -122.485397   \n",
       "2  ATTEMPTED ROBBERY ON THE STREET W/DEADLY WEAPON  21:30:00 -122.431690   \n",
       "\n",
       "           y           nhood tractce10 police_district hist_police_district  \\\n",
       "0  37.780033  Inner Richmond    045200        RICHMOND             RICHMOND   \n",
       "1  37.773433  Outer Richmond    047702        RICHMOND             RICHMOND   \n",
       "2  37.715773       Excelsior    026302       INGLESIDE            INGLESIDE   \n",
       "\n",
       "   month  year        DATE  PRCP  TMAX  TMIN  \n",
       "0      8  2015  2015-08-18   0.0  21.1  15.0  \n",
       "1      8  2015  2015-08-18   0.0  21.1  15.0  \n",
       "2      8  2015  2015-08-18   0.0  21.1  15.0  "
      ]
     },
     "execution_count": 102,
     "metadata": {},
     "output_type": "execute_result"
    }
   ],
   "source": [
    "print df.shape\n",
    "df = df.merge(weather,how=\"inner\",left_on=\"date\",right_on=\"DATE\")\n",
    "print df.shape\n",
    "df.head(3)\n"
   ]
  },
  {
   "cell_type": "markdown",
   "metadata": {},
   "source": [
    "## Aggregate by year, ignoring 2016"
   ]
  },
  {
   "cell_type": "code",
   "execution_count": 68,
   "metadata": {
    "collapsed": false,
    "scrolled": true
   },
   "outputs": [
    {
     "data": {
      "text/plain": [
       "2006    2506\n",
       "2008    2277\n",
       "2007    2215\n",
       "2012    2162\n",
       "2005    1966\n",
       "2013    1963\n",
       "2009    1942\n",
       "2011    1915\n",
       "2010    1866\n",
       "2004    1788\n",
       "2003    1604\n",
       "2014    1360\n",
       "2015    1325\n",
       "2016     198\n",
       "Name: date, dtype: int64"
      ]
     },
     "execution_count": 68,
     "metadata": {},
     "output_type": "execute_result"
    }
   ],
   "source": [
    "df.year.value_counts()"
   ]
  },
  {
   "cell_type": "code",
   "execution_count": 95,
   "metadata": {
    "collapsed": false,
    "scrolled": true
   },
   "outputs": [
    {
     "data": {
      "text/plain": [
       "<matplotlib.axes._subplots.AxesSubplot at 0x10f6ccf50>"
      ]
     },
     "execution_count": 95,
     "metadata": {},
     "output_type": "execute_result"
    },
    {
     "data": {
      "image/png": "[encoded data removed]",
      "text/plain": [
       "<matplotlib.figure.Figure at 0x1166d95d0>"
      ]
     },
     "metadata": {},
     "output_type": "display_data"
    }
   ],
   "source": [
    "temp = df[df.year < 2016].year.value_counts().to_frame(name=\"count\")\n",
    "temp['year'] = temp.index\n",
    "temp.plot(kind=\"scatter\",x=\"year\",y=\"count\")"
   ]
  },
  {
   "cell_type": "markdown",
   "metadata": {},
   "source": [
    "## Aggregate by month, ignoring 2016"
   ]
  },
  {
   "cell_type": "code",
   "execution_count": 94,
   "metadata": {
    "collapsed": false
   },
   "outputs": [
    {
     "data": {
      "text/plain": [
       "<matplotlib.axes._subplots.AxesSubplot at 0x1166cf110>"
      ]
     },
     "execution_count": 94,
     "metadata": {},
     "output_type": "execute_result"
    },
    {
     "data": {
      "image/png": "[encoded data removed]",
      "text/plain": [
       "<matplotlib.figure.Figure at 0x114b99f50>"
      ]
     },
     "metadata": {},
     "output_type": "display_data"
    }
   ],
   "source": [
    "temp = df[df.year < 2016].month.value_counts().to_frame(name=\"count\")\n",
    "temp['month'] = temp.index\n",
    "temp.plot(kind=\"scatter\",x=\"month\",y=\"count\")"
   ]
  },
  {
   "cell_type": "markdown",
   "metadata": {},
   "source": [
    "## Aggregate by time of date"
   ]
  },
  {
   "cell_type": "code",
   "execution_count": 60,
   "metadata": {
    "collapsed": true
   },
   "outputs": [],
   "source": [
    "def time2num(t):\n",
    "    ts = t.hour * 60 + t.minute\n",
    "    return ts\n",
    "\n",
    "def num2time(ts):\n",
    "    minute = ts % 60\n",
    "    hour = (ts - minute) / 60\n",
    "    return datetime.time(hour,minute)"
   ]
  },
  {
   "cell_type": "code",
   "execution_count": 8,
   "metadata": {
    "collapsed": false,
    "scrolled": true
   },
   "outputs": [
    {
     "data": {
      "image/png": "[encoded data removed]",
      "text/plain": [
       "<matplotlib.figure.Figure at 0x110bcc110>"
      ]
     },
     "metadata": {},
     "output_type": "display_data"
    }
   ],
   "source": [
    "p = df.time.apply(time2num).hist()"
   ]
  },
  {
   "cell_type": "code",
   "execution_count": 9,
   "metadata": {
    "collapsed": false,
    "scrolled": true
   },
   "outputs": [
    {
     "data": {
      "image/png": "[encoded data removed]",
      "text/plain": [
       "<matplotlib.figure.Figure at 0x10fb25e10>"
      ]
     },
     "metadata": {},
     "output_type": "display_data"
    }
   ],
   "source": [
    "p = df.time.apply(time2num).plot.kde()\n"
   ]
  },
  {
   "cell_type": "markdown",
   "metadata": {},
   "source": [
    "## Aggregate by day of week"
   ]
  },
  {
   "cell_type": "code",
   "execution_count": 13,
   "metadata": {
    "collapsed": false,
    "scrolled": false
   },
   "outputs": [
    {
     "name": "stdout",
     "output_type": "stream",
     "text": [
      "Saturday     3792\n",
      "Sunday       3745\n",
      "Monday       3592\n",
      "Friday       3516\n",
      "Tuesday      3492\n",
      "Wednesday    3491\n",
      "Thursday     3459\n",
      "Name: dayofweek, dtype: int64\n"
     ]
    },
    {
     "data": {
      "image/png": "[encoded data removed]",
      "text/plain": [
       "<matplotlib.figure.Figure at 0x1134bf110>"
      ]
     },
     "metadata": {},
     "output_type": "display_data"
    }
   ],
   "source": [
    "print df.dayofweek.value_counts()\n",
    "p = df.dayofweek.value_counts().plot.bar()"
   ]
  },
  {
   "cell_type": "markdown",
   "metadata": {},
   "source": [
    "## by TMAX"
   ]
  },
  {
   "cell_type": "code",
   "execution_count": 106,
   "metadata": {
    "collapsed": false
   },
   "outputs": [
    {
     "data": {
      "text/plain": [
       "<matplotlib.axes._subplots.AxesSubplot at 0x114ce6650>"
      ]
     },
     "execution_count": 106,
     "metadata": {},
     "output_type": "execute_result"
    },
    {
     "data": {
      "image/png": "[encoded data removed]",
      "text/plain": [
       "<matplotlib.figure.Figure at 0x116688bd0>"
      ]
     },
     "metadata": {},
     "output_type": "display_data"
    }
   ],
   "source": [
    "weather.TMAX.hist()"
   ]
  },
  {
   "cell_type": "code",
   "execution_count": 105,
   "metadata": {
    "collapsed": false,
    "scrolled": true
   },
   "outputs": [
    {
     "data": {
      "image/png": "[encoded data removed]",
      "text/plain": [
       "<matplotlib.figure.Figure at 0x11739f810>"
      ]
     },
     "metadata": {},
     "output_type": "display_data"
    }
   ],
   "source": [
    "p = df.TMAX.hist()"
   ]
  },
  {
   "cell_type": "code",
   "execution_count": 118,
   "metadata": {
    "collapsed": false
   },
   "outputs": [
    {
     "data": {
      "text/plain": [
       "array([-7.23781581, -6.59134835, -6.07827857, -5.64097187, -5.21135807,\n",
       "       -4.76173505, -4.31942482, -3.91996506, -3.57489459, -3.27474523,\n",
       "       -3.00878809, -2.78070089, -2.59908179, -2.45880028, -2.34471392,\n",
       "       -2.2518081 , -2.18849799, -2.16213653, -2.17454057, -2.22902238,\n",
       "       -2.32986705, -2.47287543, -2.64467985, -2.83718268, -3.05475013,\n",
       "       -3.29670973, -3.53873046, -3.74610254, -3.91076872, -4.05471755,\n",
       "       -4.19494835, -4.33231282, -4.47062033, -4.62233196, -4.79014965,\n",
       "       -4.95351343, -5.08379239, -5.17433846, -5.24629431, -5.3373097 ,\n",
       "       -5.48606954, -5.69989022, -5.9368091 , -6.14961156, -6.34951579,\n",
       "       -6.57494944, -6.81542409, -7.03479175, -7.27765554, -7.65998629])"
      ]
     },
     "execution_count": 118,
     "metadata": {},
     "output_type": "execute_result"
    }
   ],
   "source": [
    "kde = KernelDensity()\n",
    "kde.fit(weather.TMAX.reshape(-1,1))\n",
    "tgrid = np.linspace(weather.TMAX.min(),weather.TMAX.max()).reshape(-1,1)\n",
    "kde.score_samples(tgrid)"
   ]
  },
  {
   "cell_type": "code",
   "execution_count": 119,
   "metadata": {
    "collapsed": false,
    "scrolled": true
   },
   "outputs": [
    {
     "name": "stdout",
     "output_type": "stream",
     "text": [
      "{'bandwidth': 0.10000000000000001}\n"
     ]
    }
   ],
   "source": [
    "grid = GridSearchCV(KernelDensity(),\n",
    "                    {'bandwidth': np.linspace(0.1, 1.0, 30)},\n",
    "                    cv=5) # 20-fold cross-validation\n",
    "grid.fit(weather.TMAX.as_matrix().reshape(-1,1))\n",
    "print grid.best_params_\n",
    "kde_TMAX = grid.best_estimator_"
   ]
  },
  {
   "cell_type": "code",
   "execution_count": 120,
   "metadata": {
    "collapsed": false
   },
   "outputs": [
    {
     "name": "stdout",
     "output_type": "stream",
     "text": [
      "{'bandwidth': 0.10000000000000001}\n"
     ]
    }
   ],
   "source": [
    "grid = GridSearchCV(KernelDensity(),\n",
    "                    {'bandwidth': np.linspace(0.1, 1.0, 30)},\n",
    "                    cv=5) # 20-fold cross-validation\n",
    "grid.fit(df.TMAX.as_matrix().reshape(-1,1))\n",
    "print grid.best_params_\n",
    "kde_robs = grid.best_estimator_"
   ]
  },
  {
   "cell_type": "code",
   "execution_count": 122,
   "metadata": {
    "collapsed": false
   },
   "outputs": [
    {
     "data": {
      "text/plain": [
       "<matplotlib.collections.PathCollection at 0x1163b7b50>"
      ]
     },
     "execution_count": 122,
     "metadata": {},
     "output_type": "execute_result"
    },
    {
     "data": {
      "image/png": "[encoded data removed]",
      "text/plain": [
       "<matplotlib.figure.Figure at 0x1163b7910>"
      ]
     },
     "metadata": {},
     "output_type": "display_data"
    }
   ],
   "source": [
    "tgrid = np.linspace(weather.TMAX.min(),weather.TMAX.max(),num=200).reshape(-1,1)\n",
    "cond = kde_robs.score_samples(tgrid)/kde_TMAX.score_samples(tgrid)\n",
    "\n",
    "plt.scatter(tgrid, cond)"
   ]
  },
  {
   "cell_type": "markdown",
   "metadata": {},
   "source": [
    "## By location"
   ]
  },
  {
   "cell_type": "code",
   "execution_count": 50,
   "metadata": {
    "collapsed": false,
    "scrolled": false
   },
   "outputs": [
    {
     "data": {
      "text/plain": [
       "(array([[  2.50850000e+04,   0.00000000e+00,   0.00000000e+00,\n",
       "           0.00000000e+00,   0.00000000e+00,   0.00000000e+00,\n",
       "           0.00000000e+00,   0.00000000e+00,   0.00000000e+00,\n",
       "           0.00000000e+00],\n",
       "        [  0.00000000e+00,   0.00000000e+00,   0.00000000e+00,\n",
       "           0.00000000e+00,   0.00000000e+00,   0.00000000e+00,\n",
       "           0.00000000e+00,   0.00000000e+00,   0.00000000e+00,\n",
       "           0.00000000e+00],\n",
       "        [  0.00000000e+00,   0.00000000e+00,   0.00000000e+00,\n",
       "           0.00000000e+00,   0.00000000e+00,   0.00000000e+00,\n",
       "           0.00000000e+00,   0.00000000e+00,   0.00000000e+00,\n",
       "           0.00000000e+00],\n",
       "        [  0.00000000e+00,   0.00000000e+00,   0.00000000e+00,\n",
       "           0.00000000e+00,   0.00000000e+00,   0.00000000e+00,\n",
       "           0.00000000e+00,   0.00000000e+00,   0.00000000e+00,\n",
       "           0.00000000e+00],\n",
       "        [  0.00000000e+00,   0.00000000e+00,   0.00000000e+00,\n",
       "           0.00000000e+00,   0.00000000e+00,   0.00000000e+00,\n",
       "           0.00000000e+00,   0.00000000e+00,   0.00000000e+00,\n",
       "           0.00000000e+00],\n",
       "        [  0.00000000e+00,   0.00000000e+00,   0.00000000e+00,\n",
       "           0.00000000e+00,   0.00000000e+00,   0.00000000e+00,\n",
       "           0.00000000e+00,   0.00000000e+00,   0.00000000e+00,\n",
       "           0.00000000e+00],\n",
       "        [  0.00000000e+00,   0.00000000e+00,   0.00000000e+00,\n",
       "           0.00000000e+00,   0.00000000e+00,   0.00000000e+00,\n",
       "           0.00000000e+00,   0.00000000e+00,   0.00000000e+00,\n",
       "           0.00000000e+00],\n",
       "        [  0.00000000e+00,   0.00000000e+00,   0.00000000e+00,\n",
       "           0.00000000e+00,   0.00000000e+00,   0.00000000e+00,\n",
       "           0.00000000e+00,   0.00000000e+00,   0.00000000e+00,\n",
       "           0.00000000e+00],\n",
       "        [  0.00000000e+00,   0.00000000e+00,   0.00000000e+00,\n",
       "           0.00000000e+00,   0.00000000e+00,   0.00000000e+00,\n",
       "           0.00000000e+00,   0.00000000e+00,   0.00000000e+00,\n",
       "           0.00000000e+00],\n",
       "        [  0.00000000e+00,   0.00000000e+00,   0.00000000e+00,\n",
       "           0.00000000e+00,   0.00000000e+00,   0.00000000e+00,\n",
       "           0.00000000e+00,   0.00000000e+00,   0.00000000e+00,\n",
       "           2.00000000e+00]]),\n",
       " array([-122.51364206, -122.31227786, -122.11091365, -121.90954944,\n",
       "        -121.70818524, -121.50682103, -121.30545683, -121.10409262,\n",
       "        -120.90272841, -120.70136421, -120.5       ]),\n",
       " array([ 37.70800346,  42.93720311,  48.16640277,  53.39560242,\n",
       "         58.62480207,  63.85400173,  69.08320138,  74.31240104,\n",
       "         79.54160069,  84.77080035,  90.        ]))"
      ]
     },
     "execution_count": 50,
     "metadata": {},
     "output_type": "execute_result"
    }
   ],
   "source": [
    "np.histogram2d(df.x,df.y)"
   ]
  },
  {
   "cell_type": "code",
   "execution_count": 46,
   "metadata": {
    "collapsed": false
   },
   "outputs": [
    {
     "name": "stdout",
     "output_type": "stream",
     "text": [
      "{'bandwidth': 0.3172413793103448}\n"
     ]
    }
   ],
   "source": [
    "grid = GridSearchCV(KernelDensity(),\n",
    "                    {'bandwidth': np.linspace(0.1, 1.0, 30)},\n",
    "                    cv=5) # 20-fold cross-validation\n",
    "grid.fit(df[['x','y']])\n",
    "print grid.best_params_\n",
    "kde = grid.best_estimator_"
   ]
  },
  {
   "cell_type": "code",
   "execution_count": 48,
   "metadata": {
    "collapsed": false
   },
   "outputs": [
    {
     "data": {
      "text/plain": [
       "<matplotlib.contour.QuadContourSet at 0x114feae90>"
      ]
     },
     "execution_count": 48,
     "metadata": {},
     "output_type": "execute_result"
    },
    {
     "data": {
      "image/png": "[encoded data removed]",
      "text/plain": [
       "<matplotlib.figure.Figure at 0x113607590>"
      ]
     },
     "metadata": {},
     "output_type": "display_data"
    }
   ],
   "source": [
    "xmin = -122.5237517\n",
    "xmax = -122.3602017\n",
    "ymin = 37.7040012\n",
    "ymax = 37.8341382\n",
    "\n",
    "xv, yv = np.meshgrid(np.linspace(xmin,xmax,num=200),np.linspace(ymin,ymax,num=200))\n",
    "\n",
    "X_grid = np.vstack([xv.ravel(), yv.ravel()]).transpose()\n",
    "\n",
    "\n",
    "\n",
    "Z = kde.score_samples(X_grid)\n",
    "Z = Z.reshape(xv.shape)\n",
    "\n",
    "levels = np.linspace(Z.min(), Z.max(), 25)\n",
    "plt.contourf(xv, yv, Z, levels=levels, cmap=plt.cm.Reds)"
   ]
  }
 ],
 "metadata": {
  "kernelspec": {
   "display_name": "Python 2",
   "language": "python",
   "name": "python2"
  },
  "language_info": {
   "codemirror_mode": {
    "name": "ipython",
    "version": 2
   },
   "file_extension": ".py",
   "mimetype": "text/x-python",
   "name": "python",
   "nbconvert_exporter": "python",
   "pygments_lexer": "ipython2",
   "version": "2.7.11"
  }
 },
 "nbformat": 4,
 "nbformat_minor": 0
}
