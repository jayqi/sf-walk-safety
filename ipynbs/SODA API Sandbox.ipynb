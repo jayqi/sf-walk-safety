{
 "cells": [
  {
   "cell_type": "markdown",
   "metadata": {},
   "source": [
    "## San Francisco PD dataset\n",
    "\n",
    "Figuring out how to pull data from the SF data portal using SODA API"
   ]
  },
  {
   "cell_type": "code",
   "execution_count": 17,
   "metadata": {
    "collapsed": false
   },
   "outputs": [],
   "source": [
    "endpoint = \"https://data.sfgov.org/resource/cuks-n6tp.json\"\n",
    "query = r\"SELECT descript, dayofweek, date, time, address, x, y\" + r\" \" + \\\n",
    "        r\"WHERE category = 'ROBBERY'\"  + r\" \" + \\\n",
    "        r\"AND\"  + r\" \" + \\\n",
    "        r\"descript like 'ON THE STREET'\" + r\" \" + \\\n",
    "        r\"LIMIT 10\"\n",
    "\n",
    "query = r\"SELECT descript, dayofweek, date, time, address, x, y\" + r\" \" + \\\n",
    "        r\"WHERE descript like '%25ON THE STREET%25'\" + r\" \" + \\\n",
    "        r\"LIMIT 10\"\n",
    "        \n",
    "        \n"
   ]
  },
  {
   "cell_type": "code",
   "execution_count": 2,
   "metadata": {
    "collapsed": false
   },
   "outputs": [
    {
     "name": "stdout",
     "output_type": "stream",
     "text": [
      "https://data.sfgov.org/resource/tmnf-yvry.json?$query=SELECT descript, dayofweek, date, time, address, x, y WHERE descript like '%25ON THE STREET%25' LIMIT 10\n"
     ]
    }
   ],
   "source": [
    "url = endpoint + r'?$query='+query\n",
    "print url"
   ]
  },
  {
   "cell_type": "code",
   "execution_count": 29,
   "metadata": {
    "collapsed": false
   },
   "outputs": [
    {
     "name": "stdout",
     "output_type": "stream",
     "text": [
      "https://data.sfgov.org/resource/cuks-n6tp.json?$select=descript, dayofweek, date, time, address, x, y&$where=category = 'ROBBERY' AND descript like '%25ON%20THE%20STREET%25'&$limit=10\n"
     ]
    }
   ],
   "source": [
    "endpoint = \"https://data.sfgov.org/resource/cuks-n6tp.json\"\n",
    "queries = [\n",
    "    \"$select=descript, dayofweek, date, time, address, x, y\",\n",
    "    \"$where=category = 'ROBBERY' AND descript like '%25ON%20THE%20STREET%25'\",\n",
    "    \"$limit=10\"\n",
    "]\n",
    "url = endpoint + r'?' + r'&'.join(queries)\n",
    "print url"
   ]
  }
 ],
 "metadata": {
  "kernelspec": {
   "display_name": "Python 2",
   "language": "python",
   "name": "python2"
  },
  "language_info": {
   "codemirror_mode": {
    "name": "ipython",
    "version": 2
   },
   "file_extension": ".py",
   "mimetype": "text/x-python",
   "name": "python",
   "nbconvert_exporter": "python",
   "pygments_lexer": "ipython2",
   "version": "2.7.11"
  }
 },
 "nbformat": 4,
 "nbformat_minor": 0
}
