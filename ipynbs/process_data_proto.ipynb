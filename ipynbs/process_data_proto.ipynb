{
 "cells": [
  {
   "cell_type": "code",
   "execution_count": 1,
   "metadata": {
    "collapsed": true
   },
   "outputs": [],
   "source": [
    "import pandas as pd\n",
    "import datetime as dt\n",
    "import json\n",
    "from shapely.geometry import shape, Point\n",
    "from collections import OrderedDict"
   ]
  },
  {
   "cell_type": "markdown",
   "metadata": {},
   "source": [
    "## Geo data"
   ]
  },
  {
   "cell_type": "code",
   "execution_count": 2,
   "metadata": {
    "collapsed": true
   },
   "outputs": [],
   "source": [
    "def get_geo_data(filename):\n",
    "    path = r\"../geodata/\"\n",
    "    \n",
    "    with open(path+filename) as f:\n",
    "        return json.load(f)"
   ]
  },
  {
   "cell_type": "code",
   "execution_count": 3,
   "metadata": {
    "collapsed": true
   },
   "outputs": [],
   "source": [
    "def get_neighborhood_data():\n",
    "    geojson = get_geo_data('neighborhoods.geojson')\n",
    "    \n",
    "    neighborhoods = {}\n",
    "    for feature in geojson['features']:\n",
    "        neighborhoods[feature['properties']['nhood']] = shape(feature['geometry'])\n",
    "    \n",
    "    return neighborhoods"
   ]
  },
  {
   "cell_type": "code",
   "execution_count": 4,
   "metadata": {
    "collapsed": true
   },
   "outputs": [],
   "source": [
    "def get_census_tract_data():\n",
    "    geojson = get_geo_data('census-tracts.geojson')\n",
    "    \n",
    "    census_tracts = {}\n",
    "    for feature in geojson['features']:\n",
    "        census_tracts[feature['properties']['tractce10']] = shape(feature['geometry'])\n",
    "    \n",
    "    return census_tracts"
   ]
  },
  {
   "cell_type": "code",
   "execution_count": 5,
   "metadata": {
    "collapsed": true
   },
   "outputs": [],
   "source": [
    "def get_police_district_data():\n",
    "    geojson = get_geo_data('police-districts.geojson')\n",
    "    \n",
    "    police_districts = {}\n",
    "    for feature in geojson['features']:\n",
    "        police_districts[feature['properties']['district']] = shape(feature['geometry'])\n",
    "    \n",
    "    return police_districts"
   ]
  },
  {
   "cell_type": "code",
   "execution_count": 6,
   "metadata": {
    "collapsed": true
   },
   "outputs": [],
   "source": [
    "def get_hist_police_district_data():\n",
    "    geojson = get_geo_data('hist-police-districts.geojson')\n",
    "    \n",
    "    hist_police_districts = {}\n",
    "    for feature in geojson['features']:\n",
    "        hist_police_districts[feature['properties']['district']] = shape(feature['geometry'])\n",
    "    \n",
    "    return hist_police_districts"
   ]
  },
  {
   "cell_type": "markdown",
   "metadata": {},
   "source": [
    "## Robbery-Street"
   ]
  },
  {
   "cell_type": "code",
   "execution_count": 7,
   "metadata": {
    "collapsed": true
   },
   "outputs": [],
   "source": [
    "def open_raw_robbery_street():\n",
    "    path = r\"../rawdata/\"\n",
    "    filename = r\"robbery-street.csv\"\n",
    "    \n",
    "    conv = {\n",
    "        'date' : lambda x: dt.datetime.strptime(x,\"%Y-%m-%dT%H:%M:%S.%f\").date(),\n",
    "        'time' : lambda x: dt.datetime.strptime(x,\"%H:%M\").time()\n",
    "    }\n",
    "    \n",
    "    df = pd.read_csv(path+filename,converters = conv)\n",
    "    return df"
   ]
  },
  {
   "cell_type": "code",
   "execution_count": 8,
   "metadata": {
    "collapsed": false
   },
   "outputs": [
    {
     "name": "stdout",
     "output_type": "stream",
     "text": [
      "address       object\n",
      "date          object\n",
      "dayofweek     object\n",
      "descript      object\n",
      "time          object\n",
      "x            float64\n",
      "y            float64\n",
      "dtype: object\n"
     ]
    },
    {
     "data": {
      "text/html": [
       "<div>\n",
       "<table border=\"1\" class=\"dataframe\">\n",
       "  <thead>\n",
       "    <tr style=\"text-align: right;\">\n",
       "      <th></th>\n",
       "      <th>address</th>\n",
       "      <th>date</th>\n",
       "      <th>dayofweek</th>\n",
       "      <th>descript</th>\n",
       "      <th>time</th>\n",
       "      <th>x</th>\n",
       "      <th>y</th>\n",
       "    </tr>\n",
       "  </thead>\n",
       "  <tbody>\n",
       "    <tr>\n",
       "      <th>0</th>\n",
       "      <td>300 Block of FAXON AV</td>\n",
       "      <td>2010-10-17</td>\n",
       "      <td>Sunday</td>\n",
       "      <td>ROBBERY ON THE STREET, STRONGARM</td>\n",
       "      <td>19:30:00</td>\n",
       "      <td>-122.460291</td>\n",
       "      <td>37.720945</td>\n",
       "    </tr>\n",
       "    <tr>\n",
       "      <th>1</th>\n",
       "      <td>400 Block of NOE ST</td>\n",
       "      <td>2010-10-17</td>\n",
       "      <td>Sunday</td>\n",
       "      <td>ROBBERY ON THE STREET, STRONGARM</td>\n",
       "      <td>21:15:00</td>\n",
       "      <td>-122.432901</td>\n",
       "      <td>37.761417</td>\n",
       "    </tr>\n",
       "    <tr>\n",
       "      <th>2</th>\n",
       "      <td>1500 Block of SLOAT BL</td>\n",
       "      <td>2010-10-18</td>\n",
       "      <td>Monday</td>\n",
       "      <td>ATTEMPTED ROBBERY ON THE STREET WITH A KNIFE</td>\n",
       "      <td>09:05:00</td>\n",
       "      <td>-122.489714</td>\n",
       "      <td>37.733950</td>\n",
       "    </tr>\n",
       "    <tr>\n",
       "      <th>3</th>\n",
       "      <td>SILVER AV / VIENNA ST</td>\n",
       "      <td>2010-10-18</td>\n",
       "      <td>Monday</td>\n",
       "      <td>ROBBERY ON THE STREET, STRONGARM</td>\n",
       "      <td>18:07:00</td>\n",
       "      <td>-122.424198</td>\n",
       "      <td>37.728736</td>\n",
       "    </tr>\n",
       "    <tr>\n",
       "      <th>4</th>\n",
       "      <td>6900 Block of GEARY BL</td>\n",
       "      <td>2010-10-18</td>\n",
       "      <td>Monday</td>\n",
       "      <td>ATTEMPTED ROBBERY ON THE STREET WITH BODILY FORCE</td>\n",
       "      <td>17:55:00</td>\n",
       "      <td>-122.493845</td>\n",
       "      <td>37.779563</td>\n",
       "    </tr>\n",
       "  </tbody>\n",
       "</table>\n",
       "</div>"
      ],
      "text/plain": [
       "                  address        date dayofweek  \\\n",
       "0   300 Block of FAXON AV  2010-10-17    Sunday   \n",
       "1     400 Block of NOE ST  2010-10-17    Sunday   \n",
       "2  1500 Block of SLOAT BL  2010-10-18    Monday   \n",
       "3   SILVER AV / VIENNA ST  2010-10-18    Monday   \n",
       "4  6900 Block of GEARY BL  2010-10-18    Monday   \n",
       "\n",
       "                                            descript      time           x  \\\n",
       "0                   ROBBERY ON THE STREET, STRONGARM  19:30:00 -122.460291   \n",
       "1                   ROBBERY ON THE STREET, STRONGARM  21:15:00 -122.432901   \n",
       "2       ATTEMPTED ROBBERY ON THE STREET WITH A KNIFE  09:05:00 -122.489714   \n",
       "3                   ROBBERY ON THE STREET, STRONGARM  18:07:00 -122.424198   \n",
       "4  ATTEMPTED ROBBERY ON THE STREET WITH BODILY FORCE  17:55:00 -122.493845   \n",
       "\n",
       "           y  \n",
       "0  37.720945  \n",
       "1  37.761417  \n",
       "2  37.733950  \n",
       "3  37.728736  \n",
       "4  37.779563  "
      ]
     },
     "execution_count": 8,
     "metadata": {},
     "output_type": "execute_result"
    }
   ],
   "source": [
    "df = open_raw_robbery_street()\n",
    "print df.dtypes\n",
    "df.head(5)"
   ]
  },
  {
   "cell_type": "code",
   "execution_count": null,
   "metadata": {
    "collapsed": false
   },
   "outputs": [],
   "source": [
    "def xy_to_point(row):\n",
    "    return Point(row['x'],row['y'])\n",
    "\n",
    "def identify_regions(point):\n",
    "    \n",
    "    #d_get = OrderedDict([\n",
    "    #    ('nhood' , get_neighborhood_data()),\n",
    "    #    ('tractce10' , get_census_tract_data()),\n",
    "    #    ('police_district' , get_police_district_data()),\n",
    "    #    ('hist_police_district' , get_hist_police_district_data())\n",
    "    #    ])\n",
    "        \n",
    "    d_get = OrderedDict([('nhood' , get_neighborhood_data())])\n",
    "        \n",
    "    d_id = OrderedDict()\n",
    "    \n",
    "    \n",
    "    # Iterate through all region types\n",
    "    for region_type, region_dict in d_get.iteritems():\n",
    "        \n",
    "        found = False\n",
    "        \n",
    "        # Iterate through each region polygon\n",
    "        for region_id, polygon in region_dict.iteritems():\n",
    "            \n",
    "            # If found containing polygon\n",
    "            if polygon.contains(point):\n",
    "                found = True\n",
    "                d_id[region_type] = region_id\n",
    "        \n",
    "        # If not found, put None for that region type\n",
    "        if not found:\n",
    "            d_id[region_type] = None\n",
    "    \n",
    "    return pd.Series([value for key, value in d_id.iteritems()], \n",
    "                     index=[key for key,value in d_id.iteritems()])\n",
    "    "
   ]
  },
  {
   "cell_type": "code",
   "execution_count": null,
   "metadata": {
    "collapsed": false
   },
   "outputs": [],
   "source": [
    "temp = df.apply(xy_to_point,axis=1).apply(identify_regions)\n",
    "temp.head(5)"
   ]
  },
  {
   "cell_type": "code",
   "execution_count": null,
   "metadata": {
    "collapsed": true
   },
   "outputs": [],
   "source": []
  },
  {
   "cell_type": "code",
   "execution_count": null,
   "metadata": {
    "collapsed": true
   },
   "outputs": [],
   "source": []
  },
  {
   "cell_type": "code",
   "execution_count": null,
   "metadata": {
    "collapsed": true
   },
   "outputs": [],
   "source": []
  }
 ],
 "metadata": {
  "kernelspec": {
   "display_name": "Python 2",
   "language": "python",
   "name": "python2"
  },
  "language_info": {
   "codemirror_mode": {
    "name": "ipython",
    "version": 2
   },
   "file_extension": ".py",
   "mimetype": "text/x-python",
   "name": "python",
   "nbconvert_exporter": "python",
   "pygments_lexer": "ipython2",
   "version": "2.7.11"
  }
 },
 "nbformat": 4,
 "nbformat_minor": 0
}
