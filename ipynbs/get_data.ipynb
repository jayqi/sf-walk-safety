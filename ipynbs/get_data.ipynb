{
 "cells": [
  {
   "cell_type": "code",
   "execution_count": null,
   "metadata": {
    "collapsed": true
   },
   "outputs": [],
   "source": []
  },
  {
   "cell_type": "markdown",
   "metadata": {},
   "source": [
    "## Robbery Data"
   ]
  },
  {
   "cell_type": "code",
   "execution_count": 51,
   "metadata": {
    "collapsed": false
   },
   "outputs": [
    {
     "name": "stdout",
     "output_type": "stream",
     "text": [
      "mv data/robbery-street.csv data/robbery-street.csv.bk\n",
      "0\n",
      "url:  https://data.sfgov.org/resource/cuks-n6tp.csv?%24select=descript%2C+dayofweek%2C+date%2C+time%2C+address%2C+x%2C+y&%24where=category+%3D+%27ROBBERY%27+AND+descript+like+%27%25ON+THE+STREET%25%27&%24limit=100000\n",
      "command:  curl -o data/robbery-street.csv \"https://data.sfgov.org/resource/cuks-n6tp.csv?%24select=descript%2C+dayofweek%2C+date%2C+time%2C+address%2C+x%2C+y&%24where=category+%3D+%27ROBBERY%27+AND+descript+like+%27%25ON+THE+STREET%25%27&%24limit=100000\"\n",
      "0\n"
     ]
    }
   ],
   "source": [
    "import os\n",
    "filename = r'data/robbery-street.csv'\n",
    "\n",
    "# Move old file to backup\n",
    "movecommand = r'mv '+filename+' '+filename+'.bk'\n",
    "print movecommand\n",
    "print os.system(movecommand)\n",
    "\n",
    "# Get with curl\n",
    "url = r\"https://data.sfgov.org/resource/cuks-n6tp.csv?%24select=descript%2C+dayofweek%2C+date%2C+time%2C+address%2C+x%2C+y&%24where=category+%3D+%27ROBBERY%27+AND+descript+like+%27%25ON+THE+STREET%25%27&%24limit=100000\"\n",
    "print \"url: \", url\n",
    "curlcommand = r'curl -o ' + filename + ' ' + '\"' + url + '\"'\n",
    "print \"command: \", curlcommand\n",
    "print os.system(curlcommand)\n"
   ]
  },
  {
   "cell_type": "code",
   "execution_count": 29,
   "metadata": {
    "collapsed": false,
    "scrolled": true
   },
   "outputs": [
    {
     "name": "stdout",
     "output_type": "stream",
     "text": [
      "mv data/robbery-street.csv data/robbery-street.csv.bk\n",
      "https://data.sfgov.org/resource/cuks-n6tp.json?%24limit=100000&%24select=descript%2C+dayofweek%2C+date%2C+time%2C+address%2C+x%2C+y&%24where=category+%3D+%27ROBBERY%27+AND+descript+like+%27%25ON+THE+STREET%25%27\n",
      "None\n"
     ]
    }
   ],
   "source": [
    "import requests\n",
    "import os\n",
    "\n",
    "filename = r'data/robbery-street.csv'\n",
    "\n",
    "# Move old file to backup\n",
    "movecommand = r'mv '+filename+' '+filename+'.bk'\n",
    "print movecommand\n",
    "#print os.system(r'mv')\n",
    "\n",
    "# Define API endpoint and queries\n",
    "endpoint = \"https://data.sfgov.org/resource/cuks-n6tp.json\"\n",
    "queries = {\n",
    "    r\"$select\" : r\"descript, dayofweek, date, time, address, x, y\",\n",
    "    r\"$where\" : r\"category = 'ROBBERY' AND descript like '%ON THE STREET%'\",\n",
    "    r\"$limit\" : r\"100000\"\n",
    "}\n",
    "\n",
    "# Stream file\n",
    "with open(filename, 'wb') as f:\n",
    "    r = requests.get(endpoint,params=queries, stream=True)\n",
    "    print r.url\n",
    "    total = r.headers.get('content-length')\n",
    "    print total\n",
    "    \n",
    "    if not r.ok:\n",
    "        print 'failed'\n",
    "    \n",
    "    with open(filename, 'wb') as fd:\n",
    "        for chunk in r.iter_content(1024):\n",
    "            fd.write(chunk)\n",
    "\n",
    "\n"
   ]
  },
  {
   "cell_type": "code",
   "execution_count": null,
   "metadata": {
    "collapsed": true
   },
   "outputs": [],
   "source": []
  },
  {
   "cell_type": "code",
   "execution_count": null,
   "metadata": {
    "collapsed": true
   },
   "outputs": [],
   "source": []
  },
  {
   "cell_type": "code",
   "execution_count": null,
   "metadata": {
    "collapsed": true
   },
   "outputs": [],
   "source": []
  },
  {
   "cell_type": "code",
   "execution_count": null,
   "metadata": {
    "collapsed": true
   },
   "outputs": [],
   "source": []
  },
  {
   "cell_type": "code",
   "execution_count": 1,
   "metadata": {
    "collapsed": true
   },
   "outputs": [],
   "source": [
    "import pandas as pd\n",
    "\n",
    "df = pd.DataFrame.from_csv('../rawdata/theft-street.csv')"
   ]
  },
  {
   "cell_type": "code",
   "execution_count": 2,
   "metadata": {
    "collapsed": false
   },
   "outputs": [
    {
     "data": {
      "text/plain": [
       "(64962, 6)"
      ]
     },
     "execution_count": 2,
     "metadata": {},
     "output_type": "execute_result"
    }
   ],
   "source": [
    "df.shape"
   ]
  }
 ],
 "metadata": {
  "kernelspec": {
   "display_name": "Python 2",
   "language": "python",
   "name": "python2"
  },
  "language_info": {
   "codemirror_mode": {
    "name": "ipython",
    "version": 2
   },
   "file_extension": ".py",
   "mimetype": "text/x-python",
   "name": "python",
   "nbconvert_exporter": "python",
   "pygments_lexer": "ipython2",
   "version": "2.7.11"
  }
 },
 "nbformat": 4,
 "nbformat_minor": 0
}
