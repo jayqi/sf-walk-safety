{
 "cells": [
  {
   "cell_type": "code",
   "execution_count": 1,
   "metadata": {
    "collapsed": true
   },
   "outputs": [],
   "source": [
    "import pandas as pd\n",
    "import numpy as np\n",
    "import json"
   ]
  },
  {
   "cell_type": "code",
   "execution_count": 2,
   "metadata": {
    "collapsed": false
   },
   "outputs": [
    {
     "data": {
      "text/html": [
       "<div>\n",
       "<table border=\"1\" class=\"dataframe\">\n",
       "  <thead>\n",
       "    <tr style=\"text-align: right;\">\n",
       "      <th></th>\n",
       "      <th>IncidntNum</th>\n",
       "      <th>Category</th>\n",
       "      <th>Descript</th>\n",
       "      <th>DayOfWeek</th>\n",
       "      <th>Date</th>\n",
       "      <th>Time</th>\n",
       "      <th>PdDistrict</th>\n",
       "      <th>Resolution</th>\n",
       "      <th>Address</th>\n",
       "      <th>X</th>\n",
       "      <th>Y</th>\n",
       "      <th>Location</th>\n",
       "      <th>PdId</th>\n",
       "    </tr>\n",
       "  </thead>\n",
       "  <tbody>\n",
       "    <tr>\n",
       "      <th>0</th>\n",
       "      <td>160213624</td>\n",
       "      <td>ROBBERY</td>\n",
       "      <td>ROBBERY, BODILY FORCE</td>\n",
       "      <td>Sunday</td>\n",
       "      <td>03/13/2016</td>\n",
       "      <td>23:50</td>\n",
       "      <td>CENTRAL</td>\n",
       "      <td>NONE</td>\n",
       "      <td>VANNESS AV / NORTHPOINT ST</td>\n",
       "      <td>-122.425301</td>\n",
       "      <td>37.805077</td>\n",
       "      <td>(37.8050769933248, -122.425300930134)</td>\n",
       "      <td>16021362403074</td>\n",
       "    </tr>\n",
       "    <tr>\n",
       "      <th>1</th>\n",
       "      <td>160213599</td>\n",
       "      <td>ASSAULT</td>\n",
       "      <td>BATTERY</td>\n",
       "      <td>Sunday</td>\n",
       "      <td>03/13/2016</td>\n",
       "      <td>23:48</td>\n",
       "      <td>NORTHERN</td>\n",
       "      <td>NONE</td>\n",
       "      <td>1800 Block of FILBERT ST</td>\n",
       "      <td>-122.429951</td>\n",
       "      <td>37.798805</td>\n",
       "      <td>(37.7988051605065, -122.429951447549)</td>\n",
       "      <td>16021359904134</td>\n",
       "    </tr>\n",
       "    <tr>\n",
       "      <th>2</th>\n",
       "      <td>160213599</td>\n",
       "      <td>ASSAULT</td>\n",
       "      <td>AGGRAVATED ASSAULT WITH A KNIFE</td>\n",
       "      <td>Sunday</td>\n",
       "      <td>03/13/2016</td>\n",
       "      <td>23:48</td>\n",
       "      <td>NORTHERN</td>\n",
       "      <td>NONE</td>\n",
       "      <td>1800 Block of FILBERT ST</td>\n",
       "      <td>-122.429951</td>\n",
       "      <td>37.798805</td>\n",
       "      <td>(37.7988051605065, -122.429951447549)</td>\n",
       "      <td>16021359904012</td>\n",
       "    </tr>\n",
       "  </tbody>\n",
       "</table>\n",
       "</div>"
      ],
      "text/plain": [
       "   IncidntNum Category                         Descript DayOfWeek        Date  \\\n",
       "0   160213624  ROBBERY            ROBBERY, BODILY FORCE    Sunday  03/13/2016   \n",
       "1   160213599  ASSAULT                          BATTERY    Sunday  03/13/2016   \n",
       "2   160213599  ASSAULT  AGGRAVATED ASSAULT WITH A KNIFE    Sunday  03/13/2016   \n",
       "\n",
       "    Time PdDistrict Resolution                     Address           X  \\\n",
       "0  23:50    CENTRAL       NONE  VANNESS AV / NORTHPOINT ST -122.425301   \n",
       "1  23:48   NORTHERN       NONE    1800 Block of FILBERT ST -122.429951   \n",
       "2  23:48   NORTHERN       NONE    1800 Block of FILBERT ST -122.429951   \n",
       "\n",
       "           Y                               Location            PdId  \n",
       "0  37.805077  (37.8050769933248, -122.425300930134)  16021362403074  \n",
       "1  37.798805  (37.7988051605065, -122.429951447549)  16021359904134  \n",
       "2  37.798805  (37.7988051605065, -122.429951447549)  16021359904012  "
      ]
     },
     "execution_count": 2,
     "metadata": {},
     "output_type": "execute_result"
    }
   ],
   "source": [
    "data = pd.read_csv('../rawdata/SFPD_Incidents_-_from_1_January_2003.csv')\n",
    "data.head(3)"
   ]
  },
  {
   "cell_type": "code",
   "execution_count": 3,
   "metadata": {
    "collapsed": false,
    "scrolled": true
   },
   "outputs": [
    {
     "data": {
      "text/html": [
       "<div>\n",
       "<table border=\"1\" class=\"dataframe\">\n",
       "  <thead>\n",
       "    <tr style=\"text-align: right;\">\n",
       "      <th></th>\n",
       "      <th>IncidntNum</th>\n",
       "      <th>Category</th>\n",
       "      <th>Descript</th>\n",
       "      <th>DayOfWeek</th>\n",
       "      <th>Date</th>\n",
       "      <th>Time</th>\n",
       "      <th>PdDistrict</th>\n",
       "      <th>Resolution</th>\n",
       "      <th>Address</th>\n",
       "      <th>X</th>\n",
       "      <th>Y</th>\n",
       "      <th>Location</th>\n",
       "      <th>PdId</th>\n",
       "    </tr>\n",
       "  </thead>\n",
       "  <tbody>\n",
       "    <tr>\n",
       "      <th>18</th>\n",
       "      <td>160213527</td>\n",
       "      <td>ROBBERY</td>\n",
       "      <td>ROBBERY ON THE STREET, STRONGARM</td>\n",
       "      <td>Sunday</td>\n",
       "      <td>03/13/2016</td>\n",
       "      <td>22:40</td>\n",
       "      <td>MISSION</td>\n",
       "      <td>NONE</td>\n",
       "      <td>3400 Block of CESAR CHAVEZ ST</td>\n",
       "      <td>-122.419269</td>\n",
       "      <td>37.748032</td>\n",
       "      <td>(37.7480322172379, -122.419268840041)</td>\n",
       "      <td>16021352703014</td>\n",
       "    </tr>\n",
       "    <tr>\n",
       "      <th>284</th>\n",
       "      <td>160211496</td>\n",
       "      <td>ROBBERY</td>\n",
       "      <td>ROBBERY ON THE STREET WITH A DANGEROUS WEAPON</td>\n",
       "      <td>Saturday</td>\n",
       "      <td>03/12/2016</td>\n",
       "      <td>23:04</td>\n",
       "      <td>INGLESIDE</td>\n",
       "      <td>NONE</td>\n",
       "      <td>100 Block of NEY ST</td>\n",
       "      <td>-122.427180</td>\n",
       "      <td>37.730025</td>\n",
       "      <td>(37.730024796823, -122.427180210853)</td>\n",
       "      <td>16021149603013</td>\n",
       "    </tr>\n",
       "    <tr>\n",
       "      <th>543</th>\n",
       "      <td>160219224</td>\n",
       "      <td>ROBBERY</td>\n",
       "      <td>ROBBERY ON THE STREET, STRONGARM</td>\n",
       "      <td>Saturday</td>\n",
       "      <td>03/12/2016</td>\n",
       "      <td>02:55</td>\n",
       "      <td>INGLESIDE</td>\n",
       "      <td>NONE</td>\n",
       "      <td>3200 Block of MISSION ST</td>\n",
       "      <td>-122.420526</td>\n",
       "      <td>37.744725</td>\n",
       "      <td>(37.7447254713657, -122.420526309078)</td>\n",
       "      <td>16021922403014</td>\n",
       "    </tr>\n",
       "    <tr>\n",
       "      <th>574</th>\n",
       "      <td>160215608</td>\n",
       "      <td>ROBBERY</td>\n",
       "      <td>ROBBERY ON THE STREET, STRONGARM</td>\n",
       "      <td>Saturday</td>\n",
       "      <td>03/12/2016</td>\n",
       "      <td>01:00</td>\n",
       "      <td>CENTRAL</td>\n",
       "      <td>NONE</td>\n",
       "      <td>KEARNY ST / CLAY ST</td>\n",
       "      <td>-122.404799</td>\n",
       "      <td>37.794453</td>\n",
       "      <td>(37.7944525389481, -122.404799424951)</td>\n",
       "      <td>16021560803014</td>\n",
       "    </tr>\n",
       "    <tr>\n",
       "      <th>632</th>\n",
       "      <td>160208954</td>\n",
       "      <td>ROBBERY</td>\n",
       "      <td>ROBBERY ON THE STREET WITH A KNIFE</td>\n",
       "      <td>Friday</td>\n",
       "      <td>03/11/2016</td>\n",
       "      <td>21:40</td>\n",
       "      <td>CENTRAL</td>\n",
       "      <td>NONE</td>\n",
       "      <td>STOCKTON ST / PACIFIC AV</td>\n",
       "      <td>-122.408433</td>\n",
       "      <td>37.796704</td>\n",
       "      <td>(37.7967039278443, -122.408433097286)</td>\n",
       "      <td>16020895403012</td>\n",
       "    </tr>\n",
       "    <tr>\n",
       "      <th>917</th>\n",
       "      <td>160206362</td>\n",
       "      <td>ROBBERY</td>\n",
       "      <td>ROBBERY ON THE STREET, STRONGARM</td>\n",
       "      <td>Friday</td>\n",
       "      <td>03/11/2016</td>\n",
       "      <td>02:00</td>\n",
       "      <td>TENDERLOIN</td>\n",
       "      <td>NONE</td>\n",
       "      <td>TURK ST / LEAVENWORTH ST</td>\n",
       "      <td>-122.414056</td>\n",
       "      <td>37.782793</td>\n",
       "      <td>(37.7827931071006, -122.414056291891)</td>\n",
       "      <td>16020636203014</td>\n",
       "    </tr>\n",
       "  </tbody>\n",
       "</table>\n",
       "</div>"
      ],
      "text/plain": [
       "     IncidntNum Category                                       Descript  \\\n",
       "18    160213527  ROBBERY               ROBBERY ON THE STREET, STRONGARM   \n",
       "284   160211496  ROBBERY  ROBBERY ON THE STREET WITH A DANGEROUS WEAPON   \n",
       "543   160219224  ROBBERY               ROBBERY ON THE STREET, STRONGARM   \n",
       "574   160215608  ROBBERY               ROBBERY ON THE STREET, STRONGARM   \n",
       "632   160208954  ROBBERY             ROBBERY ON THE STREET WITH A KNIFE   \n",
       "917   160206362  ROBBERY               ROBBERY ON THE STREET, STRONGARM   \n",
       "\n",
       "    DayOfWeek        Date   Time  PdDistrict Resolution  \\\n",
       "18     Sunday  03/13/2016  22:40     MISSION       NONE   \n",
       "284  Saturday  03/12/2016  23:04   INGLESIDE       NONE   \n",
       "543  Saturday  03/12/2016  02:55   INGLESIDE       NONE   \n",
       "574  Saturday  03/12/2016  01:00     CENTRAL       NONE   \n",
       "632    Friday  03/11/2016  21:40     CENTRAL       NONE   \n",
       "917    Friday  03/11/2016  02:00  TENDERLOIN       NONE   \n",
       "\n",
       "                           Address           X          Y  \\\n",
       "18   3400 Block of CESAR CHAVEZ ST -122.419269  37.748032   \n",
       "284            100 Block of NEY ST -122.427180  37.730025   \n",
       "543       3200 Block of MISSION ST -122.420526  37.744725   \n",
       "574            KEARNY ST / CLAY ST -122.404799  37.794453   \n",
       "632       STOCKTON ST / PACIFIC AV -122.408433  37.796704   \n",
       "917       TURK ST / LEAVENWORTH ST -122.414056  37.782793   \n",
       "\n",
       "                                  Location            PdId  \n",
       "18   (37.7480322172379, -122.419268840041)  16021352703014  \n",
       "284   (37.730024796823, -122.427180210853)  16021149603013  \n",
       "543  (37.7447254713657, -122.420526309078)  16021922403014  \n",
       "574  (37.7944525389481, -122.404799424951)  16021560803014  \n",
       "632  (37.7967039278443, -122.408433097286)  16020895403012  \n",
       "917  (37.7827931071006, -122.414056291891)  16020636203014  "
      ]
     },
     "execution_count": 3,
     "metadata": {},
     "output_type": "execute_result"
    }
   ],
   "source": [
    "robbery_street = data[(data.Category == 'ROBBERY') & data.Descript.str.contains(\"ON THE STREET\") ]\n",
    "robbery_street.head(6)"
   ]
  },
  {
   "cell_type": "code",
   "execution_count": 7,
   "metadata": {
    "collapsed": false
   },
   "outputs": [
    {
     "data": {
      "text/plain": [
       "(25070, 13)"
      ]
     },
     "execution_count": 7,
     "metadata": {},
     "output_type": "execute_result"
    }
   ],
   "source": [
    "robbery_street.shape"
   ]
  },
  {
   "cell_type": "code",
   "execution_count": 4,
   "metadata": {
    "collapsed": true
   },
   "outputs": [],
   "source": [
    "# http://geoffboeing.com/2015/10/exporting-python-data-geojson/\n",
    "\n",
    "def df_to_geojson(df, properties, lat='latitude', lon='longitude'):\n",
    "    geojson = {'type':'FeatureCollection', 'features':[]}\n",
    "    for _, row in df.iterrows():\n",
    "        feature = {'type':'Feature',\n",
    "                   'properties':{},\n",
    "                   'geometry':{'type':'Point',\n",
    "                               'coordinates':[]}}\n",
    "        feature['geometry']['coordinates'] = [row[lon],row[lat]]\n",
    "        for prop in properties:\n",
    "            feature['properties'][prop] = row[prop]\n",
    "        geojson['features'].append(feature)\n",
    "    return geojson"
   ]
  },
  {
   "cell_type": "code",
   "execution_count": 8,
   "metadata": {
    "collapsed": false
   },
   "outputs": [],
   "source": [
    "cols = ['Date', 'Time', 'Descript']\n",
    "\n",
    "# Max is 25070\n",
    "rows_to_file = 25070\n",
    "\n",
    "geojson = df_to_geojson(robbery_street[:rows_to_file], cols,lat='Y',lon='X')\n",
    "\n",
    "output_filename = 'robbery-street'+str(rows_to_file)+'.js'\n",
    "with open(output_filename, 'wb') as output_file:\n",
    "    output_file.write('var dataset = ')\n",
    "    json.dump(geojson, output_file, indent=4) "
   ]
  },
  {
   "cell_type": "code",
   "execution_count": 9,
   "metadata": {
    "collapsed": true
   },
   "outputs": [],
   "source": [
    "# Write to csv\n",
    "\n",
    "cols = ['Date', 'Time', 'Descript', 'X', 'Y']\n",
    "\n",
    "# Max is 25070\n",
    "rows_to_file = 25070\n",
    "\n",
    "robbery_street.to_csv('robbery-street'+str(rows_to_file)+'.csv',sep='|',index=False,columns = cols)"
   ]
  }
 ],
 "metadata": {
  "kernelspec": {
   "display_name": "Python 2",
   "language": "python",
   "name": "python2"
  },
  "language_info": {
   "codemirror_mode": {
    "name": "ipython",
    "version": 2
   },
   "file_extension": ".py",
   "mimetype": "text/x-python",
   "name": "python",
   "nbconvert_exporter": "python",
   "pygments_lexer": "ipython2",
   "version": "2.7.11"
  }
 },
 "nbformat": 4,
 "nbformat_minor": 0
}
